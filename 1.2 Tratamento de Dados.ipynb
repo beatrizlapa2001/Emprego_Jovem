{
 "cells": [
  {
   "cell_type": "markdown",
   "id": "99e904fc-dcfe-4762-a062-8ff14cb11e2e",
   "metadata": {},
   "source": [
    "# <font color='darkred'>Tese de Mestrado</font>\n",
    "## Tratamento de Dados\n",
    "- Trabalhadores em apenas 1 empresa;\n",
    "- Desinflação;\n",
    "- Tratamento de variáveis e do tipo das mesmas."
   ]
  },
  {
   "cell_type": "code",
   "execution_count": null,
   "id": "f6ff2e4e-fa26-4d08-bd4c-767645ab71fa",
   "metadata": {},
   "outputs": [],
   "source": [
    "# Importação de bibliotecas\n",
    "import pandas as pd\n",
    "import numpy as np\n",
    "import matplotlib.pyplot as plt\n",
    "import warnings\n",
    "warnings.filterwarnings(\"ignore\")"
   ]
  },
  {
   "cell_type": "code",
   "execution_count": null,
   "id": "06debf32-599b-4279-9c0a-d8372f842919",
   "metadata": {},
   "outputs": [],
   "source": [
    "df = pd.read_excel('dataset_final.xlsx')\n",
    "df.head(2)"
   ]
  },
  {
   "cell_type": "code",
   "execution_count": null,
   "id": "f725b012-90c0-45e1-9f22-83608420748b",
   "metadata": {},
   "outputs": [],
   "source": [
    "df.shape"
   ]
  },
  {
   "cell_type": "markdown",
   "id": "d21568b2-1ef8-4ff7-97b8-0750e1ad1ece",
   "metadata": {},
   "source": [
    "#### Considerar Trabalhadores que estão apenas numa 1 empresa"
   ]
  },
  {
   "cell_type": "code",
   "execution_count": null,
   "id": "7f28d840-1a7f-4611-aa97-bc626906fa05",
   "metadata": {},
   "outputs": [],
   "source": [
    "df_filtrado = df[~df.apply(lambda row: row.astype(str).str.contains('\\|').any(), axis=1)]\n",
    "df_filtrado.shape"
   ]
  },
  {
   "cell_type": "markdown",
   "id": "84df3a9f-2e61-4156-baf6-4aab6f86e054",
   "metadata": {},
   "source": [
    "Numa amostra inicial de 198 019 trabalhadores, serão considerados 180 720, o que corresponde a aproximadamente 91,24%. Posto isto, **8,76% dos trabalhadores** foram **excluídos** por estarem em mais do que uma empresa ao mesmo tempo."
   ]
  },
  {
   "cell_type": "markdown",
   "id": "53bc06ac-0210-4c5b-b386-c5dd89f7a414",
   "metadata": {},
   "source": [
    "#### Correção do Tipo de Variáveis\n",
    "- Existem variáveis como a nuemp que estão com 652540.0 por isso, serão identificados todos estes casos e eliminado o .0."
   ]
  },
  {
   "cell_type": "code",
   "execution_count": null,
   "id": "62d36b75-add9-417b-b2dd-1abb51bc4675",
   "metadata": {},
   "outputs": [],
   "source": [
    "int_0 = df_filtrado['nuemp_10'].value_counts()\n",
    "int_0"
   ]
  },
  {
   "cell_type": "code",
   "execution_count": null,
   "id": "30ad72e3-4140-4492-9345-31184f417e0e",
   "metadata": {},
   "outputs": [],
   "source": [
    "colunas_objeto = df_filtrado.select_dtypes(include=['object']).columns\n",
    "colunas_interesse = [col for col in colunas_objeto if not col.startswith('caem1l_')]\n",
    "\n",
    "# Função para remover \".0\" de valores numéricos representados como strings\n",
    "def remover_sufixo_decimal(value):\n",
    "    if isinstance(value, str) and value.endswith('.0'):\n",
    "        return value[:-2]  # Remove os últimos dois caracteres (\".0\")\n",
    "    return value\n",
    "\n",
    "for col in colunas_interesse:\n",
    "    df_filtrado[col] = df_filtrado[col].apply(remover_sufixo_decimal)"
   ]
  },
  {
   "cell_type": "code",
   "execution_count": null,
   "id": "7290fa08-ae98-4770-a037-f9df030338f2",
   "metadata": {},
   "outputs": [],
   "source": [
    "int_0 = df_filtrado['nuemp_10'].value_counts()\n",
    "int_0"
   ]
  },
  {
   "cell_type": "markdown",
   "id": "d32bedfa-2fda-4ec9-aabc-af33fe8a8188",
   "metadata": {},
   "source": [
    "#### Desinflacionar as variáveis \"rganho\"\n",
    "- Com vista a garantir uma uniformização dos salários ao longo dos anos, torna-se crucial desinflacionar os ganhos;\n",
    "- O ano de 2012 será considerado como ano base para todos os cálculos;\n",
    "- O Índice de Preço do Consumidor será o aplicado em Portugal."
   ]
  },
  {
   "cell_type": "code",
   "execution_count": null,
   "id": "53ecff0b-da04-42e7-84c7-4a860e3ed313",
   "metadata": {},
   "outputs": [],
   "source": [
    "df_ganho = df_filtrado.copy()\n",
    "\n",
    "# IPC para cada ano\n",
    "ipc = {\n",
    "    2009: 92.574,\n",
    "    2010: 93.872,\n",
    "    2011: 97.302,\n",
    "    2012: 100.000,\n",
    "    2013: 100.274,\n",
    "    2014: 99.996,\n",
    "    2015: 100.483,\n",
    "    2016: 101.094,\n",
    "    2017: 102.477,\n",
    "    2018: 103.496,\n",
    "    2019: 103.846\n",
    "}\n",
    "\n",
    "# Índice base para 2012\n",
    "base_ipc = ipc[2012]\n",
    "\n",
    "# Função para desinflacionar\n",
    "def desinflacionar(valor, year):\n",
    "    try:\n",
    "        valor_float = float(valor)\n",
    "        return round(valor_float * (base_ipc / ipc[year]), 2)\n",
    "    except ValueError:\n",
    "        # Devolve o valor original se não for possível converter para float (ex: \"Não Trabalhou\")\n",
    "        return valor\n",
    "\n",
    "# Aplicar a desinflação para cada ano\n",
    "for year in range(2009, 2020):\n",
    "    rganho_column = f'rganho_{str(year)[2:]}'\n",
    "    \n",
    "    # Verifica se a coluna existe no DataFrame\n",
    "    if rganho_column in df_ganho.columns:\n",
    "        df_ganho[rganho_column] = df_ganho[rganho_column].apply(lambda x: desinflacionar(x, year) if pd.notnull(x) else x)\n",
    "\n",
    "df_ganho.head()"
   ]
  },
  {
   "cell_type": "code",
   "execution_count": null,
   "id": "dc58d534-08c0-4fff-b4d4-45659a9eac87",
   "metadata": {},
   "outputs": [],
   "source": [
    "df_ganho.shape"
   ]
  },
  {
   "cell_type": "code",
   "execution_count": null,
   "id": "cacd034c-fdf0-43c5-8752-76804a84a830",
   "metadata": {},
   "outputs": [],
   "source": [
    "pd.set_option('display.max_rows', None)\n",
    "pd.set_option('display.max_columns', None)\n",
    "\n",
    "# Número de NaNs em cada coluna\n",
    "nans_count = df_ganho.isna().sum()\n",
    "\n",
    "# Filtrar para mostrar apenas as colunas com valores diferentes de 0\n",
    "nans_count_non_zero = nans_count[nans_count != 0]\n",
    "nans_count_non_zero"
   ]
  },
  {
   "cell_type": "markdown",
   "id": "d12f9500-b71d-4418-9d5e-84bd762dba5f",
   "metadata": {},
   "source": [
    "#### Coluna rganho/total de horas\n",
    "De forma a comparar o rganho entre trabalhadores, torna-se crucial perceber o rganho por hora trabalhada. \n",
    "A primeira condição df_rganho_h[rganho_col] == \"Não Trabalhou\" verifica se o valor é \"Não Trabalhou\". Se for, a nova coluna rganho_h_ recebe \"Não Trabalhou\".\n",
    "A segunda condição df_rganho_h[rganho_col].isna() verifica se o valor é NaN. Se for, rganho_h_ também será NaN.\n",
    "Cálculo com Horas Normais (hnormais) e Extras (hextra):\n",
    "\n",
    "Se hnormais for NaN, rganho_h_ é automaticamente NaN (conforme tua segunda regra).\n",
    "Se hextra for NaN, o cálculo de rganho_h_ usa apenas hnormais.\n",
    "Se ambos hnormais e hextra não forem NaN, o cálculo usa a soma de ambos."
   ]
  },
  {
   "cell_type": "code",
   "execution_count": null,
   "id": "9796c0c0-e3fe-4097-96c7-59d87b42af23",
   "metadata": {},
   "outputs": [],
   "source": [
    "df_rganho_h = df_ganho.copy()\n",
    "for year in range(9, 20):\n",
    "    rganho_col = f'rganho_{year:02d}'\n",
    "    hnormais_col = f'hnormais_{year:02d}'\n",
    "    hextra_col = f'hextra_{year:02d}'\n",
    "    rganho_h_col = f'rganho_h_{year:02d}'\n",
    "    \n",
    "    # Conversão para numérico das horas normais e extras\n",
    "    hnormais = pd.to_numeric(df_rganho_h[hnormais_col], errors='coerce')\n",
    "    hextra = pd.to_numeric(df_rganho_h[hextra_col], errors='coerce')\n",
    "    rganho = pd.to_numeric(df_rganho_h[rganho_col], errors='coerce')\n",
    "    \n",
    "    # Soma de horas normais e extras\n",
    "    total_horas = hnormais.fillna(0) + hextra.fillna(0)\n",
    "    \n",
    "    # Lógica de cálculo\n",
    "    df_rganho_h[rganho_h_col] = np.where(\n",
    "        df_rganho_h[rganho_col] == \"Não Trabalhou\",\n",
    "        \"Não Trabalhou\",\n",
    "        np.where(\n",
    "            df_rganho_h[rganho_col].isna(),\n",
    "            df_rganho_h[rganho_col],  # Mantém o valor original de rganho_col se for NaN\n",
    "            np.where(\n",
    "                hnormais.isna(),  # Se hnormais for NaN\n",
    "                df_rganho_h[hnormais_col],  # Mantém o valor original de hnormais_col\n",
    "                np.where(\n",
    "                    total_horas == 0,  # Se total de horas for 0, define como 0\n",
    "                    0,\n",
    "                    (rganho / total_horas).round(2)  # Caso contrário, faz o cálculo\n",
    "                )\n",
    "            )\n",
    "        )\n",
    "    )\n",
    "df_rganho_h.head()"
   ]
  },
  {
   "cell_type": "code",
   "execution_count": null,
   "id": "a9e4301a-944a-42d5-9d54-6eddbd62b646",
   "metadata": {},
   "outputs": [],
   "source": [
    "colunas = df_rganho_h.columns.tolist()\n",
    "novas_colunas = []\n",
    "\n",
    "colunas_fixas = ['ntrab', 'sexo', 'ano_nascimento']\n",
    "novas_colunas.extend(colunas_fixas)\n",
    "\n",
    "for year in range(9, 20):\n",
    "    prefixo_colunas = [col for col in colunas if col.endswith(f'_{year:02d}') and not col.startswith('rganho_h')]\n",
    "    rganho_h_col = f'rganho_h_{year:02d}'\n",
    "    novas_colunas.extend(prefixo_colunas)\n",
    "    if rganho_h_col in colunas:\n",
    "        novas_colunas.append(rganho_h_col)\n",
    "\n",
    "colunas_restantes = [col for col in colunas if col not in novas_colunas]\n",
    "novas_colunas.extend(colunas_restantes)\n",
    "\n",
    "df_rganho_h = df_rganho_h[novas_colunas]\n",
    "df_rganho_h.head()"
   ]
  },
  {
   "cell_type": "code",
   "execution_count": null,
   "id": "8542daf0-4161-41ca-b6ef-2e4958f182aa",
   "metadata": {},
   "outputs": [],
   "source": [
    "with pd.option_context('display.max_columns', None):\n",
    "    print(df_rganho_h.columns.tolist())"
   ]
  },
  {
   "cell_type": "code",
   "execution_count": null,
   "id": "07a832fd-0403-4d08-944e-6ff3808d177e",
   "metadata": {},
   "outputs": [],
   "source": [
    "df_rganho_h.shape"
   ]
  },
  {
   "cell_type": "code",
   "execution_count": null,
   "id": "78fecaf9-05a3-4349-a8a1-81ea3ffb3aa0",
   "metadata": {},
   "outputs": [],
   "source": [
    "pd.set_option('display.max_rows', None)\n",
    "pd.set_option('display.max_columns', None)\n",
    "\n",
    "# Número de NaNs em cada coluna\n",
    "nans_count = df_rganho_h.isna().sum()\n",
    "\n",
    "# Filtrar para mostrar apenas as colunas com valores diferentes de 0\n",
    "nans_count_non_zero = nans_count[nans_count != 0]\n",
    "nans_count_non_zero"
   ]
  },
  {
   "cell_type": "markdown",
   "id": "8a7279dd-12ab-43f2-b2ca-5a6a5907bbe9",
   "metadata": {},
   "source": [
    "#### Tratamento das variáveis rganho_h_"
   ]
  },
  {
   "cell_type": "code",
   "execution_count": null,
   "id": "745afb41-297c-4e2c-8a0f-edafeaec2e40",
   "metadata": {},
   "outputs": [],
   "source": [
    "rganho_h_cols = [col for col in df_rganho_h.columns if col.startswith('rganho_h_')]\n",
    "\n",
    "df_ganho_filtrado_temp = df_rganho_h.copy()\n",
    "\n",
    "for col in rganho_h_cols:\n",
    "    df_ganho_filtrado_temp[col] = pd.to_numeric(df_ganho_filtrado_temp[col].replace(\"Não Trabalhou\", np.nan), errors='coerce')\n",
    "\n",
    "# Box Plot\n",
    "plt.figure(figsize=(15, 8))\n",
    "df_ganho_filtrado_temp.boxplot(column=rganho_h_cols)\n",
    "plt.title('Box Plot dos Ganhos por Hora por Ano (Sem Outliers)')\n",
    "plt.xlabel('Ano')\n",
    "plt.ylabel('Ganho por Hora')\n",
    "plt.xticks(rotation=45)\n",
    "plt.show()"
   ]
  },
  {
   "cell_type": "code",
   "execution_count": null,
   "id": "6e46f032-d6b7-4e01-a168-be682494ca00",
   "metadata": {},
   "outputs": [],
   "source": [
    "outliers = {}\n",
    "\n",
    "for col in rganho_h_cols:\n",
    "    col_values = pd.to_numeric(df_rganho_h[col].replace(\"Não Trabalhou\", np.nan), errors='coerce')\n",
    "    \n",
    "    # Limites de 0,5% inferior e superior\n",
    "    lower_limit = col_values.quantile(0.005)\n",
    "    upper_limit = col_values.quantile(0.995)\n",
    "    \n",
    "    # Identifica os outliers\n",
    "    outliers_mask = (col_values < lower_limit) | (col_values > upper_limit)\n",
    "    outliers[col] = df_rganho_h[outliers_mask]\n",
    "    num_outliers = outliers[col].shape[0]\n",
    "    \n",
    "    print(f\"{col}: {num_outliers} trabalhadores com outliers.\")"
   ]
  },
  {
   "cell_type": "code",
   "execution_count": null,
   "id": "0e7d4a25-ce48-47ba-8194-558594d994e3",
   "metadata": {},
   "outputs": [],
   "source": [
    "df_ganho_filtrado_temp = df_rganho_h.copy()\n",
    "\n",
    "for col in rganho_h_cols:\n",
    "    df_ganho_filtrado_temp[col] = pd.to_numeric(df_ganho_filtrado_temp[col].replace(\"Não Trabalhou\", np.nan), errors='coerce')\n",
    "\n",
    "\n",
    "for col in rganho_h_cols:\n",
    "    col_values = df_ganho_filtrado_temp[col].dropna()\n",
    "    lower_limit = col_values.quantile(0.005)\n",
    "    upper_limit = col_values.quantile(0.995)\n",
    "    \n",
    "    df_ganho_filtrado_temp[col] = np.where((df_ganho_filtrado_temp[col] < lower_limit) | (df_ganho_filtrado_temp[col] > upper_limit), np.nan, df_ganho_filtrado_temp[col])\n",
    "\n",
    "# Box Plot\n",
    "plt.figure(figsize=(15, 8))\n",
    "df_ganho_filtrado_temp.boxplot(column=rganho_h_cols)\n",
    "plt.title('Box Plot dos Ganhos por Hora por Ano (Sem Outliers)')\n",
    "plt.xlabel('Ano')\n",
    "plt.ylabel('Ganho por Hora')\n",
    "plt.xticks(rotation=45)\n",
    "plt.show()"
   ]
  },
  {
   "cell_type": "code",
   "execution_count": null,
   "id": "09fee804-ab66-4a3f-9b8c-ed485a26b863",
   "metadata": {},
   "outputs": [],
   "source": [
    "df_outliers = pd.DataFrame(index=df_rganho_h.index)\n",
    "\n",
    "for col in rganho_h_cols:\n",
    "    col_values = pd.to_numeric(df_rganho_h[col].replace(\"Não Trabalhou\", np.nan), errors='coerce')\n",
    "    \n",
    "    # Limites de 0,5% inferior e superior\n",
    "    lower_limit = col_values.quantile(0.005)\n",
    "    upper_limit = col_values.quantile(0.995)\n",
    "    \n",
    "    df_outliers[col] = (col_values < lower_limit) | (col_values > upper_limit)\n",
    "\n",
    "df_ganho_h_final = df_rganho_h.copy()\n",
    "\n",
    "df_ganho_h_final = df_ganho_h_final[~df_outliers.any(axis=1)]\n",
    "\n",
    "# Nº  trabalhadores  eliminados\n",
    "num_trabalhadores_perdidos = df_rganho_h.shape[0] - df_ganho_h_final.shape[0]\n",
    "\n",
    "print(f\"Foram eliminados {num_trabalhadores_perdidos} trabalhadores por terem pelo menos um outlier.\")"
   ]
  },
  {
   "cell_type": "code",
   "execution_count": null,
   "id": "6573f685-b70c-4fa7-8b6a-09c013a37392",
   "metadata": {},
   "outputs": [],
   "source": [
    "df_ganho_h_final.shape"
   ]
  },
  {
   "cell_type": "markdown",
   "id": "4fb0cb9d-c79e-44a8-8939-2a2c6e4df676",
   "metadata": {},
   "source": [
    "Após a eliminação dos outliers desta variável, foi **eliminado** cerca de **0,93% do dataframe**."
   ]
  },
  {
   "cell_type": "markdown",
   "id": "38f03f37-55cc-49d3-a3cd-eaff4218af11",
   "metadata": {},
   "source": [
    "#### Conversão do CAE para Númerico\n",
    "- O CAE contém letras de A a U. Para facilitar o desenvolvimento de Modelos, estas colunas serão convertidas para numéricas, sendo que os números serão sequênciais respeitando a mesma ordem das letras."
   ]
  },
  {
   "cell_type": "code",
   "execution_count": null,
   "id": "a35dd31b-9ffe-42f0-94ab-65e13f4f8258",
   "metadata": {},
   "outputs": [],
   "source": [
    "df_cae = df_ganho_h_final.copy()"
   ]
  },
  {
   "cell_type": "code",
   "execution_count": null,
   "id": "0f936eed-6152-42ba-aaca-ea4837accd1b",
   "metadata": {},
   "outputs": [],
   "source": [
    "caem1l_columns = [col for col in df_cae.columns if col.startswith('caem1l_')]\n",
    "unique_values_set = set()\n",
    "for col in caem1l_columns:\n",
    "    unique_values_set.update(df_ganho[col].unique())\n",
    "\n",
    "unique_values_list = list(unique_values_set)\n",
    "\n",
    "print(f\"Valores únicos nas colunas que começam com 'prof_3d': {unique_values_list}\")"
   ]
  },
  {
   "cell_type": "code",
   "execution_count": null,
   "id": "0a98105f-f4a4-4e4e-8618-883e220e92a4",
   "metadata": {},
   "outputs": [],
   "source": [
    "# Conversão de letras para números\n",
    "mapping = {chr(i): i - 64 for i in range(65, 91)}  # Mapeia 'A' a 'Z' para 1 a 26\n",
    "\n",
    "for col in caem1l_columns:\n",
    "    df_cae[col] = df_cae[col].replace(mapping)"
   ]
  },
  {
   "cell_type": "code",
   "execution_count": null,
   "id": "004d0b09-3380-4c42-8f6b-1a1f634b03d3",
   "metadata": {},
   "outputs": [],
   "source": [
    "df_cae.head(2)"
   ]
  },
  {
   "cell_type": "markdown",
   "id": "d17b1043-4599-431d-b8e9-f8e37885ff46",
   "metadata": {},
   "source": [
    "#### Tratamento da Profissão\n",
    "- A variável prof_3d contém um valor não numérico R99 (Ignorada) pelo que será substituído por em 9999."
   ]
  },
  {
   "cell_type": "code",
   "execution_count": null,
   "id": "3e82c146-7f5c-4ce6-a345-efd33f739f5c",
   "metadata": {},
   "outputs": [],
   "source": [
    "df_prof = df_cae.copy()"
   ]
  },
  {
   "cell_type": "code",
   "execution_count": null,
   "id": "a0efd2e1-fc20-472e-9919-25595316f199",
   "metadata": {},
   "outputs": [],
   "source": [
    "prof_3d_columns = [col for col in df_prof.columns if col.startswith('prof_3d_')]\n",
    "\n",
    "unique_values_set = set()\n",
    "for col in prof_3d_columns:\n",
    "    unique_values_set.update(df_prof[col].unique())\n",
    "\n",
    "unique_values_list = list(unique_values_set)\n",
    "\n",
    "# Verificar se 'R99' está na lista de valores únicos\n",
    "contains_R99 = 'R99' in unique_values_list\n",
    "print(f\"Contém 'R99': {contains_R99}\")"
   ]
  },
  {
   "cell_type": "code",
   "execution_count": null,
   "id": "65da1a88-c378-4608-a47c-9a6adf3691c5",
   "metadata": {},
   "outputs": [],
   "source": [
    "# Substituir 'R99' por '99' em cada uma das colunas prof_3d\n",
    "for col in prof_3d_columns:\n",
    "    df_prof[col] = df_prof[col].replace('R99', '9999')"
   ]
  },
  {
   "cell_type": "markdown",
   "id": "530ac072-8219-490e-9886-cd2739cf3ea9",
   "metadata": {},
   "source": [
    "- A partir do ano de 2010 houve uma resstruturação no armazenamento da informação. As categorias das profissões foram alteradas. Posto isto, consideroou-se crucial encontrar uma correspondência dos valores de 2009 tendo base as categorias definidas em 2010"
   ]
  },
  {
   "cell_type": "code",
   "execution_count": null,
   "id": "f1e47822-c576-44af-ab53-1bd0cbe56053",
   "metadata": {},
   "outputs": [],
   "source": [
    "df_prof_09_10 = pd.read_excel('prof_09_10.xlsx')\n",
    "df_prof_09_10.head(2)"
   ]
  },
  {
   "cell_type": "code",
   "execution_count": null,
   "id": "5f691b17-faad-4f6c-9a3d-1eefc4c32f71",
   "metadata": {},
   "outputs": [],
   "source": [
    "df_prof_09_10.dtypes"
   ]
  },
  {
   "cell_type": "code",
   "execution_count": null,
   "id": "f451f5dc-cdf6-44f6-9175-dde7cd0807f6",
   "metadata": {},
   "outputs": [],
   "source": [
    "df_prof_09_10['2009'] = pd.to_numeric(df_prof_09_10['2009'], errors='coerce').fillna(0).astype(int)\n",
    "df_prof_09_10['2010'] = pd.to_numeric(df_prof_09_10['2010'], errors='coerce').fillna(0).astype(int)\n",
    "df_prof_09_10.dtypes"
   ]
  },
  {
   "cell_type": "code",
   "execution_count": null,
   "id": "bac2c677-050f-4af2-8ddb-4ab9f00eb2f9",
   "metadata": {},
   "outputs": [],
   "source": [
    "df_prof_09_10.head(2)"
   ]
  },
  {
   "cell_type": "code",
   "execution_count": null,
   "id": "8cbe78fa-7359-478f-9796-547e984b2c4c",
   "metadata": {},
   "outputs": [],
   "source": [
    "mapping_2009_to_2010 = dict(zip(df_prof_09_10['2009'], df_prof_09_10['2010']))\n",
    "\n",
    "df_prof['prof_3d_09'] = df_prof['prof_3d_09'].map(mapping_2009_to_2010).fillna(df_prof['prof_3d_09'])"
   ]
  },
  {
   "cell_type": "code",
   "execution_count": null,
   "id": "a6c7c3f8-e385-4ca3-a896-f81bbac1aa1d",
   "metadata": {},
   "outputs": [],
   "source": [
    "filtered_df = df_prof[df_prof['prof_3d_09'].isin([743, 914, 915])]\n",
    "\n",
    "count_filtered = filtered_df.shape[0]\n",
    "print(f\"Existem {count_filtered} linhas na coluna 'prof_3d_09' com os valores 743, 914 ou 915.\")"
   ]
  },
  {
   "cell_type": "code",
   "execution_count": null,
   "id": "a35dd754-0bd6-48de-ab85-dfcd9f97db7a",
   "metadata": {},
   "outputs": [],
   "source": [
    "def convert_to_numeric(value):\n",
    "    try:\n",
    "        return pd.to_numeric(value, errors='coerce')  # Usa 'coerce' para transformar strings não numéricas em NaN\n",
    "    except ValueError:\n",
    "        return value \n",
    "\n",
    "# Identifica as colunas de tipo objeto\n",
    "object_columns = df_prof.select_dtypes(include=['object']).columns\n",
    "\n",
    "for col in object_columns:\n",
    "    # Aplica a função de conversão apenas em valores diferentes de \"Não Trabalhou\"\n",
    "    df_prof[col] = df_prof[col].apply(lambda x: convert_to_numeric(x) if x != 'Não Trabalhou' else x)\n",
    "\n",
    "df_prof.head()"
   ]
  },
  {
   "cell_type": "markdown",
   "id": "d5330b56-0bbf-435e-b382-baf67d2706c7",
   "metadata": {},
   "source": [
    "#### Exportar o Dataset Final Tratado "
   ]
  },
  {
   "cell_type": "code",
   "execution_count": null,
   "id": "8dd733eb-3060-4378-a94f-1f0c61a6bd2d",
   "metadata": {},
   "outputs": [],
   "source": [
    "df_final = df_prof"
   ]
  },
  {
   "cell_type": "code",
   "execution_count": null,
   "id": "ccb1b2e2-4156-42c7-b23f-f5ed5c4d5af8",
   "metadata": {},
   "outputs": [],
   "source": [
    "df_final.shape"
   ]
  },
  {
   "cell_type": "code",
   "execution_count": null,
   "id": "dae21dd7-19e2-4467-944f-191982f5b7d1",
   "metadata": {},
   "outputs": [],
   "source": [
    "df_final.to_excel(\"df_final.xlsx\", index=False)"
   ]
  },
  {
   "cell_type": "markdown",
   "id": "22e83342-ca17-4db3-ae94-993271dd5d9a",
   "metadata": {},
   "source": [
    "---\n",
    "Beatriz Lapa - Tese de Mestrado"
   ]
  }
 ],
 "metadata": {
  "kernelspec": {
   "display_name": "Python 3 (ipykernel)",
   "language": "python",
   "name": "python3"
  },
  "language_info": {
   "codemirror_mode": {
    "name": "ipython",
    "version": 3
   },
   "file_extension": ".py",
   "mimetype": "text/x-python",
   "name": "python",
   "nbconvert_exporter": "python",
   "pygments_lexer": "ipython3",
   "version": "3.12.4"
  }
 },
 "nbformat": 4,
 "nbformat_minor": 5
}
