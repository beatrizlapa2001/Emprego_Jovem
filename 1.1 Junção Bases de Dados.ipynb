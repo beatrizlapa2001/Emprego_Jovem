{
 "cells": [
  {
   "cell_type": "markdown",
   "id": "a6d59434",
   "metadata": {},
   "source": [
    "# <font color='darkred'>Tese de Mestrado</font>\n",
    "## Tratamento de Dados - Junção de Datasets "
   ]
  },
  {
   "cell_type": "code",
   "execution_count": null,
   "id": "fbb77842",
   "metadata": {},
   "outputs": [],
   "source": [
    "# Importação de bibliotecas\n",
    "import pandas as pd\n",
    "import warnings\n",
    "warnings.filterwarnings(\"ignore\")"
   ]
  },
  {
   "cell_type": "markdown",
   "id": "68119bde",
   "metadata": {},
   "source": [
    " ### Leitura de Ficheiros e Eliminação de Duplicados\n",
    " - Ficheiro de 2009"
   ]
  },
  {
   "cell_type": "code",
   "execution_count": null,
   "id": "3e8e34c8",
   "metadata": {},
   "outputs": [],
   "source": [
    "df09 = pd.read_excel('Trab_Emp_2009.xlsx')\n",
    "df_09_s_dupli = df09.drop_duplicates()\n",
    "df_09_s_dupli.head()"
   ]
  },
  {
   "cell_type": "code",
   "execution_count": null,
   "id": "519ded14-d353-4492-8d89-fc2411e7ec9f",
   "metadata": {},
   "outputs": [],
   "source": [
    "df09.shape"
   ]
  },
  {
   "cell_type": "code",
   "execution_count": null,
   "id": "d5207c0d-57a3-4247-87a7-66ad6164711c",
   "metadata": {},
   "outputs": [],
   "source": [
    "df_09_s_dupli.shape"
   ]
  },
  {
   "cell_type": "markdown",
   "id": "f2e0f69b",
   "metadata": {},
   "source": [
    "- Ficheiro de 2010"
   ]
  },
  {
   "cell_type": "code",
   "execution_count": null,
   "id": "050692dc",
   "metadata": {
    "scrolled": true
   },
   "outputs": [],
   "source": [
    "df10 = pd.read_excel('Trab_Emp_2010.xlsx')\n",
    "df_10_s_dupli = df10.drop_duplicates()\n",
    "df_10_s_dupli.head()"
   ]
  },
  {
   "cell_type": "code",
   "execution_count": null,
   "id": "459e2ffd-e1aa-4227-92e5-430cb0851a96",
   "metadata": {},
   "outputs": [],
   "source": [
    "df10.shape"
   ]
  },
  {
   "cell_type": "code",
   "execution_count": null,
   "id": "dd2e2023-1539-4a18-8284-8a319358fe78",
   "metadata": {},
   "outputs": [],
   "source": [
    "df_10_s_dupli.shape"
   ]
  },
  {
   "cell_type": "markdown",
   "id": "952a1ed8-140f-4616-862f-567b4d3dd9ef",
   "metadata": {},
   "source": [
    "- Ficheiro de 2011"
   ]
  },
  {
   "cell_type": "code",
   "execution_count": null,
   "id": "504ff244-da96-49c4-ac0e-4a0552ad7f66",
   "metadata": {},
   "outputs": [],
   "source": [
    "df11 = pd.read_excel('Trab_Emp_2011.xlsx')\n",
    "df_11_s_dupli = df11.drop_duplicates()"
   ]
  },
  {
   "cell_type": "code",
   "execution_count": null,
   "id": "3b3816fb-0093-43d9-9108-5b4562d844be",
   "metadata": {},
   "outputs": [],
   "source": [
    "df11.shape"
   ]
  },
  {
   "cell_type": "code",
   "execution_count": null,
   "id": "a22d08f9-9bc0-4209-886a-7fa0775fc819",
   "metadata": {},
   "outputs": [],
   "source": [
    "df_11_s_dupli.shape"
   ]
  },
  {
   "cell_type": "markdown",
   "id": "59c8d391-91b7-4cd2-9f58-8ef17f7d500e",
   "metadata": {},
   "source": [
    "- Ficheiro de 2012"
   ]
  },
  {
   "cell_type": "code",
   "execution_count": null,
   "id": "d428175b-5004-48f5-aa50-cf7bebd21e93",
   "metadata": {},
   "outputs": [],
   "source": [
    "df12 = pd.read_excel('Trab_Emp_2012.xlsx')\n",
    "df_12_s_dupli = df12.drop_duplicates()"
   ]
  },
  {
   "cell_type": "code",
   "execution_count": null,
   "id": "5d383d44-8882-4c5c-8a86-5c53ac3ba921",
   "metadata": {},
   "outputs": [],
   "source": [
    "df12.shape"
   ]
  },
  {
   "cell_type": "code",
   "execution_count": null,
   "id": "f6799acd-f948-4f73-b188-f6438dea3f27",
   "metadata": {},
   "outputs": [],
   "source": [
    "df_12_s_dupli.shape"
   ]
  },
  {
   "cell_type": "markdown",
   "id": "7f0c004b-0e85-483e-812b-f51086b5bf3b",
   "metadata": {},
   "source": [
    "- Ficheiro de 2013"
   ]
  },
  {
   "cell_type": "code",
   "execution_count": null,
   "id": "4bdb90ca-070a-480a-afb3-d43a66f300fa",
   "metadata": {},
   "outputs": [],
   "source": [
    "df13 = pd.read_excel('Trab_Emp_2013.xlsx')\n",
    "df_13_s_dupli = df13.drop_duplicates()"
   ]
  },
  {
   "cell_type": "code",
   "execution_count": null,
   "id": "1c3d7a37-dbec-4930-9ac7-11a247a5de60",
   "metadata": {},
   "outputs": [],
   "source": [
    "df13.shape"
   ]
  },
  {
   "cell_type": "code",
   "execution_count": null,
   "id": "9e2a6395-11b0-487b-ba91-6f0fea89df52",
   "metadata": {},
   "outputs": [],
   "source": [
    "df_13_s_dupli.shape"
   ]
  },
  {
   "cell_type": "markdown",
   "id": "30f3f70c-ddc6-47d1-aa73-f0935f9d6ab8",
   "metadata": {},
   "source": [
    "- Ficheiro de 2014"
   ]
  },
  {
   "cell_type": "code",
   "execution_count": null,
   "id": "952efbe9-8235-47be-a93d-937ff0699972",
   "metadata": {},
   "outputs": [],
   "source": [
    "df14 = pd.read_excel('Trab_Emp_2014.xlsx')\n",
    "df_14_s_dupli = df14.drop_duplicates()"
   ]
  },
  {
   "cell_type": "code",
   "execution_count": null,
   "id": "051d81b4-5899-45f5-9a9a-c2c89b3d2c95",
   "metadata": {},
   "outputs": [],
   "source": [
    "df14.shape"
   ]
  },
  {
   "cell_type": "code",
   "execution_count": null,
   "id": "8a13c5ef-9bb1-4ca1-8845-0f95cf2fc741",
   "metadata": {},
   "outputs": [],
   "source": [
    "df_14_s_dupli.shape"
   ]
  },
  {
   "cell_type": "markdown",
   "id": "022a4a42-df96-4e18-930b-238735b2c1c2",
   "metadata": {},
   "source": [
    "- Ficheiro de 2015"
   ]
  },
  {
   "cell_type": "code",
   "execution_count": null,
   "id": "f5764fca-3bfd-477e-8774-3c4eb3c91776",
   "metadata": {},
   "outputs": [],
   "source": [
    "df15 = pd.read_excel('Trab_Emp_2015.xlsx')\n",
    "df_15_s_dupli = df15.drop_duplicates()"
   ]
  },
  {
   "cell_type": "code",
   "execution_count": null,
   "id": "04aa68c6-841b-484f-9517-36812cf1bf3a",
   "metadata": {},
   "outputs": [],
   "source": [
    "df15.shape"
   ]
  },
  {
   "cell_type": "code",
   "execution_count": null,
   "id": "745def04-6148-442c-afee-c6dbe48e71f8",
   "metadata": {},
   "outputs": [],
   "source": [
    "df_15_s_dupli.shape"
   ]
  },
  {
   "cell_type": "markdown",
   "id": "e03a5ff2-b6b8-4e4a-bbad-3a83c5208aed",
   "metadata": {},
   "source": [
    "- Ficheiro de 2016"
   ]
  },
  {
   "cell_type": "code",
   "execution_count": null,
   "id": "49e68ce9-f3df-4ebf-8681-e44b715ce323",
   "metadata": {},
   "outputs": [],
   "source": [
    "df16 = pd.read_excel('Trab_Emp_2016.xlsx')\n",
    "df_16_s_dupli = df16.drop_duplicates()"
   ]
  },
  {
   "cell_type": "code",
   "execution_count": null,
   "id": "b2c0a4df-c168-46c6-b337-dd360af7812d",
   "metadata": {},
   "outputs": [],
   "source": [
    "df16.shape"
   ]
  },
  {
   "cell_type": "code",
   "execution_count": null,
   "id": "189fe0aa-a123-409b-8f2b-b66450acc63c",
   "metadata": {},
   "outputs": [],
   "source": [
    "df_16_s_dupli.shape"
   ]
  },
  {
   "cell_type": "markdown",
   "id": "441cc3ed-608d-4bf7-9915-16d59335fcee",
   "metadata": {},
   "source": [
    "- Ficheiro de 2017"
   ]
  },
  {
   "cell_type": "code",
   "execution_count": null,
   "id": "07847cef-d63f-4e00-8dbe-f6749366b77e",
   "metadata": {},
   "outputs": [],
   "source": [
    "df17 = pd.read_excel('Trab_Emp_2017.xlsx')\n",
    "df_17_s_dupli = df17.drop_duplicates()"
   ]
  },
  {
   "cell_type": "code",
   "execution_count": null,
   "id": "5332d5dc-3617-47bb-a62b-8daf46fd2a55",
   "metadata": {},
   "outputs": [],
   "source": [
    "df17.shape"
   ]
  },
  {
   "cell_type": "code",
   "execution_count": null,
   "id": "9f7a20ea-8de9-4d47-b314-e2c6bef1818e",
   "metadata": {},
   "outputs": [],
   "source": [
    "df_17_s_dupli.shape"
   ]
  },
  {
   "cell_type": "markdown",
   "id": "178d4d54-c09c-4fef-b94e-4a0e6d9c557b",
   "metadata": {},
   "source": [
    "- Ficheiro de 2018"
   ]
  },
  {
   "cell_type": "code",
   "execution_count": null,
   "id": "bb227a79-10a6-4bc8-bf8c-900e98840702",
   "metadata": {},
   "outputs": [],
   "source": [
    "df18 = pd.read_excel('Trab_Emp_2018.xlsx')\n",
    "df_18_s_dupli = df18.drop_duplicates()"
   ]
  },
  {
   "cell_type": "code",
   "execution_count": null,
   "id": "e0d89ca1-f139-4175-90d2-0f12f0db0e9c",
   "metadata": {},
   "outputs": [],
   "source": [
    "df18.shape"
   ]
  },
  {
   "cell_type": "code",
   "execution_count": null,
   "id": "5a663482-3a56-416c-918f-5519814f583a",
   "metadata": {},
   "outputs": [],
   "source": [
    "df_18_s_dupli.shape"
   ]
  },
  {
   "cell_type": "markdown",
   "id": "b6617e19-abea-45a4-a34a-1468c6c9f9e2",
   "metadata": {},
   "source": [
    "- Ficheiro de 2019"
   ]
  },
  {
   "cell_type": "code",
   "execution_count": null,
   "id": "22a6c5c8-b7c9-4a9f-a334-229be5b9ff9d",
   "metadata": {},
   "outputs": [],
   "source": [
    "df19 = pd.read_excel('Trab_Emp_2019.xlsx')\n",
    "df_19_s_dupli = df19.drop_duplicates()"
   ]
  },
  {
   "cell_type": "code",
   "execution_count": null,
   "id": "c2be00fe-de6e-4d2c-84e9-2b339535a4ad",
   "metadata": {},
   "outputs": [],
   "source": [
    "df19.shape"
   ]
  },
  {
   "cell_type": "code",
   "execution_count": null,
   "id": "651c8833-c0d1-4483-ba21-748c56335bd5",
   "metadata": {},
   "outputs": [],
   "source": [
    "df_19_s_dupli.shape"
   ]
  },
  {
   "cell_type": "code",
   "execution_count": null,
   "id": "b26beeb1-cd57-45ce-a7d3-568a5b8ac8df",
   "metadata": {},
   "outputs": [],
   "source": [
    "df_09 = df_09_s_dupli\n",
    "df_10 = df_10_s_dupli\n",
    "df_11 = df_11_s_dupli \n",
    "df_12 = df_12_s_dupli\n",
    "df_13 = df_13_s_dupli\n",
    "df_14 = df_14_s_dupli\n",
    "df_15 = df_15_s_dupli\n",
    "df_16 = df_16_s_dupli\n",
    "df_17 = df_17_s_dupli\n",
    "df_18 = df_18_s_dupli\n",
    "df_19 = df_19_s_dupli"
   ]
  },
  {
   "cell_type": "markdown",
   "id": "e6ff5964",
   "metadata": {},
   "source": [
    "#### Análise das irregularidades entre ficheiros\n",
    "- O ficheiro referente a **2009** contém **58 colunas** enquanto que os ficheiros de **2010 a 2019** contêm **67 colunas**;\n",
    "- A maior divergência no nome das colunas ocorre entre 2009 e os restantes ficheiros;\n",
    "- A partir de **2016** as colunas **caem2 e caem4_COD** (2010-2015) passam a chamar-se **CAE2 e CAE4_COD**;\n",
    "- Os anos **2017 a 2019** passam a chamar-se **'ano_constituicao'**;\n",
    "- No ano de **2019** as variáveis **'data_adm', 'data_prom', 'IRCT_Label'** estão **diferentes** dos restantes anos."
   ]
  },
  {
   "cell_type": "markdown",
   "id": "d185e48f",
   "metadata": {},
   "source": [
    "### Tratamento e Uniformização entre Ficheiros\n",
    "- **Uniformização do nome** das colunas do ficheiro de **2009** face aos restantes ficheiros."
   ]
  },
  {
   "cell_type": "code",
   "execution_count": null,
   "id": "3d3bd03a",
   "metadata": {},
   "outputs": [],
   "source": [
    "# Uniformização do nome das colunas em comparação com os dados a partir de 2010\n",
    "\n",
    "df_09.columns = df_09.columns.str.replace('_09', '')\n",
    "df_09.columns = df_09.columns.str.replace('09', '')\n",
    "df_09.columns = df_09.columns.str.replace('n1emp', 'nut1_emp')\n",
    "df_09.columns = df_09.columns.str.replace('n2emp', 'nut2_emp')\n",
    "df_09.columns = df_09.columns.str.replace('vvend', 'vn')\n",
    "df_09.columns = df_09.columns.str.replace('irc', 'irct')\n",
    "df_09.columns = df_09.columns.str.replace('idade_TB_COD', 'idade_Cod')\n",
    "df_09.columns = df_09.columns.str.replace('antg', 'antig')\n",
    "df_09.columns = df_09.columns.str.replace('nqua1', 'nqual1')\n",
    "df_09.columns = df_09.columns.str.replace('dtadm', 'dt_adm')\n",
    "df_09.columns = df_09.columns.str.replace('dtulp', 'dt_prom')\n",
    "df_09.columns = df_09.columns.str.replace('stpro', 'sitpro')\n",
    "df_09.columns = df_09.columns.str.replace('ctcont', 'tipo_contr1')\n",
    "df_09.columns = df_09.columns.str.replace('rprg', 'prest_reg')\n",
    "df_09.columns = df_09.columns.str.replace('rpirg', 'prest_irreg')\n",
    "df_09.columns = df_09.columns.str.replace('rganh', 'rganho')\n",
    "df_09.columns = df_09.columns.str.replace('nhnor', 'hnormais')\n",
    "df_09.columns = df_09.columns.str.replace('nhext', 'hextra')\n",
    "df_09.columns = df_09.columns.str.replace('npnor', 'pnt')\n",
    "df_09.columns = df_09.columns.str.replace('caem2', 'cae2')\n",
    "df_09.columns = df_09.columns.str.replace('NPC_FIC', 'npc_fic')\n",
    "\n",
    "print(df_09.columns)"
   ]
  },
  {
   "cell_type": "code",
   "execution_count": null,
   "id": "2f71dcfb",
   "metadata": {},
   "outputs": [],
   "source": [
    "df_09.shape"
   ]
  },
  {
   "cell_type": "code",
   "execution_count": null,
   "id": "f655b564-f57a-4451-945c-f2336f6dd5e1",
   "metadata": {},
   "outputs": [],
   "source": [
    "df_09.head()"
   ]
  },
  {
   "cell_type": "markdown",
   "id": "e42a6988",
   "metadata": {},
   "source": [
    "- **Uniformização do nome** das colunas do ficheiro de **2010** face aos restantes ficheiros."
   ]
  },
  {
   "cell_type": "code",
   "execution_count": null,
   "id": "0aa67844",
   "metadata": {},
   "outputs": [],
   "source": [
    "# Conerter todos os nomes das tabelas que estão em Caps Lock para minúsculas\n",
    "def convert_to_lowercase(column_name):\n",
    "    if isinstance(column_name, str) and column_name.isupper():\n",
    "        return column_name.lower()\n",
    "    else:\n",
    "        return column_name"
   ]
  },
  {
   "cell_type": "code",
   "execution_count": null,
   "id": "48bd8834",
   "metadata": {},
   "outputs": [],
   "source": [
    "# Aplicar a função às colunas\n",
    "df_10.columns = df_10.columns.map(convert_to_lowercase)\n",
    "df_11.columns = df_11.columns.map(convert_to_lowercase)\n",
    "df_12.columns = df_12.columns.map(convert_to_lowercase)\n",
    "df_13.columns = df_13.columns.map(convert_to_lowercase)\n",
    "df_14.columns = df_14.columns.map(convert_to_lowercase)\n",
    "df_15.columns = df_15.columns.map(convert_to_lowercase)\n",
    "df_16.columns = df_16.columns.map(convert_to_lowercase)\n",
    "df_17.columns = df_17.columns.map(convert_to_lowercase)\n",
    "df_18.columns = df_18.columns.map(convert_to_lowercase)\n",
    "df_19.columns = df_19.columns.map(convert_to_lowercase)"
   ]
  },
  {
   "cell_type": "code",
   "execution_count": null,
   "id": "eac82bbc-f0f7-4ed7-b1ad-12d8a6c0f37e",
   "metadata": {},
   "outputs": [],
   "source": [
    "df_10.columns = df_10.columns.str.replace('caem1', 'caem1l')"
   ]
  },
  {
   "cell_type": "code",
   "execution_count": null,
   "id": "48a4e431",
   "metadata": {},
   "outputs": [],
   "source": [
    "df_10.shape"
   ]
  },
  {
   "cell_type": "code",
   "execution_count": null,
   "id": "7a3d343c-3b80-48ac-aed2-f5887906483c",
   "metadata": {},
   "outputs": [],
   "source": [
    "print(df_10.columns)"
   ]
  },
  {
   "cell_type": "code",
   "execution_count": null,
   "id": "6d528138-bf7e-421f-9485-3031e7fae3b0",
   "metadata": {},
   "outputs": [],
   "source": [
    "df_17.columns = df_17.columns.str.replace('ano_constituicao', 'ancon')\n",
    "df_18.columns = df_18.columns.str.replace('ano_constituicao', 'ancon')\n",
    "df_19.columns = df_19.columns.str.replace('ano_constituicao', 'ancon')\n",
    "df_19.columns = df_19.columns.str.replace('data_adm', 'dt_adm')\n",
    "df_19.columns = df_19.columns.str.replace('data_prom', 'dt_prom')\n",
    "df_19.columns = df_19.columns.str.replace('IRCT_Label', 'irct')"
   ]
  },
  {
   "cell_type": "markdown",
   "id": "34d14c76-f1f2-46e8-90f9-089eabbeaede",
   "metadata": {},
   "source": [
    "#### Tratamento da variável idade para aparecer o ano de nascimento"
   ]
  },
  {
   "cell_type": "code",
   "execution_count": null,
   "id": "0e3fc92d-8b60-4662-ae7b-031d5dffc209",
   "metadata": {},
   "outputs": [],
   "source": [
    "ano_referência = 2009 \n",
    "df_09['ano_nascimento'] = ano_referência-df_09['idade_Cod']"
   ]
  },
  {
   "cell_type": "code",
   "execution_count": null,
   "id": "76a391f3-0a6d-4abb-b55e-7d8219522eb4",
   "metadata": {
    "scrolled": true
   },
   "outputs": [],
   "source": [
    "df_09.head()"
   ]
  },
  {
   "cell_type": "code",
   "execution_count": null,
   "id": "72d560cc-3a0a-40f6-a897-ee7cec78d4e2",
   "metadata": {},
   "outputs": [],
   "source": [
    "df_09.shape"
   ]
  },
  {
   "cell_type": "markdown",
   "id": "e67efb06-df81-4389-b477-70ff485846b2",
   "metadata": {},
   "source": [
    "### Filtragem ntrab pelo 0"
   ]
  },
  {
   "cell_type": "code",
   "execution_count": null,
   "id": "11710082-fcd0-446a-b70d-825538e86892",
   "metadata": {},
   "outputs": [],
   "source": [
    "dataframes = [df_09, df_10, df_11, df_12, df_13, df_14, df_15, df_16, df_17, df_18, df_19] "
   ]
  },
  {
   "cell_type": "code",
   "execution_count": null,
   "id": "bd9ae542-c6e6-4621-87c5-4a379dc0e442",
   "metadata": {},
   "outputs": [],
   "source": [
    "def filter_ntrab(df):\n",
    "    return df[df['ntrab'] != 0]"
   ]
  },
  {
   "cell_type": "code",
   "execution_count": null,
   "id": "9c0940dc-9e83-4643-82a4-b52091ca1b56",
   "metadata": {
    "scrolled": true
   },
   "outputs": [],
   "source": [
    "df_names = [f'df_{str(i).zfill(2)}' for i in range(9,20)]"
   ]
  },
  {
   "cell_type": "code",
   "execution_count": null,
   "id": "35efcce3-d828-4a54-9832-ce1f4906b1ea",
   "metadata": {},
   "outputs": [],
   "source": [
    "for name in df_names:\n",
    "    globals()[name] = filter_ntrab(globals()[name])"
   ]
  },
  {
   "cell_type": "code",
   "execution_count": null,
   "id": "8805f7fa-0f4e-4a01-a0af-4f7f125a6746",
   "metadata": {
    "scrolled": true
   },
   "outputs": [],
   "source": [
    "for i in df_names:\n",
    "    print(f\"{name} filtrado:\")\n",
    "    print(globals()[name])"
   ]
  },
  {
   "cell_type": "code",
   "execution_count": null,
   "id": "92429fcb-bf4f-4ba2-adf0-f05b58e7f9ec",
   "metadata": {},
   "outputs": [],
   "source": [
    "df_09.shape"
   ]
  },
  {
   "cell_type": "code",
   "execution_count": null,
   "id": "9dca4193-4a4f-4953-b085-fcf27a4f56d0",
   "metadata": {},
   "outputs": [],
   "source": [
    "df_10.shape"
   ]
  },
  {
   "cell_type": "code",
   "execution_count": null,
   "id": "89468831-9e0e-4fdc-a091-d9e631148e23",
   "metadata": {},
   "outputs": [],
   "source": [
    "df_11.shape"
   ]
  },
  {
   "cell_type": "code",
   "execution_count": null,
   "id": "25b03edc-a56c-4e9f-835f-a28ed9d16d8f",
   "metadata": {},
   "outputs": [],
   "source": [
    "df_12.shape"
   ]
  },
  {
   "cell_type": "code",
   "execution_count": null,
   "id": "b352c4da-fe30-4f6d-8ef4-6dec22e495b8",
   "metadata": {},
   "outputs": [],
   "source": [
    "df_13.shape"
   ]
  },
  {
   "cell_type": "code",
   "execution_count": null,
   "id": "7eb49975-7a21-4179-93c8-cba103905562",
   "metadata": {},
   "outputs": [],
   "source": [
    "df_14.shape"
   ]
  },
  {
   "cell_type": "code",
   "execution_count": null,
   "id": "33a1e588-161a-4934-933e-e83ca3a7d811",
   "metadata": {},
   "outputs": [],
   "source": [
    "df_15.shape"
   ]
  },
  {
   "cell_type": "code",
   "execution_count": null,
   "id": "b04f5579-2fc3-4f11-b62d-aa8b9023e62b",
   "metadata": {},
   "outputs": [],
   "source": [
    "df_16.shape"
   ]
  },
  {
   "cell_type": "code",
   "execution_count": null,
   "id": "e40deec9-68ae-4290-be2c-9e8da74a3ec3",
   "metadata": {},
   "outputs": [],
   "source": [
    "df_17.shape"
   ]
  },
  {
   "cell_type": "code",
   "execution_count": null,
   "id": "bd144b73-58e1-402b-96f1-c525eb2d7eb3",
   "metadata": {
    "scrolled": true
   },
   "outputs": [],
   "source": [
    "df_18.shape"
   ]
  },
  {
   "cell_type": "code",
   "execution_count": null,
   "id": "13d6f237-a34a-4517-8e54-775c791407de",
   "metadata": {},
   "outputs": [],
   "source": [
    "df_19.shape"
   ]
  },
  {
   "cell_type": "markdown",
   "id": "6edad748-a611-4a55-bb79-c3bbcd0125ad",
   "metadata": {},
   "source": [
    "### Ntrab único em cada DataFrame"
   ]
  },
  {
   "cell_type": "code",
   "execution_count": null,
   "id": "9c51daf5-a78d-4387-a75e-fe796470391a",
   "metadata": {},
   "outputs": [],
   "source": [
    "def concat_values(series):\n",
    "    return '|'.join(map(str,series))"
   ]
  },
  {
   "cell_type": "code",
   "execution_count": null,
   "id": "c0061c6a-170c-4edd-9752-661460cef8bd",
   "metadata": {},
   "outputs": [],
   "source": [
    "df_09_unique = df_09.groupby('ntrab').agg(concat_values).reset_index()\n",
    "df_09_unique.shape"
   ]
  },
  {
   "cell_type": "code",
   "execution_count": null,
   "id": "b8faf295-8038-4970-99d7-5768c90c5eaf",
   "metadata": {},
   "outputs": [],
   "source": [
    "df_10_unique = df_10.groupby('ntrab').agg(concat_values).reset_index()\n",
    "df_10_unique.shape"
   ]
  },
  {
   "cell_type": "code",
   "execution_count": null,
   "id": "8f702d14-fa92-4c2e-ba27-675327672a27",
   "metadata": {},
   "outputs": [],
   "source": [
    "df_11_unique = df_11.groupby('ntrab').agg(concat_values).reset_index()\n",
    "df_11_unique.shape"
   ]
  },
  {
   "cell_type": "code",
   "execution_count": null,
   "id": "232b81ab-0c62-4543-9b34-8aaed981c5ea",
   "metadata": {},
   "outputs": [],
   "source": [
    "df_12_unique = df_12.groupby('ntrab').agg(concat_values).reset_index()\n",
    "df_12_unique.shape"
   ]
  },
  {
   "cell_type": "code",
   "execution_count": null,
   "id": "02691121-b4ee-4738-8bc7-9623b5f1552c",
   "metadata": {},
   "outputs": [],
   "source": [
    "df_13_unique = df_13.groupby('ntrab').agg(concat_values).reset_index()\n",
    "df_13_unique.shape"
   ]
  },
  {
   "cell_type": "code",
   "execution_count": null,
   "id": "5b7f11b1-bd88-46d4-97c3-1302042d4235",
   "metadata": {},
   "outputs": [],
   "source": [
    "df_14_unique = df_14.groupby('ntrab').agg(concat_values).reset_index()\n",
    "df_14_unique.shape"
   ]
  },
  {
   "cell_type": "code",
   "execution_count": null,
   "id": "d31c8bc6-f65e-4da7-846e-54433d1f52e3",
   "metadata": {},
   "outputs": [],
   "source": [
    "df_15_unique = df_15.groupby('ntrab').agg(concat_values).reset_index()\n",
    "df_15_unique.shape"
   ]
  },
  {
   "cell_type": "code",
   "execution_count": null,
   "id": "4bd881f7-9238-40ed-9439-c6348ddde0ed",
   "metadata": {},
   "outputs": [],
   "source": [
    "df_16_unique = df_16.groupby('ntrab').agg(concat_values).reset_index()\n",
    "df_16_unique.shape"
   ]
  },
  {
   "cell_type": "code",
   "execution_count": null,
   "id": "f3def6bf-1183-42cd-a6af-84abcc384eab",
   "metadata": {},
   "outputs": [],
   "source": [
    "df_17_unique = df_17.groupby('ntrab').agg(concat_values).reset_index()\n",
    "df_17_unique.shape"
   ]
  },
  {
   "cell_type": "code",
   "execution_count": null,
   "id": "470e464d-3b19-4e1b-93b5-cc70b117980d",
   "metadata": {},
   "outputs": [],
   "source": [
    "df_18_unique = df_18.groupby('ntrab').agg(concat_values).reset_index()\n",
    "df_18_unique.shape"
   ]
  },
  {
   "cell_type": "code",
   "execution_count": null,
   "id": "fc45be8d-e68a-475f-9eed-e56bd30fa142",
   "metadata": {},
   "outputs": [],
   "source": [
    "df_19_unique = df_19.groupby('ntrab').agg(concat_values).reset_index()\n",
    "df_19_unique.shape"
   ]
  },
  {
   "cell_type": "markdown",
   "id": "58c5fb18-c150-42cc-84d3-2e4b39f662e5",
   "metadata": {},
   "source": [
    "### Filtragem das Colunas de Análise \n",
    "As colunas de foco ao longo desta análise serão:\n",
    "- **'tipo_contr'**, 'habil2', 'nuemp', 'cae2','tipo_contr1', 'rganho', 'hnormais', 'hextra', 'ntrab'\n",
    "\n",
    "O ano de referência será 2009, por ser o primeiro ano de análise. Dado isto, serão consideradas mais algumas variáveis, tais como:\n",
    "- 'sexo', 'ano_nascimento'"
   ]
  },
  {
   "cell_type": "code",
   "execution_count": null,
   "id": "19091024-4de1-41a1-a72b-0b4aa999b2bd",
   "metadata": {},
   "outputs": [],
   "source": [
    "colunas_2009 = ['ntrab', 'sexo', 'ano_nascimento', 'habil1',  'tipo_contr1', 'nuemp', 'caem1l', 'prof_3d', 'rganho', 'hnormais', 'hextra']\n",
    "df_09_final = df_09_unique[colunas_2009]\n",
    "nomes_certos = {coluna: coluna if coluna == 'ntrab' else f\"{coluna}_09\" for coluna in df_09_final.columns}\n",
    "df_09_final = df_09_final.rename(columns = nomes_certos)\n",
    "df_09_final.head()"
   ]
  },
  {
   "cell_type": "code",
   "execution_count": null,
   "id": "2c0b92ee-124f-4c49-b263-233fc58cfa2c",
   "metadata": {},
   "outputs": [],
   "source": [
    "colunas_2010_2019 = ['ntrab', 'habil1', 'tipo_contr1', 'nuemp', 'caem1l', 'prof_3d', 'rganho', 'hnormais', 'hextra']\n",
    "df_10_final = df_10_unique[colunas_2010_2019]\n",
    "nomes_certos = {coluna: coluna if coluna == 'ntrab' else f\"{coluna}_10\" for coluna in df_10_final.columns}\n",
    "df_10_final = df_10_final.rename(columns = nomes_certos)\n",
    "df_10_final.head()"
   ]
  },
  {
   "cell_type": "code",
   "execution_count": null,
   "id": "73e7aed3-3917-4ad2-857f-c9e38690c1b4",
   "metadata": {},
   "outputs": [],
   "source": [
    "df_11_final = df_11_unique[colunas_2010_2019]\n",
    "nomes_certos = {coluna: coluna if coluna == 'ntrab' else f\"{coluna}_11\" for coluna in df_11_final.columns}\n",
    "df_11_final = df_11_final.rename(columns = nomes_certos)\n",
    "df_11_final.head()"
   ]
  },
  {
   "cell_type": "code",
   "execution_count": null,
   "id": "23e4730e-180f-4a6d-94a2-557020985b02",
   "metadata": {},
   "outputs": [],
   "source": [
    "df_12_final = df_12_unique[colunas_2010_2019]\n",
    "nomes_certos = {coluna: coluna if coluna == 'ntrab' else f\"{coluna}_12\" for coluna in df_12_final.columns}\n",
    "df_12_final = df_12_final.rename(columns = nomes_certos)\n",
    "df_12_final.head()"
   ]
  },
  {
   "cell_type": "code",
   "execution_count": null,
   "id": "736a5caa-589f-4839-a483-20d10aac606e",
   "metadata": {},
   "outputs": [],
   "source": [
    "df_13_final = df_13_unique[colunas_2010_2019]\n",
    "nomes_certos = {coluna: coluna if coluna == 'ntrab' else f\"{coluna}_13\" for coluna in df_13_final.columns}\n",
    "df_13_final = df_13_final.rename(columns = nomes_certos)\n",
    "df_13_final.head()"
   ]
  },
  {
   "cell_type": "code",
   "execution_count": null,
   "id": "a53d34bb-216d-446a-82b6-5e77c7213dbe",
   "metadata": {},
   "outputs": [],
   "source": [
    "df_14_final = df_14_unique[colunas_2010_2019]\n",
    "nomes_certos = {coluna: coluna if coluna == 'ntrab' else f\"{coluna}_14\" for coluna in df_14_final.columns}\n",
    "df_14_final = df_14_final.rename(columns = nomes_certos)\n",
    "df_14_final.head()"
   ]
  },
  {
   "cell_type": "code",
   "execution_count": null,
   "id": "221d601d-53b4-4d9b-979e-e6c5d375abf4",
   "metadata": {},
   "outputs": [],
   "source": [
    "df_15_final = df_15_unique[colunas_2010_2019]\n",
    "nomes_certos = {coluna: coluna if coluna == 'ntrab' else f\"{coluna}_15\" for coluna in df_15_final.columns}\n",
    "df_15_final = df_15_final.rename(columns = nomes_certos)\n",
    "df_15_final.head()"
   ]
  },
  {
   "cell_type": "code",
   "execution_count": null,
   "id": "da20d1d6-e43e-4433-a52c-d154e4533fe6",
   "metadata": {},
   "outputs": [],
   "source": [
    "df_16_final = df_16_unique[colunas_2010_2019]\n",
    "nomes_certos = {coluna: coluna if coluna == 'ntrab' else f\"{coluna}_16\" for coluna in df_16_final.columns}\n",
    "df_16_final = df_16_final.rename(columns = nomes_certos)\n",
    "df_16_final.head()"
   ]
  },
  {
   "cell_type": "code",
   "execution_count": null,
   "id": "efd40942-5ad0-4d51-a623-f681c0550cf5",
   "metadata": {},
   "outputs": [],
   "source": [
    "df_17_final = df_17_unique[colunas_2010_2019]\n",
    "nomes_certos = {coluna: coluna if coluna == 'ntrab' else f\"{coluna}_17\" for coluna in df_17_final.columns}\n",
    "df_17_final = df_17_final.rename(columns = nomes_certos)\n",
    "df_17_final.head()"
   ]
  },
  {
   "cell_type": "code",
   "execution_count": null,
   "id": "28db3212-6fd0-4e52-8fcf-976b52c10d5a",
   "metadata": {
    "scrolled": true
   },
   "outputs": [],
   "source": [
    "df_18_final = df_18_unique[colunas_2010_2019]\n",
    "nomes_certos = {coluna: coluna if coluna == 'ntrab' else f\"{coluna}_18\" for coluna in df_18_final.columns}\n",
    "df_18_final = df_18_final.rename(columns = nomes_certos)\n",
    "df_18_final.head()"
   ]
  },
  {
   "cell_type": "code",
   "execution_count": null,
   "id": "ed0dd9f7-db5f-465c-8bfe-483d5cffcb9e",
   "metadata": {
    "scrolled": true
   },
   "outputs": [],
   "source": [
    "df_19_final = df_19_unique[colunas_2010_2019]\n",
    "nomes_certos = {coluna: coluna if coluna == 'ntrab' else f\"{coluna}_19\" for coluna in df_19_final.columns}\n",
    "df_19_final = df_19_final.rename(columns = nomes_certos)\n",
    "df_19_final.head()"
   ]
  },
  {
   "cell_type": "code",
   "execution_count": null,
   "id": "ba78b701-d236-4880-a5f3-384a1b2524a1",
   "metadata": {},
   "outputs": [],
   "source": [
    "filtered_ntrab = df_09_final[df_09_final['nuemp_09'].str.count('\\|')>1]['ntrab']\n",
    "result_list_09 = filtered_ntrab.tolist()\n",
    "len(result_list_09)"
   ]
  },
  {
   "cell_type": "code",
   "execution_count": null,
   "id": "2f29f821-b12c-4a25-89a7-99e35259daa9",
   "metadata": {},
   "outputs": [],
   "source": [
    "filtered_ntrab = df_10_final[df_10_final['nuemp_10'].str.count('\\|')>1]['ntrab']\n",
    "result_list_10 = filtered_ntrab.tolist()\n",
    "len(result_list_10)"
   ]
  },
  {
   "cell_type": "code",
   "execution_count": null,
   "id": "9bfae1ab-fb3d-41bf-8084-fdbe64301fd7",
   "metadata": {},
   "outputs": [],
   "source": [
    "filtered_ntrab = df_11_final[df_11_final['nuemp_11'].str.count('\\|')>1]['ntrab']\n",
    "result_list_11 = filtered_ntrab.tolist()\n",
    "len(result_list_11)"
   ]
  },
  {
   "cell_type": "code",
   "execution_count": null,
   "id": "188f09fc-21e1-4f64-85b1-7fb677141c86",
   "metadata": {},
   "outputs": [],
   "source": [
    "print(result_list_11)"
   ]
  },
  {
   "cell_type": "code",
   "execution_count": null,
   "id": "f97704e8-c841-45b5-be98-0185ee19c879",
   "metadata": {},
   "outputs": [],
   "source": [
    "filtered_ntrab = df_12_final[df_12_final['nuemp_12'].str.count('\\|')>1]['ntrab']\n",
    "result_list_12 = filtered_ntrab.tolist()\n",
    "len(result_list_12)"
   ]
  },
  {
   "cell_type": "code",
   "execution_count": null,
   "id": "ea69c17b-685e-4ff8-97ee-c9bea9be1620",
   "metadata": {},
   "outputs": [],
   "source": [
    "filtered_ntrab = df_13_final[df_13_final['nuemp_13'].str.count('\\|')>1]['ntrab']\n",
    "result_list_13 = filtered_ntrab.tolist()\n",
    "len(result_list_13)"
   ]
  },
  {
   "cell_type": "code",
   "execution_count": null,
   "id": "bce3c313-31ce-40d7-b9d3-1aa7350bb1de",
   "metadata": {},
   "outputs": [],
   "source": [
    "filtered_ntrab = df_14_final[df_14_final['nuemp_14'].str.count('\\|')>1]['ntrab']\n",
    "result_list_14 = filtered_ntrab.tolist()\n",
    "len(result_list_14)"
   ]
  },
  {
   "cell_type": "code",
   "execution_count": null,
   "id": "81015288-fcda-4680-8592-dc8a2718ece8",
   "metadata": {},
   "outputs": [],
   "source": [
    "filtered_ntrab = df_15_final[df_15_final['nuemp_15'].str.count('\\|')>1]['ntrab']\n",
    "result_list_15 = filtered_ntrab.tolist()\n",
    "len(result_list_15)"
   ]
  },
  {
   "cell_type": "code",
   "execution_count": null,
   "id": "853e13d7-4788-4400-b626-244f2ea5be98",
   "metadata": {},
   "outputs": [],
   "source": [
    "filtered_ntrab = df_16_final[df_16_final['nuemp_16'].str.count('\\|')>1]['ntrab']\n",
    "result_list_16 = filtered_ntrab.tolist()\n",
    "len(result_list_16)"
   ]
  },
  {
   "cell_type": "code",
   "execution_count": null,
   "id": "73c24a22-dbbd-4da1-be00-1154dc43fbd2",
   "metadata": {},
   "outputs": [],
   "source": [
    "filtered_ntrab = df_17_final[df_17_final['nuemp_17'].str.count('\\|')>1]['ntrab']\n",
    "result_list_17 = filtered_ntrab.tolist()\n",
    "len(result_list_17)"
   ]
  },
  {
   "cell_type": "code",
   "execution_count": null,
   "id": "40b977b1-9085-4f4f-a698-f0ec0fdad38e",
   "metadata": {},
   "outputs": [],
   "source": [
    "filtered_ntrab = df_18_final[df_18_final['nuemp_18'].str.count('\\|')>1]['ntrab']\n",
    "result_list_18 = filtered_ntrab.tolist()\n",
    "len(result_list_18)"
   ]
  },
  {
   "cell_type": "code",
   "execution_count": null,
   "id": "47f9259c-5516-4ffb-99fd-d621f202fc99",
   "metadata": {},
   "outputs": [],
   "source": [
    "filtered_ntrab = df_19_final[df_19_final['nuemp_19'].str.count('\\|')>1]['ntrab']\n",
    "result_list_19 = filtered_ntrab.tolist()\n",
    "len(result_list_19)"
   ]
  },
  {
   "cell_type": "markdown",
   "id": "8b0f574f-c6d5-46ef-931b-3ffd0e91e703",
   "metadata": {},
   "source": [
    "### Exportação dos ficheiros excel finais"
   ]
  },
  {
   "cell_type": "code",
   "execution_count": null,
   "id": "2bbc9523-d82f-4523-be47-b066c62ed565",
   "metadata": {
    "scrolled": true
   },
   "outputs": [],
   "source": [
    "# Exportar o DataFrame para um arquivo CSV\n",
    "df_09_final.to_excel('df_09.xlsx', index=False)\n",
    "df_10_final.to_excel('df_10.xlsx', index=False)\n",
    "df_11_final.to_excel('df_11.xlsx', index=False)\n",
    "df_12_final.to_excel('df_12.xlsx', index=False)\n",
    "df_13_final.to_excel('df_13.xlsx', index=False)\n",
    "df_14_final.to_excel('df_14.xlsx', index=False)\n",
    "df_15_final.to_excel('df_15.xlsx', index=False)\n",
    "df_16_final.to_excel('df_16.xlsx', index=False)\n",
    "df_17_final.to_excel('df_17.xlsx', index=False)\n",
    "df_18_final.to_excel('df_18.xlsx', index=False)\n",
    "df_19_final.to_excel('df_19.xlsx', index=False)"
   ]
  },
  {
   "cell_type": "markdown",
   "id": "bfcdbbd7-f0f9-4ce1-936c-d9e55e5465fa",
   "metadata": {},
   "source": [
    "---\n",
    "Beatriz Lapa - Tese de Mestrado"
   ]
  }
 ],
 "metadata": {
  "kernelspec": {
   "display_name": "Python 3 (ipykernel)",
   "language": "python",
   "name": "python3"
  },
  "language_info": {
   "codemirror_mode": {
    "name": "ipython",
    "version": 3
   },
   "file_extension": ".py",
   "mimetype": "text/x-python",
   "name": "python",
   "nbconvert_exporter": "python",
   "pygments_lexer": "ipython3",
   "version": "3.12.4"
  }
 },
 "nbformat": 4,
 "nbformat_minor": 5
}
