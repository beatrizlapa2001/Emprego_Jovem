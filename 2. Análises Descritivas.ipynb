{
 "cells": [
  {
   "cell_type": "markdown",
   "id": "cc2445bf-a9ec-4bed-ad27-49465816dc22",
   "metadata": {},
   "source": [
    "# <font color='darkred'>Tese de Mestrado</font>\n",
    "## Análises Descritivas"
   ]
  },
  {
   "cell_type": "code",
   "execution_count": null,
   "id": "b7220b9c-e940-4138-b415-835265d04689",
   "metadata": {},
   "outputs": [],
   "source": [
    "# Importação de Bibliotecas\n",
    "import pandas as pd\n",
    "import numpy as np\n",
    "import re\n",
    "import matplotlib.pyplot as plt\n",
    "import warnings\n",
    "warnings.filterwarnings(\"ignore\")"
   ]
  },
  {
   "cell_type": "code",
   "execution_count": null,
   "id": "3a99c45a-81d3-48b7-bd2b-74c48aea7c18",
   "metadata": {},
   "outputs": [],
   "source": [
    "df = pd.read_excel('df_final.xlsx')\n",
    "df.head()"
   ]
  },
  {
   "cell_type": "code",
   "execution_count": null,
   "id": "e9733777-b3cf-496c-8943-d6f88c90bca8",
   "metadata": {},
   "outputs": [],
   "source": [
    "df.columns"
   ]
  },
  {
   "cell_type": "code",
   "execution_count": null,
   "id": "607230e9-b1eb-42c9-8de8-a46494669a3e",
   "metadata": {},
   "outputs": [],
   "source": [
    "# Substituição dos valores omissos por NA\n",
    "df.replace('', np.nan, inplace=True)"
   ]
  },
  {
   "cell_type": "code",
   "execution_count": null,
   "id": "c7cb6501-59eb-4bcf-b4ff-f7e03a0d991e",
   "metadata": {},
   "outputs": [],
   "source": [
    "pd.set_option('display.max_rows', None)\n",
    "pd.set_option('display.max_columns', None)\n",
    "\n",
    "# Número de NaNs em cada coluna\n",
    "nans_count = df.isna().sum()\n",
    "\n",
    "# Filtrar para mostrar apenas as colunas com valores diferentes de 0\n",
    "nans_count_non_zero = nans_count[nans_count != 0]\n",
    "nans_count_non_zero"
   ]
  },
  {
   "cell_type": "markdown",
   "id": "809b6ef8-b2a1-4376-8768-800ff981eead",
   "metadata": {},
   "source": [
    "#### Trabalhou/Não Trabalhou ao Longo da Década\n",
    "- Criação de colunas que indicam se um trabalhador trabalhou ou não em cada ano. Utilização das colunas cae como referência uma vez que não têm nas ao longos dos 11 anos."
   ]
  },
  {
   "cell_type": "code",
   "execution_count": null,
   "id": "316d4dc0-4ec2-41e5-8754-c3d81427d915",
   "metadata": {},
   "outputs": [],
   "source": [
    "df_trab = df.copy()"
   ]
  },
  {
   "cell_type": "code",
   "execution_count": null,
   "id": "3f5b0ca9-4a6d-4dbc-80ec-5f8b60a33f7c",
   "metadata": {},
   "outputs": [],
   "source": [
    "df_trab.columns"
   ]
  },
  {
   "cell_type": "code",
   "execution_count": null,
   "id": "1cca194e-b888-496c-9969-b42f11bd24ce",
   "metadata": {},
   "outputs": [],
   "source": [
    "def coluna_trabalhou(df_trab, ano):\n",
    "    coluna_nuemp = f'caem1l_{str(ano)[-2:]}'  \n",
    "    coluna_trabalhou = f'trabalhou_{ano}'\n",
    "    df_trab[coluna_trabalhou] = df_trab[coluna_nuemp].apply(lambda x: 'Trabalhou' if x != 'Não Trabalhou' else 'Não Trabalhou')\n",
    "    return df_trab\n",
    "\n",
    "# Criação de colunas \"trabalhou_ano\"\n",
    "for ano in range(2009, 2020):\n",
    "    df_trab = coluna_trabalhou(df_trab, ano)"
   ]
  },
  {
   "cell_type": "code",
   "execution_count": null,
   "id": "37adf297-ca4b-4d00-b0ee-e8b626da42e3",
   "metadata": {},
   "outputs": [],
   "source": [
    "df_trab.head()"
   ]
  },
  {
   "cell_type": "markdown",
   "id": "51b6eb72-711d-4a50-9a75-6badedeeaee8",
   "metadata": {},
   "source": [
    "- Número de trabalhadores que estavam a trabalhar face aos que não estavam a trabalhar em cada ano"
   ]
  },
  {
   "cell_type": "code",
   "execution_count": null,
   "id": "ff16a437-4709-4612-b1e3-64e61fa11576",
   "metadata": {},
   "outputs": [],
   "source": [
    "counts = {'Ano': [], 'Trabalhou': [], 'Não trabalhou': []}\n",
    "\n",
    "for column in df_trab.columns:\n",
    "    if column.startswith('trabalhou_'):\n",
    "        year = column.split('_')[1]  \n",
    "        counts['Ano'].append(year)\n",
    "        counts['Trabalhou'].append(df_trab[column].value_counts().get('Trabalhou', 0))\n",
    "        counts['Não trabalhou'].append(df_trab[column].value_counts().get('Não Trabalhou', 0))\n",
    "\n",
    "\n",
    "tab_trab = pd.DataFrame(counts)\n",
    "\n",
    "tab_trab"
   ]
  },
  {
   "cell_type": "markdown",
   "id": "1674e215-9d7d-4dec-af52-eabaa2c6be0a",
   "metadata": {},
   "source": [
    "#### Troca de Emprego\n",
    "- Criação de colunas que indicam se ocorreu troca de emprega do ano n face ao ano n-1\n",
    "Exemplo do que esta função irá fazer:\n",
    "\n",
    "| nuemp_09       | nuemp_10       | troca_emprego_2009_2010 |\r\n",
    "|----------------|----------------|-------------------------|\r\n",
    "| Trabalho F     |                | Sem Informação          |\r\n",
    "| Não Trabalhou  |                | Trocou                  |\r\n",
    "| Trabalho A     | Trabalho A     | Manteve                 |\r\n",
    "| Trabalho B     | Trabalho C     | Trocou                  |\r\n",
    "| Não Trabalhou  | Não Trabalhou  | Sem Informação          |\r\n",
    "|                | Trabalho D     | Sem Informação          |\r\n",
    "     |\r\n"
   ]
  },
  {
   "cell_type": "code",
   "execution_count": null,
   "id": "09516ec8-e28f-4eb3-a478-ce134e29a4c8",
   "metadata": {},
   "outputs": [],
   "source": [
    "def coluna_troca_emprego(df_trab, ano_atual, ano_seguinte):\n",
    "    coluna_atual = f'nuemp_{str(ano_atual)[-2:]}' \n",
    "    coluna_seguinte = f'nuemp_{str(ano_seguinte)[-2:]}' \n",
    "    coluna_troca = f'troca_emprego_{ano_atual}_{ano_seguinte}'\n",
    "    \n",
    "    def verifica_troca(row):\n",
    "        atual = row[coluna_atual]\n",
    "        seguinte = row[coluna_seguinte]\n",
    "        \n",
    "        # Verificar se as colunas têm NaN ou strings vazias\n",
    "        atual_na = pd.isna(atual) or atual == ''\n",
    "        seguinte_na = pd.isna(seguinte) or seguinte == ''\n",
    "        \n",
    "        # Regras de troca de emprego\n",
    "        if atual == 'Não Trabalhou' and seguinte == 'Não Trabalhou':\n",
    "            return 'Sem Informação'\n",
    "        elif atual == 'Não Trabalhou' and seguinte_na:\n",
    "            return 'Trocou'\n",
    "        elif atual == 'Não Trabalhou' and not seguinte_na:\n",
    "            return 'Trocou'\n",
    "        elif atual_na and not seguinte_na and seguinte != 'Não Trabalhou':\n",
    "            return 'Sem Informação'\n",
    "        elif atual_na and seguinte_na:\n",
    "            return 'Sem Informação'\n",
    "        elif not atual_na and not seguinte_na and atual == seguinte and atual != 'Não Trabalhou':\n",
    "            return 'Manteve'\n",
    "        elif not atual_na and not seguinte_na and atual != seguinte:\n",
    "            return 'Trocou'\n",
    "        else:\n",
    "            return 'Sem Informação'\n",
    "    \n",
    "    df_trab[coluna_troca] = df_trab.apply(verifica_troca, axis=1)\n",
    "    return df_trab\n",
    "\n",
    "# Criar colunas de troca de emprego para os anos de 2009 a 2019\n",
    "for ano in range(2009, 2019):\n",
    "    df_trab = coluna_troca_emprego(df_trab, ano, ano + 1)\n",
    "\n",
    "df_trab.head()"
   ]
  },
  {
   "cell_type": "markdown",
   "id": "4367092c-6a6b-4575-8999-8bb9dca6e6ef",
   "metadata": {},
   "source": [
    "Criação de uma coluna que indica quantas vezes um indivíduo trocou de trabalho ao longo da década"
   ]
  },
  {
   "cell_type": "code",
   "execution_count": null,
   "id": "1ad9d271-2d35-4071-a701-300a0f7cb73a",
   "metadata": {},
   "outputs": [],
   "source": [
    "def trocas_emprego(row):\n",
    "    colunas_troca = [f'troca_emprego_{ano}_{ano + 1}' for ano in range(2009, 2019)]\n",
    "    return sum(row[col] == 'Trocou' for col in colunas_troca)\n",
    "\n",
    "df_trab['total_trocas_emprego'] = df_trab.apply(trocas_emprego, axis=1)"
   ]
  },
  {
   "cell_type": "code",
   "execution_count": null,
   "id": "f23f6f5e-0301-48ff-8614-dd30b09f7225",
   "metadata": {},
   "outputs": [],
   "source": [
    "df_trab.head(2)"
   ]
  },
  {
   "cell_type": "markdown",
   "id": "f185fa5d-661e-47e3-9a80-683fd6510d82",
   "metadata": {},
   "source": [
    "- Número médio de trocas de trabalho ao longos dos 11 anos."
   ]
  },
  {
   "cell_type": "code",
   "execution_count": null,
   "id": "9ce8b370-cfbf-4b4f-9252-29d0f11a3e2f",
   "metadata": {},
   "outputs": [],
   "source": [
    "media_trocas_emprego = round(df_trab['total_trocas_emprego'].mean(),2)\n",
    "print(f\"A média de trocas de emprego é: {media_trocas_emprego}\")"
   ]
  },
  {
   "cell_type": "markdown",
   "id": "6df21200-50b0-497a-a0ac-182ee7f841b4",
   "metadata": {},
   "source": [
    "Criação de uma coluna que indica quantas vezes um indivíduo trocou de trabalho ao longo da década"
   ]
  },
  {
   "cell_type": "code",
   "execution_count": null,
   "id": "fd8bb770-39f0-40d6-8f50-ada8137da63a",
   "metadata": {},
   "outputs": [],
   "source": [
    "def manteve_emprego(row):\n",
    "    colunas_troca = [f'troca_emprego_{ano}_{ano + 1}' for ano in range(2009, 2019)]\n",
    "    return sum(row[col] == 'Manteve' for col in colunas_troca)\n",
    "\n",
    "df_trab['total_manteve_emprego'] = df_trab.apply(manteve_emprego, axis=1)"
   ]
  },
  {
   "cell_type": "code",
   "execution_count": null,
   "id": "a8a5fd7b-dc89-4cd0-9140-423188db1c77",
   "metadata": {},
   "outputs": [],
   "source": [
    "df_trab.tail(2)"
   ]
  },
  {
   "cell_type": "markdown",
   "id": "c8fd031f-d7e6-4c80-ae0d-042d576e096f",
   "metadata": {},
   "source": [
    "- Número médio de vezes que os trabalhadores permaneceram na mesma empresa ao trabalho ao longos dos 11 anos."
   ]
  },
  {
   "cell_type": "code",
   "execution_count": null,
   "id": "50f3b8ea-b4b6-40d3-ac30-bc3ece06fefc",
   "metadata": {},
   "outputs": [],
   "source": [
    "media_manteve_emprego = round(df_trab['total_manteve_emprego'].mean(),2)\n",
    "print(f\"A média de trocas de emprego é: {media_manteve_emprego}\")"
   ]
  },
  {
   "cell_type": "markdown",
   "id": "241c7b74-a318-44fa-849f-ded90ae86ba5",
   "metadata": {},
   "source": [
    "#### Número de Empresas"
   ]
  },
  {
   "cell_type": "markdown",
   "id": "31ca81fc-16eb-431a-a0e0-497a0db69d5e",
   "metadata": {},
   "source": [
    "- Empresas distintas em cada ano"
   ]
  },
  {
   "cell_type": "code",
   "execution_count": null,
   "id": "5dccda8c-59a7-4804-8244-54623960c80c",
   "metadata": {},
   "outputs": [],
   "source": [
    "na_values = ['Não Trabalhou']\n",
    "\n",
    "columns_of_interest = [f'nuemp_{year:02}' for year in range(9, 20)]\n",
    "\n",
    "results = []\n",
    "\n",
    "for col in columns_of_interest:\n",
    "    unique_companies = set()\n",
    "    unique_values = df_trab[col].unique()  # Pegar todos os valores da coluna\n",
    "    for val in unique_values:\n",
    "        if pd.notna(val) and val not in na_values:\n",
    "            unique_companies.add(val)\n",
    "    year = 2000 + int(col[-2:])  # Ajuste para o ano completo\n",
    "    results.append({\n",
    "        'Ano': year,  # Usar o ano completo\n",
    "        'N_emp_distinct': len(unique_companies)\n",
    "    })\n",
    "\n",
    "results_df = pd.DataFrame(results)\n",
    "tab_emp = results_df.sort_values(by='Ano')\n",
    "tab_emp"
   ]
  },
  {
   "cell_type": "markdown",
   "id": "736611d5-47a3-4d4d-b2f7-47a4a637de64",
   "metadata": {},
   "source": [
    "- Ao longo da década"
   ]
  },
  {
   "cell_type": "code",
   "execution_count": null,
   "id": "20d46581-a040-44c4-8784-e80df2d47078",
   "metadata": {},
   "outputs": [],
   "source": [
    "na_values = ['Não Trabalhou']  \n",
    "\n",
    "columns_of_interest = [f'nuemp_{year:02}' for year in range(9, 20)]\n",
    "\n",
    "unique_companies = set()\n",
    "\n",
    "for col in columns_of_interest:\n",
    "    unique_values = df_trab[col].unique()  \n",
    "    for val in unique_values:\n",
    "        if pd.notna(val) and val not in na_values:\n",
    "            unique_companies.add(val)\n",
    "\n",
    "num_unique_companies = len(unique_companies)\n",
    "\n",
    "print(f\"Número de empresas ao longo da década: {num_unique_companies}\")"
   ]
  },
  {
   "cell_type": "code",
   "execution_count": null,
   "id": "8d3142b7-eadc-4a25-b1c9-488617f6be9a",
   "metadata": {},
   "outputs": [],
   "source": [
    "# Junção das tab_trab e tab_emp\n",
    "tab_trab['Ano'] = tab_trab['Ano'].astype(str)\n",
    "tab_emp['Ano'] = tab_emp['Ano'].astype(str)\n",
    "\n",
    "merged_df = pd.merge(tab_trab, tab_emp, on='Ano')\n",
    "merged_df"
   ]
  },
  {
   "cell_type": "code",
   "execution_count": null,
   "id": "cc2ae0b2-a25a-4fdc-924e-f8001d01eaa6",
   "metadata": {},
   "outputs": [],
   "source": [
    "merged_df.to_excel('tab_trab_emp.xlsx', index=False)"
   ]
  },
  {
   "cell_type": "markdown",
   "id": "f6bad387-f9d8-4888-9b7a-ef9a1d0007b3",
   "metadata": {},
   "source": [
    "#### Trocas de Trabalho ao Longo dos Anos"
   ]
  },
  {
   "cell_type": "code",
   "execution_count": null,
   "id": "43433e9a-19aa-403a-ba54-c642dc6b57e2",
   "metadata": {},
   "outputs": [],
   "source": [
    "troca_columns = [col for col in df_trab.columns if col.startswith('troca_emprego_')]\n",
    "\n",
    "unique_values = {col: df_trab[col].unique() for col in troca_columns}\n",
    "\n",
    "for col, unique in unique_values.items():\n",
    "    print(f\"Valores únicos na coluna {col}: {unique}\")"
   ]
  },
  {
   "cell_type": "code",
   "execution_count": null,
   "id": "04e11c7e-6ca6-4fde-921f-622072176430",
   "metadata": {},
   "outputs": [],
   "source": [
    "counts = {'Ano': [], 'Trocou': [], 'Manteve': [], 'Sem Informação': []}\n",
    "\n",
    "for column in df_trab.columns:\n",
    "    if column.startswith('troca_emprego_'):\n",
    "        match = re.match(r'troca_emprego_(\\d{4})_(\\d{4})', column)\n",
    "        if match:\n",
    "            start_year, end_year = match.groups()\n",
    "            formatted_year = f\"{start_year}-{end_year}\"\n",
    "        else:\n",
    "            formatted_year = column  # Caso não corresponda ao formato esperado\n",
    "        \n",
    "        counts['Ano'].append(formatted_year)\n",
    "        counts['Trocou'].append(df_trab[column].value_counts().get('Trocou', 0))\n",
    "        counts['Manteve'].append(df_trab[column].value_counts().get('Manteve', 0))\n",
    "        counts['Sem Informação'].append(df_trab[column].value_counts().get('Sem Informação', 0))\n",
    "\n",
    "tab_trocas = pd.DataFrame(counts)\n",
    "tab_trocas"
   ]
  },
  {
   "cell_type": "code",
   "execution_count": null,
   "id": "20c93920-c6fb-41c0-8ec7-deeed76d1a8a",
   "metadata": {},
   "outputs": [],
   "source": [
    "valor_contagem = df_trab['troca_emprego_2010_2011'].value_counts()\n",
    "valor_contagem"
   ]
  },
  {
   "cell_type": "code",
   "execution_count": null,
   "id": "b966b0a6-d82d-4320-a5bf-b41598b88f20",
   "metadata": {},
   "outputs": [],
   "source": [
    "tab_trocas.to_excel('tab_trocas.xlsx', index=False)"
   ]
  },
  {
   "cell_type": "markdown",
   "id": "6e2c92c6-d0a0-4ee2-88ff-7c4b631f397b",
   "metadata": {},
   "source": [
    "### Habilitações Literárias por Ano"
   ]
  },
  {
   "cell_type": "code",
   "execution_count": null,
   "id": "adbe52db-7ff0-47c0-8a77-be185b135959",
   "metadata": {},
   "outputs": [],
   "source": [
    "habil_columns = [col for col in df_trab.columns if col.startswith('habil1_')]\n",
    "\n",
    "unique_values = {col: df_trab[col].unique() for col in habil_columns}\n",
    "\n",
    "for col, unique in unique_values.items():\n",
    "    print(f\"Valores únicos na coluna {col}: {unique}\")"
   ]
  },
  {
   "cell_type": "code",
   "execution_count": null,
   "id": "c5a2e8f2-0bc6-4ad8-88ef-54fb7b9528cd",
   "metadata": {},
   "outputs": [],
   "source": [
    "valor_contagem = df['habil1_10'].value_counts()\n",
    "valor_contagem"
   ]
  },
  {
   "cell_type": "code",
   "execution_count": null,
   "id": "f825b856-8752-4885-bcf7-db63de721340",
   "metadata": {},
   "outputs": [],
   "source": [
    "counts = {'Ano': [], 'Inferior 1º Ciclo': [], 'Básico': [], 'Secundário': [], 'Pós Secundário não Superior Nível IV': [], \n",
    "          'Bacharelato': [], 'Licenciatura': [],\n",
    "          'Mestrado': [], 'Doutoramento': [], 'Ignorada': []}\n",
    "\n",
    "for column in df_trab.columns:\n",
    "    if column.startswith('habil1_'):\n",
    "        year = column.split('_')[1]\n",
    "        counts['Ano'].append(int(year) + 2000)\n",
    "        counts['Inferior 1º Ciclo'].append(df_trab[column].value_counts().get(1, 0))\n",
    "        counts['Básico'].append(df_trab[column].value_counts().get(2, 0))\n",
    "        counts['Secundário'].append(df_trab[column].value_counts().get(3, 0))\n",
    "        counts['Pós Secundário não Superior Nível IV'].append(df_trab[column].value_counts().get(4, 0))\n",
    "        counts['Bacharelato'].append(df_trab[column].value_counts().get(5, 0))\n",
    "        counts['Licenciatura'].append(df_trab[column].value_counts().get(6, 0))\n",
    "        counts['Mestrado'].append(df_trab[column].value_counts().get(7, 0))\n",
    "        counts['Doutoramento'].append(df_trab[column].value_counts().get(8, 0))\n",
    "        counts['Ignorada'].append(df_trab[column].value_counts().get(9, 0))\n",
    "\n",
    "tab_habil = pd.DataFrame(counts)\n",
    "tab_habil"
   ]
  },
  {
   "cell_type": "code",
   "execution_count": null,
   "id": "7bb79f6b-e1c6-4d7d-8b09-4eb4e4e4ae42",
   "metadata": {},
   "outputs": [],
   "source": [
    "tab_habil.to_excel('tab_habil.xlsx', index=False)"
   ]
  },
  {
   "cell_type": "markdown",
   "id": "3bcc37b3-043e-4fbb-a209-7d54f7acf341",
   "metadata": {},
   "source": [
    "### Tipo de Contrato por Ano "
   ]
  },
  {
   "cell_type": "code",
   "execution_count": null,
   "id": "1acdcdf2-239a-4373-a123-164842d0b375",
   "metadata": {},
   "outputs": [],
   "source": [
    "tipo_cont1_columns = [col for col in df_trab.columns if col.startswith('tipo_contr1_')]\n",
    "\n",
    "unique_values = {col: df_trab[col].unique() for col in tipo_cont1_columns}\n",
    "\n",
    "for col, unique in unique_values.items():\n",
    "    print(f\"Valores únicos na coluna {col}: {unique}\")"
   ]
  },
  {
   "cell_type": "code",
   "execution_count": null,
   "id": "8681c6bf-852c-4245-bd14-66e1c079223e",
   "metadata": {},
   "outputs": [],
   "source": [
    "valor_contagem = df_trab['tipo_contr1_09'].value_counts()\n",
    "valor_contagem"
   ]
  },
  {
   "cell_type": "code",
   "execution_count": null,
   "id": "aa85b7ac-d35b-404e-b0b7-89cfc4c9114d",
   "metadata": {
    "scrolled": true
   },
   "outputs": [],
   "source": [
    "counts = {'Ano': [], 'Sem Termo': [], 'Com Termo Certo': [], 'Com Termo Incerto': [], 'Outra Situação': []}\n",
    "\n",
    "for column in df_trab.columns:\n",
    "    if column.startswith('tipo_contr1_'):\n",
    "        year_part = column.split('_')[-1]\n",
    "        year = int(year_part)\n",
    "        counts['Ano'].append(year + 2000)\n",
    "        counts['Sem Termo'].append(df_trab[column].value_counts().get(1, 0))\n",
    "        counts['Com Termo Certo'].append(df_trab[column].value_counts().get(2, 0))\n",
    "        counts['Com Termo Incerto'].append(df_trab[column].value_counts().get(3, 0))\n",
    "        counts['Outra Situação'].append(df_trab[column].value_counts().get(8, 0))\n",
    "\n",
    "tab_tipo_contr = pd.DataFrame(counts)\n",
    "tab_tipo_contr"
   ]
  },
  {
   "cell_type": "code",
   "execution_count": null,
   "id": "4ea712ef-d4ba-4ce3-84c1-253b2e75d3f4",
   "metadata": {},
   "outputs": [],
   "source": [
    "tab_tipo_contr.to_excel('tab_tipo_contr.xlsx', index=False)"
   ]
  },
  {
   "cell_type": "markdown",
   "id": "f8e64eb2-c717-4207-be4e-ccffc532f146",
   "metadata": {},
   "source": [
    "### Cae por Ano "
   ]
  },
  {
   "cell_type": "code",
   "execution_count": null,
   "id": "b92e7f36-b00f-4c18-972e-16272e23b335",
   "metadata": {},
   "outputs": [],
   "source": [
    "caem1l_columns = [col for col in df_trab.columns if col.startswith('caem1l_')]\n",
    "\n",
    "unique_values = {col: df_trab[col].unique() for col in caem1l_columns}\n",
    "\n",
    "for col, unique in unique_values.items():\n",
    "    print(f\"Valores únicos na coluna {col}: {unique}\")"
   ]
  },
  {
   "cell_type": "code",
   "execution_count": null,
   "id": "f98bdb46-6d33-4ab0-a7d4-d4cc15400812",
   "metadata": {},
   "outputs": [],
   "source": [
    "caem1l_columns = [col for col in df_trab.columns if col.startswith('caem1l_')]\n",
    "\n",
    "unique_values_set = set()\n",
    "\n",
    "for col in caem1l_columns:\n",
    "    unique_values_set.update(df_trab[col].unique())\n",
    "\n",
    "unique_values_list = list(unique_values_set)\n",
    "\n",
    "print(f\"Valores únicos gerais nas colunas que começam com 'prof_3d': {unique_values_list}\")"
   ]
  },
  {
   "cell_type": "code",
   "execution_count": null,
   "id": "ffafa0c6-b04d-4c5a-b3c9-691bbf22296e",
   "metadata": {},
   "outputs": [],
   "source": [
    "valor_contagem = df_trab['caem1l_09'].value_counts()\n",
    "valor_contagem"
   ]
  },
  {
   "cell_type": "code",
   "execution_count": null,
   "id": "1187e0c7-ed65-4b91-9ecc-2874e42ed767",
   "metadata": {
    "scrolled": true
   },
   "outputs": [],
   "source": [
    "counts = {\n",
    "    'Ano': [], \n",
    "    'Cae_A': [], 'Cae_B': [], 'Cae_C': [], 'Cae_D': [], 'Cae_E': [], 'Cae_F': [], 'Cae_G': [], \n",
    "    'Cae_H': [], 'Cae_I': [], 'Cae_J': [], 'Cae_K': [], 'Cae_L': [], 'Cae_M': [], 'Cae_N': [], \n",
    "    'Cae_O': [], 'Cae_P': [], 'Cae_Q': [], 'Cae_R': [], 'Cae_S': [], 'Cae_U': []\n",
    "}\n",
    "\n",
    "for column in df_trab.columns:\n",
    "    if column.startswith('caem1l_'):\n",
    "        year_part = column.split('_')[-1]\n",
    "        year = int(year_part)\n",
    "        counts['Ano'].append(year + 2000)\n",
    "        counts['Cae_A'].append(df_trab[column].value_counts().get(1, 0))\n",
    "        counts['Cae_B'].append(df_trab[column].value_counts().get(2, 0))\n",
    "        counts['Cae_C'].append(df_trab[column].value_counts().get(3, 0))\n",
    "        counts['Cae_D'].append(df_trab[column].value_counts().get(4, 0))\n",
    "        counts['Cae_E'].append(df_trab[column].value_counts().get(5, 0))\n",
    "        counts['Cae_F'].append(df_trab[column].value_counts().get(6, 0))\n",
    "        counts['Cae_G'].append(df_trab[column].value_counts().get(7, 0))\n",
    "        counts['Cae_H'].append(df_trab[column].value_counts().get(8, 0))\n",
    "        counts['Cae_I'].append(df_trab[column].value_counts().get(9, 0))\n",
    "        counts['Cae_J'].append(df_trab[column].value_counts().get(10, 0))\n",
    "        counts['Cae_K'].append(df_trab[column].value_counts().get(11, 0))\n",
    "        counts['Cae_L'].append(df_trab[column].value_counts().get(12, 0))\n",
    "        counts['Cae_M'].append(df_trab[column].value_counts().get(13, 0))\n",
    "        counts['Cae_N'].append(df_trab[column].value_counts().get(14, 0))\n",
    "        counts['Cae_O'].append(df_trab[column].value_counts().get(15, 0))\n",
    "        counts['Cae_P'].append(df_trab[column].value_counts().get(16, 0))\n",
    "        counts['Cae_Q'].append(df_trab[column].value_counts().get(17, 0))\n",
    "        counts['Cae_R'].append(df_trab[column].value_counts().get(18, 0))\n",
    "        counts['Cae_S'].append(df_trab[column].value_counts().get(19, 0))\n",
    "        counts['Cae_U'].append(df_trab[column].value_counts().get(21, 0))\n",
    "\n",
    "tab_cae = pd.DataFrame(counts)\n",
    "tab_cae"
   ]
  },
  {
   "cell_type": "code",
   "execution_count": null,
   "id": "4a5c547b-1d6e-40b6-b06d-1fcc07c9e966",
   "metadata": {
    "scrolled": true
   },
   "outputs": [],
   "source": [
    "# Mapeamento dos nomes das colunas antigas para os novos nomes\n",
    "rename_map = {\n",
    "    'Cae_A': 'Agricultura, produção animal, caça, floresta e pesca',\n",
    "    'Cae_B': 'Indústrias extractivas',\n",
    "    'Cae_C': 'Indústrias transformadoras',\n",
    "    'Cae_D': 'Electricidade, gás, vapor, água quente e fria e ar frio',\n",
    "    'Cae_E': 'Captação, tratamento e distribuição de água; saneamento, gestão de resíduos e despoluição',\n",
    "    'Cae_F': 'Construção',\n",
    "    'Cae_G': 'Comércio por grosso e a retalho; reparação de veículos automóveis e motociclos',\n",
    "    'Cae_H': 'Transportes e armazenagem',\n",
    "    'Cae_I': 'Alojamento, restauração e similares',\n",
    "    'Cae_J': 'Actividades de informação e de comunicação',\n",
    "    'Cae_K': 'Actividades financeiras e de seguros',\n",
    "    'Cae_L': 'Actividades imobiliárias',\n",
    "    'Cae_M': 'Actividades de consultoria, científicas, técnicas e similares',\n",
    "    'Cae_N': 'Actividades administrativas e dos serviços de apoio',\n",
    "    'Cae_O': 'Administração Pública e Defesa; Segurança Social Obrigatória',\n",
    "    'Cae_P': 'Educação',\n",
    "    'Cae_Q': 'Actividades de saúde humana e apoio social',\n",
    "    'Cae_R': 'Actividades artísticas, de espectáculos, desportivas e recreativas',\n",
    "    'Cae_S': 'Outras actividades de serviços',\n",
    "    'Cae_U': 'Actividades dos organismos internacionais e outras instituições extra-territoriais'\n",
    "}\n",
    "# Renomear as colunas do DataFrame com base no mapeamento\n",
    "tab_cae.rename(columns=rename_map, inplace=True)\n",
    "tab_cae"
   ]
  },
  {
   "cell_type": "code",
   "execution_count": null,
   "id": "439d35ec-2cd0-42d9-9898-cf72586b9242",
   "metadata": {},
   "outputs": [],
   "source": [
    "tab_cae.to_excel('tab_cae.xlsx', index=False)"
   ]
  },
  {
   "cell_type": "markdown",
   "id": "d26ae94c-c853-45f0-accb-e92f95c8c30c",
   "metadata": {},
   "source": [
    "### Prof_3d por Ano\n",
    "- Tendo em consideração que se trata de uma variável categórica com mais de 100 categorias, torna-se importantes considerar apenas o Top10 de cada ano. "
   ]
  },
  {
   "cell_type": "code",
   "execution_count": null,
   "id": "4f68385f-751c-4b68-bf85-fe3a181a6843",
   "metadata": {},
   "outputs": [],
   "source": [
    "prof_3d_columns = [col for col in df_trab.columns if col.startswith('prof_3d_')]\n",
    "\n",
    "unique_values_set = set()\n",
    "\n",
    "for col in prof_3d_columns:\n",
    "    unique_values_set.update(df_trab[col].unique())\n",
    "\n",
    "unique_values_list = list(unique_values_set)\n",
    "\n",
    "print(f\"Valores únicos gerais nas colunas que começam com 'prof_3d': {unique_values_list}\")"
   ]
  },
  {
   "cell_type": "code",
   "execution_count": null,
   "id": "36b3cee1-2492-4879-b44b-6e418954c839",
   "metadata": {
    "scrolled": true
   },
   "outputs": [],
   "source": [
    "prof_3d_columns = [col for col in df_trab.columns if col.startswith('prof_3d_')]\n",
    "\n",
    "# Percorrer cada coluna e contar a frequência dos valores, apresentando apenas as 10 categorias mais comuns\n",
    "for col in prof_3d_columns:\n",
    "    valor_contagem = df_trab[col].value_counts().head(10)\n",
    "    print(f\"Top 10 valores na coluna {col}:\")\n",
    "    print(valor_contagem)\n",
    "    print(\"\\n\")"
   ]
  },
  {
   "cell_type": "code",
   "execution_count": null,
   "id": "1467915e-39ad-4c53-8d5e-2b6f4f7eba9f",
   "metadata": {},
   "outputs": [],
   "source": [
    "# Lista com os valores únicos dos top 10 de cada coluna\n",
    "unique_top10_values_set = set()\n",
    "\n",
    "for col in prof_3d_columns:\n",
    "    top10_values = df_trab[col].value_counts().head(10).index\n",
    "    unique_top10_values_set.update(top10_values)\n",
    "\n",
    "unique_top10_values_list = list(unique_top10_values_set)\n",
    "\n",
    "print(f\"Valores únicos dos top 10 em cada coluna que começa com 'prof_3d_': {unique_top10_values_list}\")"
   ]
  },
  {
   "cell_type": "code",
   "execution_count": null,
   "id": "ae1ad77d-d576-4f49-b26d-e3edba1da2bf",
   "metadata": {},
   "outputs": [],
   "source": [
    "unique_top10_values_list = [411, 422, 431, 432, 513, 522, 523, 524, 711, 712, 753, 815, 912, 931, 932, 962]\n",
    "\n",
    "counts = {value: [] for value in unique_top10_values_list}\n",
    "counts['Ano'] = []\n",
    "\n",
    "for column in prof_3d_columns:\n",
    "    year_part = column.split('_')[-1]\n",
    "    year = int(year_part) + 2000\n",
    "    counts['Ano'].append(year)\n",
    "    value_counts = df_trab[column].value_counts()\n",
    "    for value in unique_top10_values_list:\n",
    "        counts[value].append(value_counts.get(value, 0))\n",
    "\n",
    "\n",
    "tab_prof_3d = pd.DataFrame(counts)\n",
    "\n",
    "column_order = ['Ano'] + [value for value in unique_top10_values_list]\n",
    "tab_prof_3d = tab_prof_3d[column_order]\n",
    "\n",
    "tab_prof_3d"
   ]
  },
  {
   "cell_type": "code",
   "execution_count": null,
   "id": "8e820b4b-0761-4995-94d5-783c43b7633d",
   "metadata": {},
   "outputs": [],
   "source": [
    "# Mapeamento dos códigos para as descrições\n",
    "rename_map_prof = {\n",
    "    411: 'Empregado de escritório em geral',\n",
    "    422: 'Pessoal de recepção e de informação a clientes',\n",
    "    431: 'Operadores de dados, de contabilidade, estatística e serviços financeiros',\n",
    "    432: 'Empregados de aprovisionamento, armazém, de serviços de apoio à produção e transportes',\n",
    "    513: 'Empregados de mesa e bar',\n",
    "    522: 'Vendedores em lojas',\n",
    "    523: 'Operadores de caixa e venda de bilhetes',\n",
    "    524: 'Outros trabalhadores relacionados com vendas',\n",
    "    711: 'Trabalhadores qualificados da construção das estruturas básicas e similares',\n",
    "    712: 'Trabalhadores qualificados em acabamentos da construção e similares',\n",
    "    753: 'Trabalhadores da confecção de vestuário, curtidores de peles, sapateiros e similares',\n",
    "    815: 'Operadores de máquinas para o fabrico de produtos têxteis, de pele com pêlo e couro',\n",
    "    912: 'Trabalhadores de limpeza de veículos, janelas, roupa e de outra limpeza manual',\n",
    "    931: 'Trabalhadores não qualificados da indústria extractiva e construção',\n",
    "    932: 'Trabalhadores não qualificados da indústria transformadora',\n",
    "    962: 'Outras profissões elementares'\n",
    "}\n",
    "\n",
    "# Criar um novo mapeamento de colunas do DataFrame\n",
    "rename_map_prof_df = {value: rename_map_prof[value] for value in unique_top10_values_list}\n",
    "\n",
    "# Renomear as colunas do DataFrame com base no mapeamento\n",
    "tab_prof_3d.rename(columns=rename_map_prof_df, inplace=True)\n",
    "tab_prof_3d"
   ]
  },
  {
   "cell_type": "code",
   "execution_count": null,
   "id": "d3db5277-438c-4114-8b85-36bd5c31ce63",
   "metadata": {},
   "outputs": [],
   "source": [
    "tab_prof_3d.to_excel('tab_prof_3d.xlsx', index=False)"
   ]
  },
  {
   "cell_type": "markdown",
   "id": "cb2e6f56-d646-4f30-b125-7b1a418e04ae",
   "metadata": {},
   "source": [
    "### Distribuição dos Salários por Sexo"
   ]
  },
  {
   "cell_type": "code",
   "execution_count": null,
   "id": "a0fcd4b2-9020-451f-bafc-a69eaebe8df8",
   "metadata": {},
   "outputs": [],
   "source": [
    "ano_mapping = {\n",
    "    '09': '2009',\n",
    "    '10': '2010',\n",
    "    '11': '2011',\n",
    "    '12': '2012',\n",
    "    '13': '2013',\n",
    "    '14': '2014',\n",
    "    '15': '2015',\n",
    "    '16': '2016',\n",
    "    '17': '2017',\n",
    "    '18': '2018',\n",
    "    '19': '2019'\n",
    "}"
   ]
  },
  {
   "cell_type": "code",
   "execution_count": null,
   "id": "7d74eca8-8946-4259-ba1c-cecd43b5be02",
   "metadata": {},
   "outputs": [],
   "source": [
    "rganho_cols = [col for col in df_trab.columns if col.startswith('rganho_h')]\n",
    "\n",
    "df_long = df_trab.melt(id_vars=['sexo'], value_vars=rganho_cols, var_name='ano_rganho', value_name='rganho')\n",
    "\n",
    "# Filtrar as linhas onde 'rganho' não é \"Não Trabalhou\" e não é NaN\n",
    "df_long = df_long[(df_long['rganho'] != \"Não Trabalhou\") & (df_long['rganho'].notna())]\n",
    "df_long['rganho'] = pd.to_numeric(df_long['rganho'], errors='coerce')\n",
    "\n",
    "media_rganho_por_sexo = df_long.groupby(['sexo', 'ano_rganho'])['rganho'].mean().reset_index()\n",
    "tab_sexo_rganho = media_rganho_por_sexo.pivot(index='sexo', columns='ano_rganho', values='rganho')\n",
    "tab_sexo_rganho.reset_index(inplace=True)\n",
    "tab_sexo_rganho.columns.name = None\n",
    "\n",
    "colunas_anos = ['sexo'] + [ano_mapping[col.split('_')[-1]] for col in tab_sexo_rganho.columns[1:]]\n",
    "tab_sexo_rganho.columns = colunas_anos\n",
    "tab_sexo_rganho = tab_sexo_rganho.round(2)\n",
    "tab_sexo_rganho"
   ]
  },
  {
   "cell_type": "code",
   "execution_count": null,
   "id": "a36b2d38-f328-4c4b-abea-81b667aab362",
   "metadata": {},
   "outputs": [],
   "source": [
    "tab_sexo_rganho = tab_sexo_rganho.melt(id_vars=['sexo'], var_name='Ano', value_name='Rganho')\n",
    "tab_sexo_rganho = tab_sexo_rganho.rename(columns={'sexo': 'Sexo'})\n",
    "tab_sexo_rganho = tab_sexo_rganho[['Ano', 'Sexo', 'Rganho']]"
   ]
  },
  {
   "cell_type": "code",
   "execution_count": null,
   "id": "b2078af7-6796-463e-9bca-3156c89e85eb",
   "metadata": {},
   "outputs": [],
   "source": [
    "tab_sexo_rganho.to_excel('tab_sexo_rganho_h.xlsx', index=False)"
   ]
  },
  {
   "cell_type": "markdown",
   "id": "b1f1da2e-e354-41b8-9a67-1519565c0c2c",
   "metadata": {},
   "source": [
    "### Distribuição dos Salários por Tipo de Contrato e por Ano"
   ]
  },
  {
   "cell_type": "code",
   "execution_count": null,
   "id": "f37b3419-ef03-4809-abeb-321f9e1c0b7a",
   "metadata": {},
   "outputs": [],
   "source": [
    "ano_mapping = {\n",
    "    '09': '2009',\n",
    "    '10': '2010',\n",
    "    '11': '2011',\n",
    "    '12': '2012',\n",
    "    '13': '2013',\n",
    "    '14': '2014',\n",
    "    '15': '2015',\n",
    "    '16': '2016',\n",
    "    '17': '2017',\n",
    "    '18': '2018',\n",
    "    '19': '2019'\n",
    "}\n",
    "\n",
    "rganho_cols = [col for col in df_trab.columns if 'rganho_h' in col]\n",
    "tipo_contr_cols = [col for col in df_trab.columns if 'tipo_contr' in col]\n",
    "\n",
    "df_long_rganho = df_trab.melt(id_vars=[], value_vars=rganho_cols, var_name='ano_rganho', value_name='rganho')\n",
    "df_long_rganho['ano'] = df_long_rganho['ano_rganho'].apply(lambda x: x.split('_')[2])\n",
    "\n",
    "df_long_tipo_contr = df_trab.melt(id_vars=[], value_vars=tipo_contr_cols, var_name='ano_tipo_contr', value_name='tipo_contr')\n",
    "df_long_tipo_contr['ano'] = df_long_tipo_contr['ano_tipo_contr'].apply(lambda x: x.split('_')[2])\n",
    "\n",
    "df_combined = pd.concat([df_long_rganho, df_long_tipo_contr['tipo_contr']], axis=1)\n",
    "\n",
    "df_combined = df_combined[df_combined['tipo_contr'] != \"Não Trabalhou\"]\n",
    "df_combined['rganho'] = pd.to_numeric(df_combined['rganho'], errors='coerce')\n",
    "df_combined['ano'] = df_combined['ano'].map(ano_mapping)\n",
    "media_rganho_tipo_contr = df_combined.groupby(['tipo_contr', 'ano'])['rganho'].mean().unstack().reset_index()\n",
    "\n",
    "media_rganho_tipo_contr.columns.name = None\n",
    "media_rganho_tipo_contr = media_rganho_tipo_contr.rename_axis(None, axis=1).fillna(0)\n",
    "\n",
    "media_rganho_tipo_contr = media_rganho_tipo_contr.round(2)\n",
    "media_rganho_tipo_contr"
   ]
  },
  {
   "cell_type": "code",
   "execution_count": null,
   "id": "c0c530b1-dcfb-46c7-bbae-3dd5b237be38",
   "metadata": {},
   "outputs": [],
   "source": [
    "# Inverter a tabela para estar no formato desejado no Power BI\n",
    "tab_tipo_contr_rganho = media_rganho_tipo_contr.melt(id_vars=['tipo_contr'], var_name='Ano', value_name='Rganho')\n",
    "tab_tipo_contr_rganho = tab_tipo_contr_rganho.rename(columns={'tipo_contr': 'Tipo de Contrato'})\n",
    "tab_tipo_contr_rganho = tab_tipo_contr_rganho[['Ano', 'Tipo de Contrato', 'Rganho']]"
   ]
  },
  {
   "cell_type": "code",
   "execution_count": null,
   "id": "4f2db121-1a90-4691-90a2-4d644fe83e29",
   "metadata": {},
   "outputs": [],
   "source": [
    "tab_tipo_contr_rganho.to_excel('tab_tipo_contr_rganho_h.xlsx', index=False)"
   ]
  },
  {
   "cell_type": "markdown",
   "id": "d1d387a8-e622-4539-bcda-7fa64c3cf9cf",
   "metadata": {},
   "source": [
    "### Média de Horas Mensais por Ano"
   ]
  },
  {
   "cell_type": "code",
   "execution_count": null,
   "id": "36bb0562-d466-4924-98f3-91c665b13463",
   "metadata": {},
   "outputs": [],
   "source": [
    "hnormais_cols = [col for col in df_trab.columns if 'hnormais' in col]\n",
    "\n",
    "df_long_hnormais = df_trab.melt(id_vars=[], value_vars=hnormais_cols, var_name='ano_hnormais', value_name='hnormais')\n",
    "\n",
    "df_long_hnormais['ano'] = df_long_hnormais['ano_hnormais'].apply(lambda x: f\"20{x.split('_')[1]}\")\n",
    "df_long_hnormais['hnormais'] = pd.to_numeric(df_long_hnormais['hnormais'], errors='coerce')\n",
    "\n",
    "# Calcular a média de hnormais por ano\n",
    "media_hnormais = df_long_hnormais.groupby('ano')['hnormais'].mean().reset_index()\n",
    "\n",
    "media_hnormais.columns = ['Ano', 'Média de Horas Normais']\n",
    "\n",
    "media_hnormais = media_hnormais.round(0)\n",
    "media_hnormais"
   ]
  },
  {
   "cell_type": "code",
   "execution_count": null,
   "id": "63a651ed-e872-4d1f-a1e7-3208b5eb83df",
   "metadata": {},
   "outputs": [],
   "source": [
    "media_hnormais.to_excel('tab_media_hnormais.xlsx', index=False)"
   ]
  },
  {
   "cell_type": "markdown",
   "id": "8acbef42-280d-4371-8b8c-f521c7225e66",
   "metadata": {},
   "source": [
    "### Média de Horas Extras Mensais por Ano"
   ]
  },
  {
   "cell_type": "code",
   "execution_count": null,
   "id": "b4767238-c7ad-42f1-819c-3c72c1376ad6",
   "metadata": {},
   "outputs": [],
   "source": [
    "hnormais_cols = [col for col in df_trab.columns if 'hextra' in col]\n",
    "\n",
    "df_long_hnormais = df.melt(id_vars=[], value_vars=hnormais_cols, var_name='ano_hextra', value_name='hextra')\n",
    "df_long_hnormais['ano'] = df_long_hnormais['ano_hextra'].apply(lambda x: f\"20{x.split('_')[1]}\")\n",
    "df_long_hnormais['hextra'] = pd.to_numeric(df_long_hnormais['hextra'], errors='coerce')\n",
    "\n",
    "# Calcular a média de hnormais por ano\n",
    "media_hnormais = df_long_hnormais.groupby('ano')['hextra'].mean().reset_index()\n",
    "\n",
    "media_hnormais.columns = ['Ano', 'Média de Horas Extra']\n",
    "\n",
    "media_hextras = media_hnormais.round(0)\n",
    "media_hextras"
   ]
  },
  {
   "cell_type": "code",
   "execution_count": null,
   "id": "7dd54c24-d07b-4261-bcc8-39bef27f14a3",
   "metadata": {},
   "outputs": [],
   "source": [
    "media_hextras.to_excel('tab_media_hextras.xlsx', index=False)"
   ]
  },
  {
   "cell_type": "markdown",
   "id": "56b98e72-ec73-4619-a3f6-6939ad6767b8",
   "metadata": {},
   "source": [
    "---\n",
    "Beatriz Lapa - Tese de Mestrado"
   ]
  }
 ],
 "metadata": {
  "kernelspec": {
   "display_name": "Python 3 (ipykernel)",
   "language": "python",
   "name": "python3"
  },
  "language_info": {
   "codemirror_mode": {
    "name": "ipython",
    "version": 3
   },
   "file_extension": ".py",
   "mimetype": "text/x-python",
   "name": "python",
   "nbconvert_exporter": "python",
   "pygments_lexer": "ipython3",
   "version": "3.12.4"
  }
 },
 "nbformat": 4,
 "nbformat_minor": 5
}
