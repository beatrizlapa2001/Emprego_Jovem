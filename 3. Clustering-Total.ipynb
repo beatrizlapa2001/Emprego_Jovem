{
 "cells": [
  {
   "cell_type": "markdown",
   "id": "73a89372-8c93-4b13-9a32-d5f07e686f8f",
   "metadata": {},
   "source": [
    "# <font color='darkred'>Tese de Mestrado</font>\n",
    "## Modelling Clustering"
   ]
  },
  {
   "cell_type": "code",
   "execution_count": null,
   "id": "e3326155-edf7-42c4-9095-62d6e5a6f830",
   "metadata": {},
   "outputs": [],
   "source": [
    "# Importação de Bibliotecas\n",
    "import pandas as pd\n",
    "import numpy as np\n",
    "import Levenshtein\n",
    "from sklearn.cluster import KMeans\n",
    "from sklearn.preprocessing import StandardScaler\n",
    "from sklearn.metrics import silhouette_score\n",
    "import matplotlib.pyplot as plt\n",
    "import seaborn as sns\n",
    "from sklearn.decomposition import PCA\n",
    "from sklearn.preprocessing import MinMaxScaler"
   ]
  },
  {
   "cell_type": "code",
   "execution_count": null,
   "id": "28f106d5-ba8a-4840-a67d-3f9b77e2de0c",
   "metadata": {},
   "outputs": [],
   "source": [
    "import warnings\n",
    "warnings.filterwarnings(\"ignore\")"
   ]
  },
  {
   "cell_type": "code",
   "execution_count": null,
   "id": "4760d7ba-e260-4d1c-93ea-c6a955bb695a",
   "metadata": {
    "scrolled": true
   },
   "outputs": [],
   "source": [
    "df = pd.read_excel('df_final.xlsx')\n",
    "df.head()"
   ]
  },
  {
   "cell_type": "code",
   "execution_count": null,
   "id": "9794b41d-5d6c-4bfa-9b7f-cdd072a5ed2b",
   "metadata": {},
   "outputs": [],
   "source": [
    "colunas = list(df.columns)\n",
    "print(colunas)"
   ]
  },
  {
   "cell_type": "markdown",
   "id": "297f227a-3710-409f-90bb-14e28681753e",
   "metadata": {},
   "source": [
    "### <font color='darkred'>Tratamento</font>\n",
    "#### Identificação dos Valores Omissos"
   ]
  },
  {
   "cell_type": "code",
   "execution_count": null,
   "id": "e90e70c5-6d5b-4fcb-a435-81fc8ab8e28f",
   "metadata": {},
   "outputs": [],
   "source": [
    "total_omissos = df.isna().sum().sum()\n",
    "print(\"\\nNúmero total de valores omissos no DataFrame:\", total_omissos)"
   ]
  },
  {
   "cell_type": "code",
   "execution_count": null,
   "id": "526b05e6-c45d-46da-b613-8a4a120e6a40",
   "metadata": {},
   "outputs": [],
   "source": [
    "# Substituição dos valores omissos por NA\n",
    "df.replace('', np.nan, inplace=True)"
   ]
  },
  {
   "cell_type": "markdown",
   "id": "b9840b60-fa67-43b3-872e-24318e0e806b",
   "metadata": {},
   "source": [
    "## <font color='darkred'>Clustering</font>\n",
    "### Variáveis Utilizadas no Clustering:\n",
    "- Tipo de Contrato;\n",
    "- Salário (rganho);\n",
    "- Cae (caem1l);\n",
    "- Profissão (prof_3d);\n",
    "- Sexo;\n",
    "- Nº de Anos no Privado.\n",
    "- Trocas de Empresa"
   ]
  },
  {
   "cell_type": "markdown",
   "id": "2fb0af8b-d719-47e7-b771-ecb1cd92e34e",
   "metadata": {},
   "source": [
    "#### Tipo de Contrato:\n",
    "- Criação de uma coluna que resulta da copilação do Tipo de Contrato de cada Trabalhador ao longo dos anos."
   ]
  },
  {
   "cell_type": "code",
   "execution_count": null,
   "id": "c31d56be-b1e8-4b0e-a420-7db56b4b7380",
   "metadata": {},
   "outputs": [],
   "source": [
    "df_trab = df.copy()"
   ]
  },
  {
   "cell_type": "code",
   "execution_count": null,
   "id": "f0b2a2ff-db78-48b3-872c-07d06ae3966a",
   "metadata": {},
   "outputs": [],
   "source": [
    "df_trab.columns"
   ]
  },
  {
   "cell_type": "code",
   "execution_count": null,
   "id": "f0bdd025-5c22-4317-a0b3-7eb26cf21fc2",
   "metadata": {},
   "outputs": [],
   "source": [
    "def tratamento_contrato(contrato):\n",
    "    contrato = str(contrato)  \n",
    "    if contrato == 'Não Trabalhou':\n",
    "        return '0'\n",
    "    else:\n",
    "        return contrato  \n",
    "\n",
    "def criacao_trajetoria(row):\n",
    "    anos = [str(year)[-2:] for year in range(2009, 2020)]\n",
    "    trajetoria = ''\n",
    "    for ano in anos:\n",
    "        col = f'tipo_contr1_{ano}'\n",
    "        tipos = str(row[col])  \n",
    "        trajetoria += tratamento_contrato(tipos)\n",
    "    return trajetoria  #\n",
    "\n",
    "# Criação de uma coluna com a trajetória ao longo dos anos\n",
    "df_trab['trajetoria_contratos'] = df_trab.apply(criacao_trajetoria, axis=1)\n",
    "\n",
    "df_trab.head()"
   ]
  },
  {
   "cell_type": "code",
   "execution_count": null,
   "id": "a5a8fe44-d512-4371-aaef-f72ef64bde49",
   "metadata": {},
   "outputs": [],
   "source": [
    "trajetorias_unicas = df_trab['trajetoria_contratos'].unique()\n",
    "n_trajetorias_unicas = len(trajetorias_unicas)\n",
    "\n",
    "print(\"\\nNúmero total de trajetórias únicas:\", n_trajetorias_unicas)"
   ]
  },
  {
   "cell_type": "markdown",
   "id": "c6d9237e-03c7-4156-93e9-81d1273c6217",
   "metadata": {},
   "source": [
    "**Distância de Levenshtein**\n",
    "- Para calcular a próximidade desta variável utilizar-se-á a distância de Levenshtein que mede o número mínimo de operações necessárias para transformar uma string em outra.\n",
    "\n",
    "No exemplo que se segue a trajetória de referência é '1111'\n",
    "| trajetoria_contratos | distancia |\n",
    "|----------------------|---------------------|\n",
    "| 1111                 | 0                   |\n",
    "| 0001                 | 3                   |\n",
    "| 0101                 | 2                   |\n",
    "| 0000                 | 4                   |\n",
    "| 0010                 | 3                   |"
   ]
  },
  {
   "cell_type": "code",
   "execution_count": null,
   "id": "545b5dfe-3c53-47d4-823a-ef6889c0b1c7",
   "metadata": {},
   "outputs": [],
   "source": [
    "# Top 10 de trajetórias mais frequentes\n",
    "valor_contagem = df_trab['trajetoria_contratos'].value_counts()\n",
    "\n",
    "top_10_valores = valor_contagem.head(10)\n",
    "top_10_valores"
   ]
  },
  {
   "cell_type": "code",
   "execution_count": null,
   "id": "074833ac-62ab-4e9f-9b9f-1a41b194007f",
   "metadata": {},
   "outputs": [],
   "source": [
    "trajetoria_referencia = '11111111111'\n",
    "print(f\"Trajetória de referência: {trajetoria_referencia}\")"
   ]
  },
  {
   "cell_type": "code",
   "execution_count": null,
   "id": "14aca5ad-f59b-4b11-a111-f6ecab5b3a4e",
   "metadata": {},
   "outputs": [],
   "source": [
    "def calcular_distancia(trajetoria, referencia):\n",
    "    return Levenshtein.distance(trajetoria, referencia)\n",
    "\n",
    "# Calcular a distância de todas as trajetórias únicas para a trajetória de referência\n",
    "distancias = [calcular_distancia(traj, trajetoria_referencia) for traj in trajetorias_unicas]\n",
    "\n",
    "df_distancias = pd.DataFrame({'trajetoria': trajetorias_unicas, 'dist_tipocontr': distancias})\n",
    "df_distancias.head()"
   ]
  },
  {
   "cell_type": "code",
   "execution_count": null,
   "id": "e39f32a8-d2bc-4f91-bf6a-9082fa8fc445",
   "metadata": {},
   "outputs": [],
   "source": [
    "df_merged = df_distancias.merge(df_trab, left_on='trajetoria', right_on='trajetoria_contratos')\n",
    "\n",
    "df_merged.drop(columns=['trajetoria'], inplace=True)\n",
    "\n",
    "cols = [col for col in df_merged.columns if col not in ['dist_tipocontr']]\n",
    "cols += ['dist_tipocontr']\n",
    "df_merged = df_merged[cols]\n",
    "\n",
    "df_merged.head()"
   ]
  },
  {
   "cell_type": "markdown",
   "id": "e9e43173-edd7-4637-831b-82fd3ff91d46",
   "metadata": {},
   "source": [
    "### Salário:\n",
    "- Crescimento médio anual para cada trabalhador.\n",
    "\n",
    "O cálculo a seguir demonstra como será feito o cálculo do Crescimento Médio Anual para o trabalhador com `ntrab` 322655233:\n",
    "\n",
    "| Ano  | Ganho (R$)   | Crescimento (%)  |\n",
    "|------|--------------|-------------------|\n",
    "| 2009 | 1566,7       | -                 |\n",
    "| 2010 | 957,047      | -38,9%            |\n",
    "| 2011 | 902,602      | -5,7%             |\n",
    "| 2012 | 862,69       | -4,4%             |\n",
    "| 2013 | 797,81       | -7,5%             |\n",
    "| 2014 | 800,032      | +0,3%             |\n",
    "| 2015 | 796,155      | -0,5%             |\n",
    "| 2016 | 791,34       | -0,6%             |\n",
    "| 2017 | 780,66       | -1,3%             |\n",
    "| 2018 | 772,97       | -1,0%             |\n",
    "| 2019 | 1059,26      | +37,1%            |\n",
    "\n",
    "**Fórmula de Crescimento Percentual Anual:**\n",
    "\n",
    "Para calcular o crescimento percentual anual entre dois anos, use a fórmula:\n",
    "\n",
    "`Crescimento (%) = ((Ganho_ano2 - Ganho_ano1) / Ganho_ano1) * 100`\n",
    "\n",
    "**Crescimento Médio Anual:**\n",
    "\n",
    "Para calcular o crescimento médio anual, somamos todos os crescimentos percentuais e dividimos pelo número de períodos (número de variações). No caso, temos 10 períodos (de 2009 a 2018).\n",
    "\n",
    "Crescimento Total = -38,9\\% - 5,7\\% - 4,4\\% - 7,5\\% + 0,3\\% - 0,5\\% - 0,6\\% - 1,3\\% - 1,0\\% + 37,1\\% = 22,2\\% \\ 10 = -2,22\\%"
   ]
  },
  {
   "cell_type": "code",
   "execution_count": null,
   "id": "02dd26ec-da9d-4d00-9ccc-2dcd51f386cb",
   "metadata": {},
   "outputs": [],
   "source": [
    "for year_suffix in range(9, 20):\n",
    "    col_name = f'rganho_h_{year_suffix:02d}'\n",
    "    df_merged[col_name] = df_merged[col_name].astype(str)\n",
    "\n",
    "# Função para calcular o crescimento salarial médio anual\n",
    "def calcular_crescimento_medio(row):\n",
    "    ganhos = []\n",
    "    anos = list(range(2009, 2020))  \n",
    "    \n",
    "    for ano in anos:\n",
    "        year_suffix = str(ano)[-2:]  \n",
    "        col_name = f'rganho_h_{year_suffix}'\n",
    "        ganho = row[col_name]\n",
    "        \n",
    "        # Substituir \"Não Trabalhou\" por NaN temporariamente dentro da função\n",
    "        if ganho == \"Não Trabalhou\":\n",
    "            ganho = np.nan\n",
    "        \n",
    "        if pd.notna(ganho) and pd.to_numeric(ganho, errors='coerce') > 0:  # Considerar apenas ganhos positivos\n",
    "            ganhos.append((ano, pd.to_numeric(ganho, errors='coerce')))\n",
    "    \n",
    "    if len(ganhos) < 2:\n",
    "        return 0.0  \n",
    "    \n",
    "    crescimento_total = 0\n",
    "    for i in range(len(ganhos) - 1):\n",
    "        ano1, ganho1 = ganhos[i]\n",
    "        ano2, ganho2 = ganhos[i + 1]\n",
    "        \n",
    "        if ganho1 == 0:\n",
    "            crescimento = 0  # Evitar divisão por zero\n",
    "        else:\n",
    "            crescimento = (ganho2 - ganho1) / ganho1\n",
    "        \n",
    "        crescimento_total += crescimento\n",
    "    \n",
    "    crescimento_medio_anual = crescimento_total / (len(ganhos) - 1)\n",
    "    return crescimento_medio_anual\n",
    "\n",
    "df_merged['crescimento_medio_anual'] = round(df_merged.apply(calcular_crescimento_medio, axis=1),2)\n",
    "df_merged.head()"
   ]
  },
  {
   "cell_type": "code",
   "execution_count": null,
   "id": "a9f225f3-dacf-4370-a272-5145309c6466",
   "metadata": {},
   "outputs": [],
   "source": [
    "# Calcular o valor mínimo e máximo da variável 'crescimento_medio_anual_zscore'\n",
    "min_crescimento = df_merged['crescimento_medio_anual'].min()\n",
    "max_crescimento = df_merged['crescimento_medio_anual'].max()\n",
    "\n",
    "print(f'Valor Mínimo: {min_crescimento}')\n",
    "print(f'Valor Máximo: {max_crescimento}')"
   ]
  },
  {
   "cell_type": "markdown",
   "id": "478910e5-38a2-4409-8cb9-818db4b282d4",
   "metadata": {},
   "source": [
    "#### Código de Atividade Económica:\n",
    "- Cálculo do CAE mais frequente ao longo dos anos."
   ]
  },
  {
   "cell_type": "code",
   "execution_count": null,
   "id": "1bc5aaaa-01ad-478b-9c63-a6ddefccfd18",
   "metadata": {},
   "outputs": [],
   "source": [
    "caem1l_cols = [col for col in df_merged.columns if col.startswith('caem1l')]\n",
    "\n",
    "# Função para calcular o CAE mais frequente, substituindo \"Não Trabalhou\" por NaN \n",
    "def cae_mais_frequente(row):\n",
    "    valores = [val for val in row[caem1l_cols] if pd.notna(val) and val != \"Não Trabalhou\"]\n",
    "    if valores:\n",
    "        return pd.Series(valores).mode(dropna=True).iloc[0]\n",
    "    else:\n",
    "        return np.nan\n",
    "\n",
    "# Adicionar a coluna com o CAE mais frequente\n",
    "df_merged['cae_mais_frequente'] = df_merged.apply(cae_mais_frequente, axis=1)\n",
    "df_merged.head()"
   ]
  },
  {
   "cell_type": "code",
   "execution_count": null,
   "id": "437d7fec-4cf3-4d23-890c-08790bdd76c8",
   "metadata": {},
   "outputs": [],
   "source": [
    "df_merged['cae_mais_frequente'].value_counts()"
   ]
  },
  {
   "cell_type": "markdown",
   "id": "816a0a78-3988-4fb5-960e-25bec2f7c964",
   "metadata": {},
   "source": [
    "#### Profissão:\n",
    "- Cálculo da prof_3d mais frequente ao longo dos anos."
   ]
  },
  {
   "cell_type": "code",
   "execution_count": null,
   "id": "f2fd1f00-ca04-48e8-becb-ec351c1cbe2b",
   "metadata": {},
   "outputs": [],
   "source": [
    "prof_3d_cols = [col for col in df_merged.columns if col.startswith('prof_3d')]\n",
    "\n",
    "# Função para calcular o valor mais frequente, substituindo \"Não Trabalhou\" por NaN\n",
    "def valor_mais_frequente(row):\n",
    "    valores = [val for val in row[prof_3d_cols] if pd.notna(val) and val != \"Não Trabalhou\"]\n",
    "    # Calcula o valor mais frequente\n",
    "    if valores:\n",
    "        return pd.Series(valores).mode(dropna=True).iloc[0]\n",
    "    else:\n",
    "        return np.nan\n",
    "\n",
    "# Adicionar a coluna com o valor mais frequente\n",
    "df_merged['prof_3d_mais_frequente'] = df_merged.apply(valor_mais_frequente, axis=1)\n",
    "df_merged.head()"
   ]
  },
  {
   "cell_type": "code",
   "execution_count": null,
   "id": "b9b5214b-c2e5-4522-9916-849406070deb",
   "metadata": {},
   "outputs": [],
   "source": [
    "df_merged['prof_3d_mais_frequente'].value_counts()"
   ]
  },
  {
   "cell_type": "markdown",
   "id": "40b2be24-1a66-4e06-812d-30130e62ae3c",
   "metadata": {},
   "source": [
    "#### Habilitações Literárias:\n",
    "- Criação de uma coluna boleana que indica se um trabalhador aumentou o seu grau académico ou não. Para tal, serão comparados as variáveis habil_09 e habil_19, considerando que valores como \"Não Trabalhou\" na coluna habil_19 serão substituídos pela última variável habil que contém valor."
   ]
  },
  {
   "cell_type": "code",
   "execution_count": null,
   "id": "1d19f459-ea16-4244-b43f-a1788575ceb7",
   "metadata": {},
   "outputs": [],
   "source": [
    "# Função para encontrar o valor de grau acadêmico mais recente válido\n",
    "def encontrar_grau_valido(row):\n",
    "    for ano in range(19, 8, -1): \n",
    "        col = f'habil1_{ano:02d}'\n",
    "        valor = row[col]\n",
    "        if valor not in [\"Não trabalhou\", \"9\"]:\n",
    "            try:\n",
    "                return int(valor)  # Tentar converter o valor para inteiro\n",
    "            except ValueError:\n",
    "                continue\n",
    "    return np.nan\n",
    "\n",
    "# Aplicar a função para criar uma nova coluna com o valor de grau acadêmico válido mais recente\n",
    "df_merged['último_habil1'] = df_merged.apply(encontrar_grau_valido, axis=1)\n",
    "\n",
    "# Função para verificar se o grau acadêmico aumentou\n",
    "def grau_academico_aumentou(row):\n",
    "    try:\n",
    "        habil1_09 = int(row['habil1_09'])  # Converter habil1_09 para inteiro\n",
    "    except ValueError:\n",
    "        return 0\n",
    "    \n",
    "    if pd.isna(row['último_habil1']):\n",
    "        return 0 \n",
    "    \n",
    "    return 1 if row['último_habil1'] > habil1_09 else 0\n",
    "\n",
    "# Criar a nova coluna booleana com base na comparação\n",
    "df_merged['aumentou_habil'] = df_merged.apply(grau_academico_aumentou, axis=1)\n",
    "\n",
    "df_merged.drop(columns=['último_habil1'], inplace=True)\n",
    "\n",
    "df_merged.head()"
   ]
  },
  {
   "cell_type": "code",
   "execution_count": null,
   "id": "2f17e3f9-699d-46d1-b0d4-d9a11d8dcdd6",
   "metadata": {},
   "outputs": [],
   "source": [
    "df_merged['aumentou_habil'].value_counts()"
   ]
  },
  {
   "cell_type": "markdown",
   "id": "686e90c8-31ea-4531-b78c-805f728dbcb6",
   "metadata": {},
   "source": [
    "#### Número de Anos no Privado:\n",
    "- Criação de uma coluna que resulta da análise de todas as colunas caeml1 (por não conter NAS ao longo dos 11 anos). Posteriormente, analisar-se-á o número de anos que um dado trabalhador estave no setor privado. "
   ]
  },
  {
   "cell_type": "code",
   "execution_count": null,
   "id": "cda57a07-71be-44b3-9c36-f2b7050fb4a6",
   "metadata": {},
   "outputs": [],
   "source": [
    "def contar_anos_privado(row):\n",
    "    anos_trabalhados = 0\n",
    "    for col in df_merged.columns:\n",
    "        if col.startswith('caem1l_'):\n",
    "            if row[col] != 'Não Trabalhou':\n",
    "                anos_trabalhados += 1\n",
    "    return anos_trabalhados\n",
    "\n",
    "df_merged['anos_privado'] = df_merged.apply(contar_anos_privado, axis=1)\n",
    "df_merged.head()"
   ]
  },
  {
   "cell_type": "code",
   "execution_count": null,
   "id": "d4b6f039-f4c7-47f2-ab0b-33a57638c2ec",
   "metadata": {},
   "outputs": [],
   "source": [
    "df_merged['anos_privado'].value_counts()"
   ]
  },
  {
   "cell_type": "markdown",
   "id": "775eabed-d5d3-4082-831d-f256499fae81",
   "metadata": {},
   "source": [
    "#### Número de Trocas de Empresa:\n",
    "\n",
    "Criação de uma coluna que resulta da contabilização do número de trocas de empresa.\n",
    "- Se o valor atual e o valor seguinte são inteiros e são diferentes, conta como uma troca.\n",
    "- Se o valor atual é um inteiro e o valor seguinte é \"Não Trabalhou\", conta como uma troca.\n",
    "- Se o valor atual é \"Não Trabalhou\" e o valor seguinte é NaN (ou seja, não há valor), conta como uma troca. A troca é contabilizada usando o último valor não NaN válido antes de \"Não Trabalhou\".\n",
    "- Se o valor atual é um inteiro e o valor seguinte é NaN, não conta como uma troca.\n",
    "- Se ambos os valores (atual e seguinte) são NaN ou \"Não Trabalhou\", não contabiliza como troca.\n",
    "- Quando um valor é NaN, ele é substituído pelo último valor não NaN válido para a comparação.\n",
    "\n",
    "Na tabela abaixo estão 2 exemplos que refletem como este cálculo será feito\n",
    "\n",
    "| nuemp_09 | nuemp_10 | nuemp_11 | nuemp_12 | nuemp_13       | nuemp_14       | nuemp_15       | nuemp_16       | nuemp_17 | nuemp_18 | nuemp_19 | trocas_empresa |\r\n",
    "|----------|----------|----------|----------|----------------|----------------|----------------|----------------|----------|----------|----------|----------------|\r\n",
    "| 234      | 234      | 211      | 212      | Não Trabalhou  | Não Trabalhou  | None           | None           | 245      | 245      | 246      | 5              |\r\n",
    "| 234      | 234      | 211      | 212      | None           | None           | None           | None           | 245      | 245      | 246      | 4              |\r\n",
    " |\r\n",
    " |\r\n",
    "|\r\n"
   ]
  },
  {
   "cell_type": "code",
   "execution_count": null,
   "id": "a4711ab6-c0ec-4ed1-bad1-5721855a0d66",
   "metadata": {},
   "outputs": [],
   "source": [
    "# Definir a função para contar trocas de empresa\n",
    "def contar_trocas_empresa(row):\n",
    "    trocas = 0\n",
    "    ultimo_valor = None \n",
    "    \n",
    "    for ano in range(9, 19):  # De 2009 a 2018\n",
    "        col_atual = f'nuemp_{ano:02d}'\n",
    "        col_seguinte = f'nuemp_{ano+1:02d}'\n",
    "        \n",
    "        valor_atual = row.get(col_atual, pd.NA)\n",
    "        valor_seguinte = row.get(col_seguinte, pd.NA)\n",
    "        \n",
    "        if pd.notna(valor_atual) and valor_atual != \"Não Trabalhou\":\n",
    "            ultimo_valor = valor_atual\n",
    "        \n",
    "        # Substituir NaN com o último valor não NaN\n",
    "        valor_atual = ultimo_valor if pd.isna(valor_atual) else valor_atual\n",
    "        valor_seguinte = ultimo_valor if pd.isna(valor_seguinte) else valor_seguinte\n",
    "        \n",
    "        # Se ambos os valores são NaN ou \"Não Trabalhou\", não contabiliza troca\n",
    "        if pd.isna(valor_atual) and pd.isna(valor_seguinte):\n",
    "            continue\n",
    "        if valor_atual == \"Não Trabalhou\" and valor_seguinte == \"Não Trabalhou\":\n",
    "            continue\n",
    "        \n",
    "        # Se o valor atual for um inteiro e o seguinte for \"Não Trabalhou\"\n",
    "        if isinstance(valor_atual, int):\n",
    "            if valor_seguinte == \"Não Trabalhou\":\n",
    "                trocas += 1\n",
    "                continue\n",
    "        \n",
    "        # Se o valor atual for \"Não Trabalhou\" e o seguinte for NaN\n",
    "        if valor_atual == \"Não Trabalhou\" and pd.isna(valor_seguinte):\n",
    "            trocas += 1\n",
    "            continue\n",
    "        \n",
    "        # Se o valor atual for um inteiro e o seguinte for NaN\n",
    "        if isinstance(valor_atual, int) and pd.isna(valor_seguinte):\n",
    "            continue\n",
    "        \n",
    "        # Se ambos os valores são inteiros diferentes entre si\n",
    "        if isinstance(valor_atual, int) and isinstance(valor_seguinte, int):\n",
    "            if valor_atual != valor_seguinte:\n",
    "                trocas += 1\n",
    "    \n",
    "    return trocas\n",
    "\n",
    "df_merged['trocas_empresa'] = df_merged.apply(contar_trocas_empresa, axis=1)\n",
    "df_merged.head()"
   ]
  },
  {
   "cell_type": "code",
   "execution_count": null,
   "id": "beb86fcb-8fa9-4ffc-ab00-1faf5962b1b1",
   "metadata": {},
   "outputs": [],
   "source": [
    "df_merged.tail()"
   ]
  },
  {
   "cell_type": "code",
   "execution_count": null,
   "id": "13b1f188-911a-434c-9cbd-3bb5db26e985",
   "metadata": {},
   "outputs": [],
   "source": [
    "df_merged['trocas_empresa'].value_counts()"
   ]
  },
  {
   "cell_type": "code",
   "execution_count": null,
   "id": "a31d37c1-aedd-4e60-9648-82c7b1e9550f",
   "metadata": {},
   "outputs": [],
   "source": [
    "media_trocas_emprego = round(df_merged['trocas_empresa'].mean(),2)\n",
    "print(f\"A média de trocas de emprego é: {media_trocas_emprego}\")"
   ]
  },
  {
   "cell_type": "code",
   "execution_count": null,
   "id": "5cd55833-9726-40b4-bd64-d18df9be9999",
   "metadata": {},
   "outputs": [],
   "source": [
    "# df_clustering_final = df_merged.iloc[:, [1, 2] + list(range(-8, 0))]\n",
    "# df_clustering_final.to_excel('df_clustering_final.xlsx', index=False)"
   ]
  },
  {
   "cell_type": "markdown",
   "id": "e7567190-8eea-4f6b-8223-2b19538fd36b",
   "metadata": {},
   "source": [
    "### <font color='darkred'>Clustering I </font>\n",
    "#### <font color='black'>Variáveis Mais Frequentes<font>"
   ]
  },
  {
   "cell_type": "code",
   "execution_count": null,
   "id": "7019c410-bbba-44d7-abb3-24236da1831a",
   "metadata": {},
   "outputs": [],
   "source": [
    "df_merged.head()"
   ]
  },
  {
   "cell_type": "code",
   "execution_count": null,
   "id": "8240cddf-37ab-4e3a-b1d8-7b717bd32834",
   "metadata": {},
   "outputs": [],
   "source": [
    "filtro_2 = df_original_clustering[df_original_clustering['trajetoria_contratos'].astype(str).str.startswith('2')]\n",
    "top_5_cae_2 = filtro_2['cae_mais_frequente'].value_counts().head(5)\n",
    "\n",
    "filtro_3 = df_original_clustering[df_original_clustering['trajetoria_contratos'].astype(str).str.startswith('3')]\n",
    "top_5_cae_3 = filtro_3['cae_mais_frequente'].value_counts().head(5)\n",
    "\n",
    "# Filtrar quando 'trajetoria_contratos' começa com '1'\n",
    "filtro_1 = df_original_clustering[df_original_clustering['trajetoria_contratos'].astype(str).str.startswith('1')]\n",
    "top_5_cae_1 = filtro_1['cae_mais_frequente'].value_counts().head(5)\n",
    "\n",
    "print(\"Top 5 de 'cae_mais_frequente' quando 'trajetoria_contratos' começa com 2:\")\n",
    "print(top_5_cae_2)\n",
    "\n",
    "print(\"Top 5 de 'cae_mais_frequente' quando 'trajetoria_contratos' começa com 3:\")\n",
    "print(top_5_cae_3)\n",
    "\n",
    "print(\"\\nTop 5 de 'cae_mais_frequente' quando 'trajetoria_contratos' começa com 1:\")\n",
    "print(top_5_cae_1)"
   ]
  },
  {
   "cell_type": "code",
   "execution_count": null,
   "id": "cb1d0aae-3b7c-4de7-96eb-8c275efec8c2",
   "metadata": {},
   "outputs": [],
   "source": [
    "filtro_2 = df_original_clustering[df_original_clustering['trajetoria_contratos'].astype(str).str.startswith('2')]\n",
    "top_5_cae_2 = filtro_2['prof_3d_mais_frequente'].value_counts().head(5)\n",
    "\n",
    "filtro_3 = df_original_clustering[df_original_clustering['trajetoria_contratos'].astype(str).str.startswith('3')]\n",
    "top_5_cae_3 = filtro_3['prof_3d_mais_frequente'].value_counts().head(5)\n",
    "\n",
    "# Filtrar quando 'trajetoria_contratos' começa com '1'\n",
    "filtro_1 = df_original_clustering[df_original_clustering['trajetoria_contratos'].astype(str).str.startswith('1')]\n",
    "top_5_cae_1 = filtro_1['prof_3d_mais_frequente'].value_counts().head(5)\n",
    "\n",
    "print(\"Top 5 de 'prof_3d_mais_frequente' quando 'trajetoria_contratos' começa com 2:\")\n",
    "print(top_5_cae_2)\n",
    "\n",
    "print(\"Top 5 de 'prof_3d_mais_frequente' quando 'trajetoria_contratos' começa com 3:\")\n",
    "print(top_5_cae_3)\n",
    "\n",
    "print(\"\\nTop 5 de 'prof_3d_mais_frequente' quando 'trajetoria_contratos' começa com 1:\")\n",
    "print(top_5_cae_1)\n"
   ]
  },
  {
   "cell_type": "code",
   "execution_count": null,
   "id": "0f4bfe42-4a82-4c85-a680-95c5b8bf35b3",
   "metadata": {},
   "outputs": [],
   "source": [
    "filtro_zeros = df_original_clustering[df_original_clustering['trajetoria_contratos'].str[-10:] == '0000000000']\n",
    "\n",
    "# Contar os casos que começam com '1', '2', ou '3'\n",
    "contagem_inicial = filtro_zeros['trajetoria_contratos'].str[0].value_counts()\n",
    "\n",
    "print(\"Contagem de 'trajetoria_contratos' que terminam com 10 zeros e começam com 1, 2 ou 3:\")\n",
    "print(contagem_inicial)"
   ]
  },
  {
   "cell_type": "code",
   "execution_count": null,
   "id": "c3bc599f-8d31-44fb-94b5-5827273b5eac",
   "metadata": {},
   "outputs": [],
   "source": [
    "filtro_zeros.shape"
   ]
  },
  {
   "cell_type": "code",
   "execution_count": null,
   "id": "3b414816-e2ed-4f20-9866-34ddf4d7ae18",
   "metadata": {},
   "outputs": [],
   "source": [
    "variaveis_clustering = [\n",
    "    'sexo',\n",
    "    'trajetoria_contratos',\n",
    "    'dist_tipocontr',\n",
    "    'crescimento_medio_anual',\n",
    "    'cae_mais_frequente',\n",
    "    'prof_3d_mais_frequente',\n",
    "    'aumentou_habil',\n",
    "    'anos_privado',\n",
    "    'trocas_empresa'\n",
    "]\n",
    "\n",
    "df_original_clustering = df_merged[variaveis_clustering].copy()\n",
    "df_original_clustering.head()"
   ]
  },
  {
   "cell_type": "code",
   "execution_count": null,
   "id": "20e185cf-2fd5-4c58-a913-e705b6d2d832",
   "metadata": {},
   "outputs": [],
   "source": [
    "# df_original_clustering.to_excel('df_clustering.xlsx', index=False)"
   ]
  },
  {
   "cell_type": "code",
   "execution_count": null,
   "id": "fa7636ff-150a-495d-a723-71768c113b15",
   "metadata": {},
   "outputs": [],
   "source": [
    "df_clustering = df_original_clustering.drop(columns=['sexo', 'trajetoria_contratos'])"
   ]
  },
  {
   "cell_type": "code",
   "execution_count": null,
   "id": "5c686933-75b6-4467-8e1f-5cf942b21485",
   "metadata": {},
   "outputs": [],
   "source": [
    "# Normalizar os dados de 0 a 1\n",
    "scaler = MinMaxScaler()\n",
    "df_clustering_normalized = df_clustering.copy()\n",
    "df_clustering_normalized[df_clustering.columns] = scaler.fit_transform(df_clustering)"
   ]
  },
  {
   "cell_type": "code",
   "execution_count": null,
   "id": "ad671b28-7f9e-41dc-9fed-bda7272d83d6",
   "metadata": {},
   "outputs": [],
   "source": [
    "X = df_clustering_normalized.values\n",
    "n_clusters_range = range(1, 11)  \n",
    "inertia = []\n",
    "\n",
    "# Calculo da inércia para cada número de clusters\n",
    "for n_clusters in n_clusters_range:\n",
    "    kmeans = KMeans(n_clusters=n_clusters, random_state=0)\n",
    "    kmeans.fit(X)\n",
    "    inertia.append(kmeans.inertia_)\n",
    "\n",
    "plt.figure(figsize=(8, 5))\n",
    "plt.plot(n_clusters_range, inertia, marker='o', color='#0D3B66')\n",
    "plt.xlabel('Número de Clusters')\n",
    "plt.ylabel('Inércia')\n",
    "plt.title('Método do Cotovelo para Determinação do Número Ideal de Clusters')\n",
    "plt.xticks(n_clusters_range)\n",
    "plt.grid(True)\n",
    "plt.show()"
   ]
  },
  {
   "cell_type": "code",
   "execution_count": null,
   "id": "41ac934a-dfef-4bde-b862-ce43454bb103",
   "metadata": {},
   "outputs": [],
   "source": [
    "X = df_clustering_normalized.values\n",
    "\n",
    "n_clusters_range = range(2, 11)  \n",
    "silhouette_scores = []\n",
    "\n",
    "# Calculo do índice da silhueta para cada número de clusters\n",
    "for n_clusters in n_clusters_range:\n",
    "    kmeans = KMeans(n_clusters=n_clusters, random_state=0)\n",
    "    cluster_labels = kmeans.fit_predict(X)\n",
    "    silhouette_avg = silhouette_score(X, cluster_labels)\n",
    "    silhouette_scores.append(silhouette_avg)\n",
    "\n",
    "max_silhouette_score = max(silhouette_scores)\n",
    "optimal_clusters = n_clusters_range[silhouette_scores.index(max_silhouette_score)]\n",
    "\n",
    "print(f\"O índice de silhueta mais alto é {max_silhouette_score:.2f}, obtido com {optimal_clusters} clusters.\")\n",
    "\n",
    "\n",
    "plt.figure(figsize=(2, 4))\n",
    "plt.plot(n_clusters_range, silhouette_scores, marker='o')\n",
    "plt.xlabel('Número de Clusters')\n",
    "plt.ylabel('Índice da Silhueta')\n",
    "plt.title('Método do Índice da Silhueta para Determinação do Número Ideal de Clusters')\n",
    "plt.xticks(n_clusters_range)\n",
    "plt.grid(True)\n",
    "plt.text(optimal_clusters, max_silhouette_score, f\"Máximo: {max_silhouette_score:.2f}\", \n",
    "         horizontalalignment='left', fontsize=10, color='red')"
   ]
  },
  {
   "cell_type": "code",
   "execution_count": null,
   "id": "20017a2e-4f5c-4d7c-b591-5cac4a10cd53",
   "metadata": {},
   "outputs": [],
   "source": [
    "kmeans = KMeans(n_clusters=3, random_state=42)\n",
    "clusters = kmeans.fit_predict(df_clustering_normalized)\n",
    "\n",
    "df_original_clustering['cluster'] = clusters\n",
    "df_original_clustering.head()"
   ]
  },
  {
   "cell_type": "markdown",
   "id": "2b77a6dc-a54c-4460-bb5d-44ebb9aea4f6",
   "metadata": {},
   "source": [
    "#### Número de Trabalhadores por Cluster "
   ]
  },
  {
   "cell_type": "code",
   "execution_count": null,
   "id": "71031c70-961c-4d39-9d5d-118ee536dabe",
   "metadata": {},
   "outputs": [],
   "source": [
    "n_clusters = df_original_clustering['cluster'].value_counts().sort_index()\n",
    "n_clusters"
   ]
  },
  {
   "cell_type": "markdown",
   "id": "c5e3b48b-d6a3-47ee-b42b-8dc803c824ec",
   "metadata": {},
   "source": [
    "#### Resumo das Características de Cada Cluster\n",
    "- Usando a moda nas variáveis trajetoria_contratos, cae_mais_frequente e prof_3d_mais_frequente;"
   ]
  },
  {
   "cell_type": "code",
   "execution_count": null,
   "id": "05f24aa2-0d09-4e89-9115-c2e39903187d",
   "metadata": {},
   "outputs": [],
   "source": [
    "clusters = df_original_clustering['cluster'].unique()\n",
    "\n",
    "resultados = []\n",
    "\n",
    "# Calcular moda e média para cada cluster\n",
    "for cluster in clusters:\n",
    "    cluster_data = df_original_clustering[df_original_clustering['cluster'] == cluster]\n",
    "    \n",
    "    moda = cluster_data[['trajetoria_contratos', 'cae_mais_frequente',\n",
    "                         'prof_3d_mais_frequente']].mode().iloc[0]\n",
    "    \n",
    "    media_sexo = cluster_data['sexo'].mean()\n",
    "    media_dist_tipocontr = cluster_data['dist_tipocontr'].mean()\n",
    "    media_aumentou_habil = cluster_data['aumentou_habil'].mean()\n",
    "    media_cae_frequente = cluster_data['cae_mais_frequente'].mean()\n",
    "    media_anos_privado = cluster_data['anos_privado'].mean()\n",
    "    media_trocas_empresa = cluster_data['trocas_empresa'].mean()\n",
    "    media_crescimento_medio_anual = cluster_data['crescimento_medio_anual'].mean()\n",
    "    \n",
    "    resultados.append({\n",
    "        'Cluster': cluster,\n",
    "        'Sexo': media_sexo,\n",
    "        'trajetoria_contratos': moda['trajetoria_contratos'],\n",
    "        'Dist_Tipocontr': media_dist_tipocontr,\n",
    "        'CAE_Mais_Frequente': moda['cae_mais_frequente'],\n",
    "        'Prof_3D_Mais_Frequente': moda['prof_3d_mais_frequente'],\n",
    "        'Aumentou_Habil': media_aumentou_habil,\n",
    "        'Anos_Privado': media_anos_privado,\n",
    "        'Trocas_Empresa': media_trocas_empresa,\n",
    "        'Crescimento_Salarial': media_crescimento_medio_anual\n",
    "    })\n",
    "\n",
    "resultados_df = pd.DataFrame(resultados)\n",
    "\n",
    "resultados_df = resultados_df.sort_values(by='Cluster').reset_index(drop=True)\n",
    "\n",
    "resultados_df[['Sexo', 'Dist_Tipocontr', 'Aumentou_Habil', 'Anos_Privado', 'Trocas_Empresa', 'Crescimento_Salarial']] = \\\n",
    "resultados_df[['Sexo', 'Dist_Tipocontr', 'Aumentou_Habil', 'Anos_Privado', 'Trocas_Empresa', 'Crescimento_Salarial']].round(2)\n",
    "\n",
    "resultados_df"
   ]
  },
  {
   "cell_type": "markdown",
   "id": "160de56a-1cab-4631-a826-2c005528e568",
   "metadata": {},
   "source": [
    "- Top5 Prfissões por Cluster"
   ]
  },
  {
   "cell_type": "code",
   "execution_count": null,
   "id": "c3d4a537-8bb0-4f20-af29-f94fbccd4b9b",
   "metadata": {},
   "outputs": [],
   "source": [
    "# Cluster 0\n",
    "cluster = df_original_clustering[df_original_clustering['cluster'] == 0]\n",
    "frequencia_prof_3d = cluster['prof_3d_mais_frequente'].value_counts()\n",
    "frequencia_prof_3d.head(5)"
   ]
  },
  {
   "cell_type": "code",
   "execution_count": null,
   "id": "4ecd01ab-49f6-40d3-81ad-69a97cca32fe",
   "metadata": {},
   "outputs": [],
   "source": [
    "# Cluster 1\n",
    "cluster = df_original_clustering[df_original_clustering['cluster'] == 1]\n",
    "frequencia_prof_3d = cluster['prof_3d_mais_frequente'].value_counts()\n",
    "frequencia_prof_3d.head(5)"
   ]
  },
  {
   "cell_type": "code",
   "execution_count": null,
   "id": "f1d0b7a4-b784-417b-bfb1-48678527e356",
   "metadata": {},
   "outputs": [],
   "source": [
    "# Cluster 2\n",
    "cluster = df_original_clustering[df_original_clustering['cluster'] == 2]\n",
    "frequencia_prof_3d = cluster['prof_3d_mais_frequente'].value_counts()\n",
    "frequencia_prof_3d.head(5)"
   ]
  },
  {
   "cell_type": "code",
   "execution_count": null,
   "id": "217d2ad1-dede-4d87-866a-f03bdf356135",
   "metadata": {},
   "outputs": [],
   "source": [
    "# Cluster 0\n",
    "cluster = df_original_clustering[df_original_clustering['cluster'] == 0]\n",
    "frequencia_prof_3d = cluster['cae_mais_frequente'].value_counts()\n",
    "frequencia_prof_3d.head(5)"
   ]
  },
  {
   "cell_type": "code",
   "execution_count": null,
   "id": "6aab2783-dc28-45d9-adc8-cc3ddb914a6b",
   "metadata": {},
   "outputs": [],
   "source": [
    "# Cluster 1\n",
    "cluster = df_original_clustering[df_original_clustering['cluster'] == 1]\n",
    "frequencia_prof_3d = cluster['cae_mais_frequente'].value_counts()\n",
    "frequencia_prof_3d.head(5)"
   ]
  },
  {
   "cell_type": "code",
   "execution_count": null,
   "id": "ab1b90a3-8fbc-46bd-b813-583b91c69cd6",
   "metadata": {},
   "outputs": [],
   "source": [
    "# Cluster 2\n",
    "cluster = df_original_clustering[df_original_clustering['cluster'] == 2]\n",
    "frequencia_prof_3d = cluster['cae_mais_frequente'].value_counts()\n",
    "frequencia_prof_3d.head(5)"
   ]
  },
  {
   "cell_type": "markdown",
   "id": "7a82ff90-15e2-42c2-bc1e-4957bbc3dd73",
   "metadata": {},
   "source": [
    "### <font color='darkred'>Clustering II </font>\n",
    "#### <font color='black'>Variáveis Mais Frequentes s/ Habil</font>\n",
    "- De acordo com o resumo das características de cada cluster foi possível verificar que a variável \"aumentou_habil\" está a ter uma presença muito significativa no modelo, estando os clusters a serem formados perfeitamente em função desta variável.\n",
    "- Por isso, esta variável será retirada do modelo, com o intuito de ver a performance do mesmo."
   ]
  },
  {
   "cell_type": "code",
   "execution_count": null,
   "id": "fe878968-880d-45c8-b6c2-404535aa74a4",
   "metadata": {},
   "outputs": [],
   "source": [
    "df_original_clustering_2 = df_merged[variaveis_clustering].copy()\n",
    "df_original_clustering_2.head()"
   ]
  },
  {
   "cell_type": "code",
   "execution_count": null,
   "id": "3997000a-30af-46fb-a847-529a59009638",
   "metadata": {},
   "outputs": [],
   "source": [
    "df_clustering_2 = df_original_clustering_2.drop(columns=['sexo', 'trajetoria_contratos', 'aumentou_habil'])"
   ]
  },
  {
   "cell_type": "code",
   "execution_count": null,
   "id": "f238b23b-e6b1-4fc0-849f-476948c2e4c6",
   "metadata": {},
   "outputs": [],
   "source": [
    "# Normalizar os dados de 0 a 1\n",
    "scaler = MinMaxScaler()\n",
    "df_clustering_normalized_2 = df_clustering_2.copy()\n",
    "df_clustering_normalized_2[df_clustering_2.columns] = scaler.fit_transform(df_clustering_2)"
   ]
  },
  {
   "cell_type": "code",
   "execution_count": null,
   "id": "adcd80fb-5fd3-4dc0-a32f-4ef19d150f97",
   "metadata": {},
   "outputs": [],
   "source": [
    "X = df_clustering_normalized_2.values\n",
    "\n",
    "n_clusters_range = range(1, 11) \n",
    "inertia = []\n",
    "\n",
    "# Calcular a inércia para cada número de clusters\n",
    "for n_clusters in n_clusters_range:\n",
    "    kmeans = KMeans(n_clusters=n_clusters, random_state=0)\n",
    "    kmeans.fit(X)\n",
    "    inertia.append(kmeans.inertia_)\n",
    "\n",
    "plt.figure(figsize=(8, 5))\n",
    "plt.plot(n_clusters_range, inertia, marker='o', color='#0D3B66')\n",
    "plt.xlabel('Número de Clusters')\n",
    "plt.ylabel('Inércia')\n",
    "plt.title('Método do Cotovelo para Determinação do Número Ideal de Clusters')\n",
    "plt.xticks(n_clusters_range)\n",
    "plt.grid(True)\n",
    "plt.show()"
   ]
  },
  {
   "cell_type": "code",
   "execution_count": null,
   "id": "61e7bd32-5a75-47c7-af6c-c4ea83670634",
   "metadata": {},
   "outputs": [],
   "source": [
    "X = df_clustering_normalized_2.values\n",
    "\n",
    "n_clusters_range = range(2, 11)  \n",
    "silhouette_scores = []\n",
    "\n",
    "# Calculo do índice da silhueta para cada número de clusters\n",
    "for n_clusters in n_clusters_range:\n",
    "    kmeans = KMeans(n_clusters=n_clusters, random_state=0)\n",
    "    cluster_labels = kmeans.fit_predict(X)\n",
    "    silhouette_avg = silhouette_score(X, cluster_labels)\n",
    "    silhouette_scores.append(silhouette_avg)\n",
    "\n",
    "max_silhouette_score = max(silhouette_scores)\n",
    "optimal_clusters = n_clusters_range[silhouette_scores.index(max_silhouette_score)]\n",
    "\n",
    "print(f\"O índice de silhueta mais alto é {max_silhouette_score:.2f}, obtido com {optimal_clusters} clusters.\")\n",
    "\n",
    "plt.figure(figsize=(8, 6))\n",
    "plt.plot(n_clusters_range, silhouette_scores, marker='o')\n",
    "plt.xlabel('Número de Clusters')\n",
    "plt.ylabel('Índice da Silhueta')\n",
    "plt.title('Método do Índice da Silhueta para Determinação do Número Ideal de Clusters')\n",
    "plt.xticks(n_clusters_range)\n",
    "plt.grid(True)\n",
    "plt.text(optimal_clusters, max_silhouette_score, f\"Máximo: {max_silhouette_score:.2f}\", \n",
    "         horizontalalignment='left', fontsize=10, color='red')"
   ]
  },
  {
   "cell_type": "code",
   "execution_count": null,
   "id": "24436290-f30f-4cee-8a61-cf477a523a41",
   "metadata": {},
   "outputs": [],
   "source": [
    "kmeans = KMeans(n_clusters=3, random_state=42)\n",
    "clusters = kmeans.fit_predict(df_clustering_normalized_2)\n",
    "\n",
    "df_original_clustering_2['cluster'] = clusters\n",
    "\n",
    "df_original_clustering_2.head()"
   ]
  },
  {
   "cell_type": "markdown",
   "id": "376cb9fe-3c10-4c75-a5bd-6ea587608bfe",
   "metadata": {},
   "source": [
    "#### Número de Trabalhadores por Cluster "
   ]
  },
  {
   "cell_type": "code",
   "execution_count": null,
   "id": "2b28f530-ab77-42de-8465-6b4b2d53895a",
   "metadata": {},
   "outputs": [],
   "source": [
    "n_clusters = df_original_clustering_2['cluster'].value_counts().sort_index()\n",
    "n_clusters"
   ]
  },
  {
   "cell_type": "markdown",
   "id": "61bba17a-50c8-41f2-ba50-f404c4d78a6d",
   "metadata": {},
   "source": [
    "#### Resumo das Características de Cada Cluster\n",
    "- Usando a moda nas variáveis trajetoria_contratos, cae_mais_frequente e prof_3d_mais_frequente;"
   ]
  },
  {
   "cell_type": "code",
   "execution_count": null,
   "id": "1e398d9e-88db-4fdb-9473-d78340300c21",
   "metadata": {},
   "outputs": [],
   "source": [
    "clusters = df_original_clustering_2['cluster'].unique()\n",
    "\n",
    "resultados = []\n",
    "\n",
    "# Calcular moda e média para cada cluster\n",
    "for cluster in clusters:\n",
    "    cluster_data = df_original_clustering_2[df_original_clustering_2['cluster'] == cluster]\n",
    "    \n",
    "    moda = cluster_data[['trajetoria_contratos', 'cae_mais_frequente',\n",
    "                         'prof_3d_mais_frequente']].mode().iloc[0]\n",
    "    \n",
    "    media_sexo = cluster_data['sexo'].mean()\n",
    "    media_dist_tipocontr = cluster_data['dist_tipocontr'].mean()\n",
    "    media_aumentou_habil = cluster_data['aumentou_habil'].mean()\n",
    "    media_anos_privado = cluster_data['anos_privado'].mean()\n",
    "    media_trocas_empresa = cluster_data['trocas_empresa'].mean()\n",
    "    media_crescimento_medio_anual_zscore = cluster_data['crescimento_medio_anual'].mean()\n",
    "    \n",
    "    resultados.append({\n",
    "        'Cluster': cluster,\n",
    "        'Sexo': media_sexo,\n",
    "        'trajetoria_contratos': moda['trajetoria_contratos'],\n",
    "        'Dist_Tipocontr': media_dist_tipocontr,\n",
    "        'CAE_Mais_Frequente': moda['cae_mais_frequente'],\n",
    "        'Prof_3D_Mais_Frequente': moda['prof_3d_mais_frequente'],\n",
    "        'Aumentou_Habil': media_aumentou_habil,\n",
    "        'Anos_Privado': media_anos_privado,\n",
    "        'Trocas_Empresa': media_trocas_empresa,\n",
    "        'Crescimento_Salarial': media_crescimento_medio_anual_zscore\n",
    "    })\n",
    "\n",
    "resultados_df = pd.DataFrame(resultados)\n",
    "\n",
    "resultados_df = resultados_df.sort_values(by='Cluster').reset_index(drop=True)\n",
    "\n",
    "resultados_df[['Sexo', 'Dist_Tipocontr', 'Aumentou_Habil', 'Anos_Privado', 'Trocas_Empresa', 'Crescimento_Salarial']] = \\\n",
    "resultados_df[['Sexo', 'Dist_Tipocontr', 'Aumentou_Habil', 'Anos_Privado', 'Trocas_Empresa', 'Crescimento_Salarial']].round(2)\n",
    "\n",
    "resultados_df"
   ]
  },
  {
   "cell_type": "code",
   "execution_count": null,
   "id": "732fad95-c58e-4113-9ca2-795809a521af",
   "metadata": {},
   "outputs": [],
   "source": [
    "# Cluster 0\n",
    "cluster = df_original_clustering_2[df_original_clustering_2['cluster'] == 0]\n",
    "frequencia_prof_3d = cluster['prof_3d_mais_frequente'].value_counts()\n",
    "frequencia_prof_3d.head(5)"
   ]
  },
  {
   "cell_type": "code",
   "execution_count": null,
   "id": "67217342-2b02-4b68-a324-4a5f1dae6635",
   "metadata": {},
   "outputs": [],
   "source": [
    "# Cluster 1\n",
    "cluster = df_original_clustering_2[df_original_clustering_2['cluster'] == 1]\n",
    "frequencia_prof_3d = cluster['prof_3d_mais_frequente'].value_counts()\n",
    "frequencia_prof_3d.head(5)"
   ]
  },
  {
   "cell_type": "code",
   "execution_count": null,
   "id": "b4126e90-38b8-448b-b554-ec4f565c372c",
   "metadata": {},
   "outputs": [],
   "source": [
    "# Cluster 2\n",
    "cluster = df_original_clustering_2[df_original_clustering_2['cluster'] == 2]\n",
    "frequencia_prof_3d = cluster['prof_3d_mais_frequente'].value_counts()\n",
    "frequencia_prof_3d.head(5)"
   ]
  },
  {
   "cell_type": "markdown",
   "id": "c65c727f-77a3-4ffb-9594-8461688f5515",
   "metadata": {},
   "source": [
    "### <font color='darkred'>Clustering III </font>\n",
    "#### <font color='black'>Variáveis Início da Trajetória (2009)</font>"
   ]
  },
  {
   "cell_type": "code",
   "execution_count": null,
   "id": "e17d9c31-80f9-4e3c-bdf1-725030321257",
   "metadata": {},
   "outputs": [],
   "source": [
    "variaveis_clustering_3 = [\n",
    "    'sexo',\n",
    "    'trajetoria_contratos',\n",
    "    'dist_tipocontr',\n",
    "    'crescimento_medio_anual',\n",
    "    'caem1l_09',\n",
    "    'prof_3d_09',\n",
    "    'habil1_09',\n",
    "    'anos_privado',\n",
    "    'trocas_empresa'\n",
    "]\n",
    "\n",
    "df_original_clustering_3= df_merged[variaveis_clustering_3].copy()\n",
    "df_original_clustering_3.head()"
   ]
  },
  {
   "cell_type": "code",
   "execution_count": null,
   "id": "65620b33-2923-47bf-b155-2b94f8075f21",
   "metadata": {},
   "outputs": [],
   "source": [
    "df_clustering_3 = df_original_clustering_3.drop(columns=['sexo', 'trajetoria_contratos'])"
   ]
  },
  {
   "cell_type": "code",
   "execution_count": null,
   "id": "e479dd53-13c3-4190-838d-6c2ed77d9e1b",
   "metadata": {},
   "outputs": [],
   "source": [
    "# Normalizar os dados de 0 a 1\n",
    "scaler = MinMaxScaler()\n",
    "df_clustering_normalized_3 = df_clustering_3.copy()\n",
    "df_clustering_normalized_3[df_clustering_3.columns] = scaler.fit_transform(df_clustering_3)"
   ]
  },
  {
   "cell_type": "code",
   "execution_count": null,
   "id": "7a1e0e43-bc9d-459e-a817-ba70ac61564e",
   "metadata": {},
   "outputs": [],
   "source": [
    "X = df_clustering_normalized_3.values\n",
    "n_clusters_range = range(1, 11)  \n",
    "inertia = []\n",
    "\n",
    "# Calculo da inércia para cada número de clusters\n",
    "for n_clusters in n_clusters_range:\n",
    "    kmeans = KMeans(n_clusters=n_clusters, random_state=0)\n",
    "    kmeans.fit(X)\n",
    "    inertia.append(kmeans.inertia_)\n",
    "\n",
    "plt.figure(figsize=(8, 5))\n",
    "plt.plot(n_clusters_range, inertia, marker='o', color='#0D3B66')\n",
    "plt.xlabel('Número de Clusters')\n",
    "plt.ylabel('Inércia')\n",
    "plt.title('Método do Cotovelo para Determinação do Número Ideal de Clusters')\n",
    "plt.xticks(n_clusters_range)\n",
    "plt.grid(True)\n",
    "plt.show()"
   ]
  },
  {
   "cell_type": "code",
   "execution_count": null,
   "id": "b552f673-b38e-4f7d-9bf9-a93acc78ded5",
   "metadata": {},
   "outputs": [],
   "source": [
    "X = df_clustering_normalized_3.values\n",
    "\n",
    "n_clusters_range = range(2, 11)  \n",
    "silhouette_scores = []\n",
    "\n",
    "# Calculo do índice da silhueta para cada número de clusters\n",
    "for n_clusters in n_clusters_range:\n",
    "    kmeans = KMeans(n_clusters=n_clusters, random_state=0)\n",
    "    cluster_labels = kmeans.fit_predict(X)\n",
    "    silhouette_avg = silhouette_score(X, cluster_labels)\n",
    "    silhouette_scores.append(silhouette_avg)\n",
    "\n",
    "max_silhouette_score = max(silhouette_scores)\n",
    "optimal_clusters = n_clusters_range[silhouette_scores.index(max_silhouette_score)]\n",
    "\n",
    "print(f\"O índice de silhueta mais alto é {max_silhouette_score:.2f}, obtido com {optimal_clusters} clusters.\")\n",
    "\n",
    "\n",
    "plt.figure(figsize=(8, 6))\n",
    "plt.plot(n_clusters_range, silhouette_scores, marker='o')\n",
    "plt.xlabel('Número de Clusters')\n",
    "plt.ylabel('Índice da Silhueta')\n",
    "plt.title('Método do Índice da Silhueta para Determinação do Número Ideal de Clusters')\n",
    "plt.xticks(n_clusters_range)\n",
    "plt.grid(True)\n",
    "plt.text(optimal_clusters, max_silhouette_score, f\"Máximo: {max_silhouette_score:.2f}\", \n",
    "         horizontalalignment='left', fontsize=10, color='red')"
   ]
  },
  {
   "cell_type": "code",
   "execution_count": null,
   "id": "62a1cc95-dc7d-41e5-84e2-365f4cb46f33",
   "metadata": {},
   "outputs": [],
   "source": [
    "kmeans = KMeans(n_clusters=3, random_state=42)\n",
    "clusters = kmeans.fit_predict(df_clustering_normalized_3)\n",
    "\n",
    "df_original_clustering_3['cluster'] = clusters\n",
    "df_original_clustering_3.head()"
   ]
  },
  {
   "cell_type": "markdown",
   "id": "8fb65d5d-d7d2-46fa-bac4-a8d53e4a029d",
   "metadata": {},
   "source": [
    "#### Número de Trabalhadores por Cluster "
   ]
  },
  {
   "cell_type": "code",
   "execution_count": null,
   "id": "40f4b8ee-582d-4359-8006-16c38ab1fc65",
   "metadata": {},
   "outputs": [],
   "source": [
    "n_clusters = df_original_clustering_3['cluster'].value_counts().sort_index()\n",
    "n_clusters"
   ]
  },
  {
   "cell_type": "markdown",
   "id": "4af476a8-ae08-4627-901e-754d882ddc64",
   "metadata": {},
   "source": [
    "#### Resumo das Características de Cada Cluster\n",
    "- Usando a moda nas variáveis trajetoria_contratos, cae_mais_frequente e prof_3d_mais_frequente;"
   ]
  },
  {
   "cell_type": "code",
   "execution_count": null,
   "id": "f797866f-37cd-47af-8ea7-9e86ccbb64b1",
   "metadata": {},
   "outputs": [],
   "source": [
    "clusters = df_original_clustering_3['cluster'].unique()\n",
    "resultados = []\n",
    "\n",
    "# Calcular moda e média para cada cluster\n",
    "for cluster in clusters:\n",
    "    cluster_data = df_original_clustering_3[df_original_clustering_3['cluster'] == cluster]\n",
    "    \n",
    "    moda = cluster_data[['trajetoria_contratos','caem1l_09',\n",
    "                         'prof_3d_09']].mode().iloc[0]\n",
    "    \n",
    "    media_sexo = cluster_data['sexo'].mean()\n",
    "    media_dist_tipocontr = cluster_data['dist_tipocontr'].mean()\n",
    "    media_habil = cluster_data['habil1_09'].mean()\n",
    "    media_cae = cluster_data['caem1l_09'].mean()\n",
    "    media_anos_privado = cluster_data['anos_privado'].mean()\n",
    "    media_trocas_empresa = cluster_data['trocas_empresa'].mean()\n",
    "    media_crescimento_medio_anual = cluster_data['crescimento_medio_anual'].mean()\n",
    "    \n",
    "    resultados.append({\n",
    "        'Cluster': cluster,\n",
    "        'Sexo': media_sexo,\n",
    "        'trajetoria_contratos': moda['trajetoria_contratos'],\n",
    "        'Dist_Tipocontr': media_dist_tipocontr,\n",
    "        'CAE_09': moda['caem1l_09'],\n",
    "        'Prof_3D_09': moda['prof_3d_09'],\n",
    "        'Habil_09': media_habil,\n",
    "        'Anos_Privado': media_anos_privado,\n",
    "        'Trocas_Empresa': media_trocas_empresa,\n",
    "        'Crescimento_Salarial': media_crescimento_medio_anual\n",
    "    })\n",
    "\n",
    "resultados_df = pd.DataFrame(resultados)\n",
    "\n",
    "resultados_df = resultados_df.sort_values(by='Cluster').reset_index(drop=True)\n",
    "\n",
    "resultados_df[['Sexo', 'Dist_Tipocontr', 'CAE_09', 'Habil_09', 'Anos_Privado', 'Trocas_Empresa', 'Crescimento_Salarial']] = \\\n",
    "resultados_df[['Sexo', 'Dist_Tipocontr', 'CAE_09', 'Habil_09', 'Anos_Privado', 'Trocas_Empresa', 'Crescimento_Salarial']].round(2)\n",
    "\n",
    "resultados_df"
   ]
  },
  {
   "cell_type": "code",
   "execution_count": null,
   "id": "2665ad6f-d85b-4992-8a06-c7616b2b9a4f",
   "metadata": {},
   "outputs": [],
   "source": [
    "# Cluster 0\n",
    "cluster = df_original_clustering_3[df_original_clustering_3['cluster'] == 0]\n",
    "frequencia_prof_3d = cluster['prof_3d_09'].value_counts()\n",
    "frequencia_prof_3d.head(5)"
   ]
  },
  {
   "cell_type": "code",
   "execution_count": null,
   "id": "b837e603-84f5-4881-a115-e5e257a1c085",
   "metadata": {},
   "outputs": [],
   "source": [
    "# Cluster 1\n",
    "cluster = df_original_clustering_3[df_original_clustering_3['cluster'] == 1]\n",
    "frequencia_prof_3d = cluster['prof_3d_09'].value_counts()\n",
    "frequencia_prof_3d.head(5)"
   ]
  },
  {
   "cell_type": "code",
   "execution_count": null,
   "id": "b1ed3510-e9bb-4dea-b242-af9fb48b118d",
   "metadata": {},
   "outputs": [],
   "source": [
    "# Cluster 2\n",
    "cluster = df_original_clustering_3[df_original_clustering_3['cluster'] == 2]\n",
    "frequencia_prof_3d = cluster['prof_3d_09'].value_counts()\n",
    "frequencia_prof_3d.head(5)"
   ]
  },
  {
   "cell_type": "markdown",
   "id": "09d87ef3-d52c-42b9-96af-34be5851a9cd",
   "metadata": {},
   "source": [
    "### <font color='darkred'>Clustering IV </font>\n",
    "#### <font color='black'>Remoção das variáveis que não estão balanceada</font>"
   ]
  },
  {
   "cell_type": "code",
   "execution_count": null,
   "id": "fdc89dd7-23dd-4600-83b0-922220b4cda2",
   "metadata": {},
   "outputs": [],
   "source": [
    "variaveis_clustering_4 = [\n",
    "    'sexo',\n",
    "    'trajetoria_contratos',\n",
    "    'dist_tipocontr',\n",
    "    'crescimento_medio_anual',\n",
    "    'anos_privado',\n",
    "    'trocas_empresa'\n",
    "]\n",
    "\n",
    "df_original_clustering_4 = df_merged[variaveis_clustering_4].copy()\n",
    "df_original_clustering_4.head()"
   ]
  },
  {
   "cell_type": "code",
   "execution_count": null,
   "id": "37f633dc-3af3-4c74-a16e-16dfb945b552",
   "metadata": {},
   "outputs": [],
   "source": [
    "df_clustering_4 = df_original_clustering_4.drop(columns=['sexo', 'trajetoria_contratos'])"
   ]
  },
  {
   "cell_type": "code",
   "execution_count": null,
   "id": "09485a31-6f56-4706-9e3b-deb89eb35009",
   "metadata": {},
   "outputs": [],
   "source": [
    "# Normalizar os dados de 0 a 1\n",
    "scaler = MinMaxScaler()\n",
    "df_clustering_normalized_4 = df_clustering_4.copy()\n",
    "df_clustering_normalized_4[df_clustering_4.columns] = scaler.fit_transform(df_clustering_4)"
   ]
  },
  {
   "cell_type": "code",
   "execution_count": null,
   "id": "ec5e4255-ed6b-4a6e-82af-d0de254e748e",
   "metadata": {},
   "outputs": [],
   "source": [
    "X = df_clustering_normalized_4.values\n",
    "n_clusters_range = range(1, 11)\n",
    "inertia = []\n",
    "\n",
    "for n_clusters in n_clusters_range:\n",
    "    kmeans = KMeans(n_clusters=n_clusters, random_state=0)\n",
    "    kmeans.fit(X)\n",
    "    inertia.append(kmeans.inertia_)\n",
    "\n",
    "plt.figure(figsize=(8, 5))\n",
    "plt.plot(n_clusters_range, inertia, marker='o', color='#0D3B66')\n",
    "plt.xlabel('Número de Clusters')\n",
    "plt.ylabel('Inércia')\n",
    "plt.title('Método do Cotovelo para Determinação do Número Ideal de Clusters')\n",
    "plt.xticks(n_clusters_range)\n",
    "plt.grid(True)\n",
    "plt.show()"
   ]
  },
  {
   "cell_type": "code",
   "execution_count": null,
   "id": "d4ee8f04-4245-4354-91c7-a51801ea34c7",
   "metadata": {},
   "outputs": [],
   "source": [
    "# Aplicar K-Means com o número ideal de clusters\n",
    "kmeans = KMeans(n_clusters=3, random_state=42)\n",
    "clusters = kmeans.fit_predict(df_clustering_normalized_4)\n",
    "df_original_clustering_4['cluster'] = clusters\n",
    "\n",
    "df_original_clustering_4.head()"
   ]
  },
  {
   "cell_type": "code",
   "execution_count": null,
   "id": "23e23791-db64-44d5-b429-166e88887a5e",
   "metadata": {},
   "outputs": [],
   "source": [
    "n_clusters = df_original_clustering_4['cluster'].value_counts().sort_index()\n",
    "n_clusters"
   ]
  },
  {
   "cell_type": "code",
   "execution_count": null,
   "id": "b8ccbcac-b339-48b2-be52-c383af8ee7a9",
   "metadata": {},
   "outputs": [],
   "source": [
    "# K-Means com o número ideal de clusters\n",
    "kmeans = KMeans(n_clusters=3, random_state=42)\n",
    "clusters = kmeans.fit_predict(df_clustering_normalized_4)\n",
    "df_original_clustering_4['cluster'] = clusters\n",
    "\n",
    "df_original_clustering_4.head()"
   ]
  },
  {
   "cell_type": "code",
   "execution_count": null,
   "id": "2ca01daf-5f52-4698-b79b-ef457905899d",
   "metadata": {},
   "outputs": [],
   "source": [
    "clusters = df_original_clustering_4['cluster'].unique()\n",
    "resultados = []\n",
    "\n",
    "# Calcular moda e média para cada cluster\n",
    "for cluster in clusters:\n",
    "    cluster_data = df_original_clustering_4[df_original_clustering_4['cluster'] == cluster]\n",
    "    \n",
    "    moda = cluster_data[['trajetoria_contratos']].mode().iloc[0]\n",
    "    \n",
    "    media_sexo = cluster_data['sexo'].mean()\n",
    "    media_dist_tipocontr = cluster_data['dist_tipocontr'].mean()\n",
    "    media_anos_privado = cluster_data['anos_privado'].mean()\n",
    "    media_trocas_empresa = cluster_data['trocas_empresa'].mean()\n",
    "    media_crescimento_medio_anual = cluster_data['crescimento_medio_anual'].mean()\n",
    "    \n",
    "    resultados.append({\n",
    "        'Cluster': cluster,\n",
    "        'Sexo': media_sexo,\n",
    "        'trajetoria_contratos': moda['trajetoria_contratos'],\n",
    "        'Dist_Tipocontr': media_dist_tipocontr,\n",
    "        'Anos_Privado': media_anos_privado,\n",
    "        'Trocas_Empresa': media_trocas_empresa,\n",
    "        'Crescimento_Salarial': media_crescimento_medio_anual\n",
    "    })\n",
    "\n",
    "resultados_df = pd.DataFrame(resultados)\n",
    "resultados_df = resultados_df.sort_values(by='Cluster').reset_index(drop=True)\n",
    "\n",
    "resultados_df[['Sexo', 'Dist_Tipocontr', 'Anos_Privado', 'Trocas_Empresa', 'Crescimento_Salarial']] = \\\n",
    "resultados_df[['Sexo', 'Dist_Tipocontr', 'Anos_Privado', 'Trocas_Empresa', 'Crescimento_Salarial']].round(2)\n",
    "\n",
    "resultados_df"
   ]
  },
  {
   "cell_type": "markdown",
   "id": "24cd9f85-a889-44ac-bce1-22f55bb874b1",
   "metadata": {},
   "source": [
    "### <font color='darkred'>Clustering IV </font>\n",
    "#### <font color='black'>Variáveis Mais Frequentes + habil_09</font>"
   ]
  },
  {
   "cell_type": "code",
   "execution_count": null,
   "id": "ea2c192b-85c4-4e7b-8255-f6a32e263ab1",
   "metadata": {},
   "outputs": [],
   "source": [
    "variaveis_clustering_4 = [\n",
    "    'sexo',\n",
    "    'trajetoria_contratos',\n",
    "    'dist_tipocontr',\n",
    "    'crescimento_medio_anual',\n",
    "    'cae_mais_frequente',\n",
    "    'prof_3d_mais_frequente',\n",
    "    'habil1_09',\n",
    "    'anos_privado',\n",
    "    'trocas_empresa'\n",
    "]\n",
    "\n",
    "df_original_clustering_4 = df_merged[variaveis_clustering_4].copy()\n",
    "df_original_clustering_4.head()"
   ]
  },
  {
   "cell_type": "code",
   "execution_count": null,
   "id": "8c19acda-4a8c-4e79-8354-b17f553776ff",
   "metadata": {},
   "outputs": [],
   "source": [
    "df_clustering_4 = df_original_clustering_4.drop(columns=['sexo', 'trajetoria_contratos'])"
   ]
  },
  {
   "cell_type": "code",
   "execution_count": null,
   "id": "31bd92a1-893e-416f-a6e1-951f184dad77",
   "metadata": {},
   "outputs": [],
   "source": [
    "# Normalizar os dados de 0 a 1\n",
    "scaler = MinMaxScaler()\n",
    "df_clustering_normalized_4 = df_clustering_4.copy()\n",
    "df_clustering_normalized_4[df_clustering_4.columns] = scaler.fit_transform(df_clustering_4)"
   ]
  },
  {
   "cell_type": "code",
   "execution_count": null,
   "id": "7a6dd029-74b1-4f25-b021-f0db62b311f2",
   "metadata": {},
   "outputs": [],
   "source": [
    "X = df_clustering_normalized_4.values\n",
    "\n",
    "n_clusters_range = range(1, 11) \n",
    "inertia = []\n",
    "\n",
    "# Calcular a inércia para cada número de clusters\n",
    "for n_clusters in n_clusters_range:\n",
    "    kmeans = KMeans(n_clusters=n_clusters, random_state=0)\n",
    "    kmeans.fit(X)\n",
    "    inertia.append(kmeans.inertia_)\n",
    "\n",
    "plt.figure(figsize=(8, 5))\n",
    "plt.plot(n_clusters_range, inertia, marker='o', color='#0D3B66')\n",
    "plt.xlabel('Número de Clusters')\n",
    "plt.ylabel('Inércia')\n",
    "plt.title('Método do Cotovelo para Determinação do Número Ideal de Clusters')\n",
    "plt.xticks(n_clusters_range)\n",
    "plt.grid(True)\n",
    "plt.show()"
   ]
  },
  {
   "cell_type": "code",
   "execution_count": null,
   "id": "a4b1d253-be22-4f1d-9e70-71701461ef37",
   "metadata": {},
   "outputs": [],
   "source": [
    "X = df_clustering_normalized_4.values\n",
    "\n",
    "n_clusters_range = range(2, 11)  \n",
    "silhouette_scores = []\n",
    "\n",
    "# Calculo do índice da silhueta para cada número de clusters\n",
    "for n_clusters in n_clusters_range:\n",
    "    kmeans = KMeans(n_clusters=n_clusters, random_state=0)\n",
    "    cluster_labels = kmeans.fit_predict(X)\n",
    "    silhouette_avg = silhouette_score(X, cluster_labels)\n",
    "    silhouette_scores.append(silhouette_avg)\n",
    "\n",
    "max_silhouette_score = max(silhouette_scores)\n",
    "optimal_clusters = n_clusters_range[silhouette_scores.index(max_silhouette_score)]\n",
    "\n",
    "print(f\"O índice de silhueta mais alto é {max_silhouette_score:.2f}, obtido com {optimal_clusters} clusters.\")\n",
    "\n",
    "\n",
    "plt.figure(figsize=(8, 6))\n",
    "plt.plot(n_clusters_range, silhouette_scores, marker='o')\n",
    "plt.xlabel('Número de Clusters')\n",
    "plt.ylabel('Índice da Silhueta')\n",
    "plt.title('Método do Índice da Silhueta para Determinação do Número Ideal de Clusters')\n",
    "plt.xticks(n_clusters_range)\n",
    "plt.grid(True)\n",
    "plt.text(optimal_clusters, max_silhouette_score, f\"Máximo: {max_silhouette_score:.2f}\", \n",
    "         horizontalalignment='left', fontsize=10, color='red')"
   ]
  },
  {
   "cell_type": "code",
   "execution_count": null,
   "id": "ff5c5201-dae7-4d45-8e26-bf6ef7eed338",
   "metadata": {},
   "outputs": [],
   "source": [
    "kmeans = KMeans(n_clusters=3, random_state=42)\n",
    "clusters = kmeans.fit_predict(df_clustering_normalized_4)\n",
    "\n",
    "df_original_clustering_4['cluster'] = clusters\n",
    "\n",
    "df_original_clustering_4.head()"
   ]
  },
  {
   "cell_type": "markdown",
   "id": "e19ae27f-e55a-4093-839a-2379e83be9e2",
   "metadata": {},
   "source": [
    "#### Número de Trabalhadores por Cluster "
   ]
  },
  {
   "cell_type": "code",
   "execution_count": null,
   "id": "0502b022-9235-4a03-a4b3-73fa0ef519c9",
   "metadata": {},
   "outputs": [],
   "source": [
    "n_clusters = df_original_clustering_4['cluster'].value_counts().sort_index()\n",
    "n_clusters"
   ]
  },
  {
   "cell_type": "markdown",
   "id": "4d2205d9-f356-43dd-943a-1046a3ac82c2",
   "metadata": {},
   "source": [
    "#### Resumo das Características de Cada Cluster\n",
    "- Usando a moda nas variáveis trajetoria_contratos, cae_mais_frequente e prof_3d_mais_frequente;"
   ]
  },
  {
   "cell_type": "code",
   "execution_count": null,
   "id": "d5342212-31f6-4840-8e22-e4b29f759556",
   "metadata": {},
   "outputs": [],
   "source": [
    "clusters = df_original_clustering_4['cluster'].unique()\n",
    "resultados = []\n",
    "\n",
    "# Calcular moda e média para cada cluster\n",
    "for cluster in clusters:\n",
    "    cluster_data = df_original_clustering_4[df_original_clustering_4['cluster'] == cluster]\n",
    "    \n",
    "    moda = cluster_data[['trajetoria_contratos', 'cae_mais_frequente',\n",
    "                         'prof_3d_mais_frequente']].mode().iloc[0]\n",
    "    \n",
    "    media_sexo = cluster_data['sexo'].mean()\n",
    "    media_dist_tipocontr = cluster_data['dist_tipocontr'].mean()\n",
    "    media_aumentou_habil = cluster_data['habil1_09'].mean()\n",
    "    media_anos_privado = cluster_data['anos_privado'].mean()\n",
    "    media_trocas_empresa = cluster_data['trocas_empresa'].mean()\n",
    "    media_crescimento_medio_anual = cluster_data['crescimento_medio_anual'].mean()\n",
    "    \n",
    "    resultados.append({\n",
    "        'Cluster': cluster,\n",
    "        'Sexo': media_sexo,\n",
    "        'trajetoria_contratos': moda['trajetoria_contratos'],\n",
    "        'Dist_Tipocontr': media_dist_tipocontr,\n",
    "        'CAE_Mais_Frequente': moda['cae_mais_frequente'],\n",
    "        'Prof_3D_Mais_Frequente': moda['prof_3d_mais_frequente'],\n",
    "        'habil1_09': media_aumentou_habil,\n",
    "        'Anos_Privado': media_anos_privado,\n",
    "        'Trocas_Empresa': media_trocas_empresa,\n",
    "        'Crescimento_Salarial': media_crescimento_medio_anual\n",
    "    })\n",
    "\n",
    "resultados_df = pd.DataFrame(resultados)\n",
    "resultados_df = resultados_df.sort_values(by='Cluster').reset_index(drop=True)\n",
    "\n",
    "resultados_df[['Sexo', 'Dist_Tipocontr', 'habil1_09', 'Anos_Privado', 'Trocas_Empresa', 'Crescimento_Salarial']] = \\\n",
    "resultados_df[['Sexo', 'Dist_Tipocontr', 'habil1_09', 'Anos_Privado', 'Trocas_Empresa', 'Crescimento_Salarial']].round(2)\n",
    "\n",
    "resultados_df"
   ]
  },
  {
   "cell_type": "code",
   "execution_count": null,
   "id": "80cf1f1b-c777-4135-b8df-bb7d990ac3bc",
   "metadata": {},
   "outputs": [],
   "source": [
    "# Cluster 0\n",
    "cluster = df_original_clustering_4[df_original_clustering_4['cluster'] == 0]\n",
    "frequencia_prof_3d = cluster['prof_3d_mais_frequente'].value_counts()\n",
    "frequencia_prof_3d.head(5)"
   ]
  },
  {
   "cell_type": "code",
   "execution_count": null,
   "id": "b80a9f4f-8e84-4a82-9ea9-195c01141517",
   "metadata": {},
   "outputs": [],
   "source": [
    "# Cluster 1\n",
    "cluster = df_original_clustering_4[df_original_clustering_4['cluster'] == 1]\n",
    "frequencia_prof_3d = cluster['prof_3d_mais_frequente'].value_counts()\n",
    "frequencia_prof_3d.head(5)"
   ]
  },
  {
   "cell_type": "code",
   "execution_count": null,
   "id": "697d7860-51de-465c-826f-a82e746269f1",
   "metadata": {},
   "outputs": [],
   "source": [
    "# Cluster 2\n",
    "cluster = df_original_clustering_4[df_original_clustering_4['cluster'] == 2]\n",
    "frequencia_prof_3d = cluster['prof_3d_mais_frequente'].value_counts()\n",
    "frequencia_prof_3d.head(5)"
   ]
  },
  {
   "cell_type": "markdown",
   "id": "df8dd694-ed75-45bb-a6b6-3a3a8df79bb9",
   "metadata": {},
   "source": [
    "### <font color='darkred'>Clustering V</font>\n",
    "#### <font color='black'>Peso na Variável aumentou_habil + Variáveis Mais Frequentes</font>"
   ]
  },
  {
   "cell_type": "code",
   "execution_count": null,
   "id": "d038f103-9c60-4553-9d0a-fe822329197d",
   "metadata": {},
   "outputs": [],
   "source": [
    "variaveis_clustering_5 = [\n",
    "    'sexo',\n",
    "    'trajetoria_contratos',\n",
    "    'dist_tipocontr',\n",
    "    'crescimento_medio_anual',\n",
    "    'cae_mais_frequente',\n",
    "    'prof_3d_mais_frequente',\n",
    "    'aumentou_habil',\n",
    "    'anos_privado',\n",
    "    'trocas_empresa'\n",
    "]\n",
    "\n",
    "df_original_clustering_5 = df_merged[variaveis_clustering_5].copy()\n",
    "df_original_clustering_5.head()"
   ]
  },
  {
   "cell_type": "code",
   "execution_count": null,
   "id": "27851878-b7b9-468e-83d8-2347680bdf00",
   "metadata": {},
   "outputs": [],
   "source": [
    "# Ajustar o impacto de 'aumentou_habil'\n",
    "df_clustering_5 = df_original_clustering_5.copy()\n",
    "df_clustering_5['aumentou_habil'] *= 0.5  # Reduzir o impacto da variável"
   ]
  },
  {
   "cell_type": "code",
   "execution_count": null,
   "id": "5bd67c80-7a74-4541-ad43-cc0398942024",
   "metadata": {},
   "outputs": [],
   "source": [
    "scaler = MinMaxScaler()\n",
    "df_clustering_normalized_5 = pd.DataFrame(scaler.fit_transform(df_clustering_5), columns=df_clustering_5.columns)"
   ]
  },
  {
   "cell_type": "code",
   "execution_count": null,
   "id": "89c25e1d-02f3-42d7-bdc4-8d97e91fbd3c",
   "metadata": {},
   "outputs": [],
   "source": [
    "X = df_clustering_normalized_5.values\n",
    "\n",
    "n_clusters_range = range(1, 11) \n",
    "inertia = []\n",
    "\n",
    "# Calculo da inércia para cada número de clusters\n",
    "for n_clusters in n_clusters_range:\n",
    "    kmeans = KMeans(n_clusters=n_clusters, random_state=0)\n",
    "    kmeans.fit(X)\n",
    "    inertia.append(kmeans.inertia_)\n",
    "\n",
    "plt.figure(figsize=(8, 5))\n",
    "plt.plot(n_clusters_range, inertia, marker='o', color='#0D3B66')\n",
    "plt.xlabel('Número de Clusters')\n",
    "plt.ylabel('Inércia')\n",
    "plt.title('Método do Cotovelo para Determinação do Número Ideal de Clusters')\n",
    "plt.xticks(n_clusters_range)\n",
    "plt.grid(True)\n",
    "plt.show()"
   ]
  },
  {
   "cell_type": "code",
   "execution_count": null,
   "id": "c6028ce6-61ef-4f9a-8a41-495aa16ddb20",
   "metadata": {},
   "outputs": [],
   "source": [
    "X = df_clustering_normalized_5.values\n",
    "\n",
    "n_clusters_range = range(2, 11)  \n",
    "silhouette_scores = []\n",
    "\n",
    "# Calculo do índice da silhueta para cada número de clusters\n",
    "for n_clusters in n_clusters_range:\n",
    "    kmeans = KMeans(n_clusters=n_clusters, random_state=0)\n",
    "    cluster_labels = kmeans.fit_predict(X)\n",
    "    silhouette_avg = silhouette_score(X, cluster_labels)\n",
    "    silhouette_scores.append(silhouette_avg)\n",
    "\n",
    "max_silhouette_score = max(silhouette_scores)\n",
    "optimal_clusters = n_clusters_range[silhouette_scores.index(max_silhouette_score)]\n",
    "\n",
    "print(f\"O índice de silhueta mais alto é {max_silhouette_score:.2f}, obtido com {optimal_clusters} clusters.\")\n",
    "\n",
    "\n",
    "plt.figure(figsize=(8, 6))\n",
    "plt.plot(n_clusters_range, silhouette_scores, marker='o')\n",
    "plt.xlabel('Número de Clusters')\n",
    "plt.ylabel('Índice da Silhueta')\n",
    "plt.title('Método do Índice da Silhueta para Determinação do Número Ideal de Clusters')\n",
    "plt.xticks(n_clusters_range)\n",
    "plt.grid(True)\n",
    "plt.text(optimal_clusters, max_silhouette_score, f\"Máximo: {max_silhouette_score:.2f}\", \n",
    "         horizontalalignment='left', fontsize=10, color='red')"
   ]
  },
  {
   "cell_type": "code",
   "execution_count": null,
   "id": "337c45bc-4e7b-4fb9-aa11-bb886268cf7e",
   "metadata": {},
   "outputs": [],
   "source": [
    "kmeans = KMeans(n_clusters=6, random_state=42)\n",
    "clusters = kmeans.fit_predict(df_clustering_normalized_5)\n",
    "\n",
    "# Adicionar a coluna de clusters ao DataFrame original\n",
    "df_original_clustering_5['cluster'] = clusters\n",
    "df_original_clustering_5.head()"
   ]
  },
  {
   "cell_type": "markdown",
   "id": "21145517-d59f-4439-bb9e-fadacb047fd6",
   "metadata": {},
   "source": [
    "#### Número de Trabalhadores por Cluster "
   ]
  },
  {
   "cell_type": "code",
   "execution_count": null,
   "id": "d9fdce7f-b109-4b2a-b76b-0791e4c9fa0b",
   "metadata": {},
   "outputs": [],
   "source": [
    "n_clusters = df_original_clustering_5['cluster'].value_counts().sort_index()\n",
    "n_clusters"
   ]
  },
  {
   "cell_type": "markdown",
   "id": "483e1840-2b19-4df7-a9b2-615dc6769e16",
   "metadata": {},
   "source": [
    "#### Resumo das Características de Cada Cluster\n",
    "- Usando a moda nas variáveis trajetoria_contratos, cae_mais_frequente e prof_3d_mais_frequente;"
   ]
  },
  {
   "cell_type": "code",
   "execution_count": null,
   "id": "06d2e609-04c6-425e-94e1-54a20280c1a4",
   "metadata": {
    "scrolled": true
   },
   "outputs": [],
   "source": [
    "clusters = df_original_clustering_5['cluster'].unique()\n",
    "\n",
    "resultados = []\n",
    "\n",
    "# Calcular moda e média para cada cluster\n",
    "for cluster in clusters:\n",
    "    cluster_data = df_original_clustering_5[df_original_clustering_5['cluster'] == cluster]\n",
    "    \n",
    "    moda = cluster_data[['trajetoria_contratos', 'cae_mais_frequente',\n",
    "                         'prof_3d_mais_frequente']].mode().iloc[0]\n",
    "    \n",
    "    media_sexo = cluster_data['sexo'].mean()\n",
    "    media_dist_tipocontr = cluster_data['dist_tipocontr'].mean()\n",
    "    media_aumentou_habil = cluster_data['aumentou_habil'].mean()\n",
    "    media_anos_privado = cluster_data['anos_privado'].mean()\n",
    "    media_trocas_empresa = cluster_data['trocas_empresa'].mean()\n",
    "    media_crescimento_medio_anual_zscore = cluster_data['crescimento_medio_anual'].mean()\n",
    "    \n",
    "    resultados.append({\n",
    "        'Cluster': cluster,\n",
    "        'Sexo': media_sexo,\n",
    "        'trajetoria_contratos': moda['trajetoria_contratos'],\n",
    "        'Dist_Tipocontr': media_dist_tipocontr,\n",
    "        'CAE_Mais_Frequente': moda['cae_mais_frequente'],\n",
    "        'Prof_3D_Mais_Frequente': moda['prof_3d_mais_frequente'],\n",
    "        'Aumentou_Habil': media_aumentou_habil,\n",
    "        'Anos_Privado': media_anos_privado,\n",
    "        'Trocas_Empresa': media_trocas_empresa,\n",
    "        'Crescimento_Salarial': media_crescimento_medio_anual_zscore\n",
    "    })\n",
    "\n",
    "resultados_df = pd.DataFrame(resultados)\n",
    "resultados_df = resultados_df.sort_values(by='Cluster').reset_index(drop=True)\n",
    "\n",
    "resultados_df[['Sexo', 'Dist_Tipocontr', 'Aumentou_Habil', 'Anos_Privado', 'Trocas_Empresa', 'Crescimento_Salarial']] = \\\n",
    "resultados_df[['Sexo', 'Dist_Tipocontr', 'Aumentou_Habil', 'Anos_Privado', 'Trocas_Empresa', 'Crescimento_Salarial']].round(2)\n",
    "\n",
    "resultados_df"
   ]
  },
  {
   "cell_type": "markdown",
   "id": "cc7caadf-3118-406d-99df-ef7dec119842",
   "metadata": {},
   "source": [
    "---\n",
    "Beatriz Lapa - Tese de Mestrado"
   ]
  }
 ],
 "metadata": {
  "kernelspec": {
   "display_name": "Python 3 (ipykernel)",
   "language": "python",
   "name": "python3"
  },
  "language_info": {
   "codemirror_mode": {
    "name": "ipython",
    "version": 3
   },
   "file_extension": ".py",
   "mimetype": "text/x-python",
   "name": "python",
   "nbconvert_exporter": "python",
   "pygments_lexer": "ipython3",
   "version": "3.12.4"
  }
 },
 "nbformat": 4,
 "nbformat_minor": 5
}
